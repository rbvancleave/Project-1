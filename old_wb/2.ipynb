{
 "cells": [
  {
   "cell_type": "code",
   "execution_count": 1,
   "metadata": {},
   "outputs": [],
   "source": [
    "#import dependencies\n",
    "import pandas as pd\n",
    "import matplotlib.pyplot as plt\n",
    "import numpy as np\n",
    "import scipy as sp\n",
    "import requests\n",
    "import json"
   ]
  },
  {
   "cell_type": "code",
   "execution_count": 2,
   "metadata": {},
   "outputs": [
    {
     "ename": "NameError",
     "evalue": "name 'olympics_data' is not defined",
     "output_type": "error",
     "traceback": [
      "\u001b[1;31m---------------------------------------------------------------------------\u001b[0m",
      "\u001b[1;31mNameError\u001b[0m                                 Traceback (most recent call last)",
      "\u001b[1;32m<ipython-input-2-3eaa03c2dfb0>\u001b[0m in \u001b[0;36m<module>\u001b[1;34m\u001b[0m\n\u001b[0;32m      1\u001b[0m \u001b[1;31m#load in csv\u001b[0m\u001b[1;33m\u001b[0m\u001b[1;33m\u001b[0m\u001b[1;33m\u001b[0m\u001b[0m\n\u001b[0;32m      2\u001b[0m \u001b[0mindex_us_pts\u001b[0m \u001b[1;33m=\u001b[0m \u001b[0mpd\u001b[0m\u001b[1;33m.\u001b[0m\u001b[0mread_csv\u001b[0m\u001b[1;33m(\u001b[0m\u001b[1;34m\"Summer-Olympic-medals-1976-to-2008.csv\"\u001b[0m\u001b[1;33m,\u001b[0m \u001b[0mencoding\u001b[0m\u001b[1;33m=\u001b[0m\u001b[1;34m\"latin-1\"\u001b[0m\u001b[1;33m)\u001b[0m\u001b[1;33m\u001b[0m\u001b[1;33m\u001b[0m\u001b[0m\n\u001b[1;32m----> 3\u001b[1;33m \u001b[0molympics_data\u001b[0m\u001b[1;33m.\u001b[0m\u001b[0mhead\u001b[0m\u001b[1;33m(\u001b[0m\u001b[1;33m)\u001b[0m\u001b[1;33m\u001b[0m\u001b[1;33m\u001b[0m\u001b[0m\n\u001b[0m",
      "\u001b[1;31mNameError\u001b[0m: name 'olympics_data' is not defined"
     ]
    }
   ],
   "source": [
    "#load in csv\n",
    "index_us_pts = pd.read_csv(\"Summer-Olympic-medals-1976-to-2008.csv\", encoding=\"latin-1\")\n",
    "olympics_data.head()"
   ]
  },
  {
   "cell_type": "code",
   "execution_count": null,
   "metadata": {},
   "outputs": [],
   "source": [
    "# Assign Medal Counts\n",
    "medal_dict = {'Gold':3,'Silver':2,'Bronze':1}\n",
    "olympics_data['Points'] = olympics_data['Medal'].map(medal_dict)"
   ]
  },
  {
   "cell_type": "code",
   "execution_count": null,
   "metadata": {},
   "outputs": [],
   "source": [
    "# Load in Host Country CSV, merge with Olympics Data Frame\n",
    "host_country_df = pd.read_csv('Host_Countries.csv')\n",
    "host_country_df = host_country_df[['Year','Country']]\n",
    "host_country_df.rename(columns={'Country':'Host Country'},inplace=True)\n",
    "olympics_data = olympics_data.merge(host_country_df,on='Year')"
   ]
  },
  {
   "cell_type": "code",
   "execution_count": null,
   "metadata": {},
   "outputs": [],
   "source": []
  },
  {
   "cell_type": "code",
   "execution_count": null,
   "metadata": {},
   "outputs": [],
   "source": [
    "# Get pt Total DF by year\n",
    "pt_total_df = olympics_data.groupby('Year').sum()"
   ]
  },
  {
   "cell_type": "code",
   "execution_count": null,
   "metadata": {},
   "outputs": [],
   "source": [
    "# Find Host Years and Host City, Country\n",
    "\n",
    "host_years = olympics_data['Year'].unique()\n",
    "\n",
    "year_countries_dict = {}\n",
    "for i in host_years:\n",
    "    if i == 1988.0:\n",
    "        year_countries_dict[i] = 'Korea, South'\n",
    "    elif i == 1980.0:\n",
    "        year_countries_dict[i] = 'Soviet Union'\n",
    "    else:\n",
    "        year_countries_dict[i] = olympics_data[olympics_data['Year']==i]['Host Country'].unique()[0]\n",
    "        \n",
    "# Create DF with only host countries\n",
    "\n",
    "host_countries = []\n",
    "for k,v in year_countries_dict.items():\n",
    "    host_countries.append(v)\n",
    "\n",
    "host_df = olympics_data[olympics_data['Country'].isin(host_countries)]\n",
    "\n",
    "# Build Data Frame with a Year index and Host Country Point Totals as Columns\n",
    "\n",
    "frame = pd.DataFrame(index=host_years)\n",
    "\n",
    "for year in host_years:\n",
    "    country = year_countries_dict[year]\n",
    "\n",
    "    to_add = host_df[host_df['Country']==country].groupby('Year').sum()\n",
    "    to_add.rename(columns={'Points':country},level=0,inplace=True)\n",
    "    frame = frame.merge(to_add,how='outer',left_index=True,right_index=True)\n",
    "\n",
    "frame.rename(columns={'United States_x':'United States'},inplace=True)\n",
    "frame = frame[['Canada','Soviet Union','United States','Korea, South','Spain','Australia','Greece','China']]\n",
    "frame"
   ]
  },
  {
   "cell_type": "code",
   "execution_count": null,
   "metadata": {},
   "outputs": [],
   "source": [
    "# Add Point Total COlumn\n",
    "frame_pt = frame.merge(pt_total_df,left_index=True,right_index=True)"
   ]
  },
  {
   "cell_type": "code",
   "execution_count": null,
   "metadata": {},
   "outputs": [],
   "source": [
    "host_country_df['City'] = olympics_data['City'].unique()\n",
    "host_country_df['Search'] = host_country_df['City']+', '+host_country_df['Host Country']"
   ]
  },
  {
   "cell_type": "code",
   "execution_count": null,
   "metadata": {},
   "outputs": [],
   "source": [
    "# Get Lat and Long\n",
    "\n",
    "from config import g_key\n",
    "\n",
    "city_dict = {}\n",
    "\n",
    "search_items = []\n",
    "for i in host_country_df['Search'].values:\n",
    "    search_items.append(i)\n",
    "\n",
    "# Build URL using the Google Maps API\n",
    "base_url = \"https://maps.googleapis.com/maps/api/geocode/json\"\n",
    "\n",
    "for item in search_items:\n",
    "    \n",
    "    params = {\"address\": item, \"key\": g_key}\n",
    "    \n",
    "    response = requests.get(base_url, params=params)\n",
    "\n",
    "    geo = response.json()\n",
    "\n",
    "    lat = geo[\"results\"][0][\"geometry\"][\"location\"][\"lat\"]\n",
    "    lng = geo[\"results\"][0][\"geometry\"][\"location\"][\"lng\"]\n",
    "\n",
    "    city_dict[item] = (lat,lng)"
   ]
  },
  {
   "cell_type": "code",
   "execution_count": null,
   "metadata": {},
   "outputs": [],
   "source": [
    "host_country_df['LAT'] = host_country_df['Search'].apply(lambda x: city_dict[x][0])\n",
    "host_country_df['LNG'] = host_country_df['Search'].apply(lambda x: city_dict[x][1])"
   ]
  },
  {
   "cell_type": "code",
   "execution_count": null,
   "metadata": {},
   "outputs": [],
   "source": [
    "us_pts = [337,1,784,411,452,628,574,571,674]"
   ]
  },
  {
   "cell_type": "code",
   "execution_count": null,
   "metadata": {},
   "outputs": [],
   "source": [
    "tot = pt_total_df.values"
   ]
  },
  {
   "cell_type": "code",
   "execution_count": null,
   "metadata": {},
   "outputs": [],
   "source": [
    "new = zip(us_pts,tot)"
   ]
  },
  {
   "cell_type": "code",
   "execution_count": null,
   "metadata": {},
   "outputs": [],
   "source": [
    "us_percentage = []\n",
    "\n",
    "for i in new:\n",
    "    g = i[0]\n",
    "    h = i[1][0]\n",
    "    new = g/h\n",
    "    us_percentage.append(new)"
   ]
  },
  {
   "cell_type": "code",
   "execution_count": null,
   "metadata": {},
   "outputs": [],
   "source": []
  },
  {
   "cell_type": "code",
   "execution_count": null,
   "metadata": {},
   "outputs": [],
   "source": [
    "host_country_df"
   ]
  },
  {
   "cell_type": "code",
   "execution_count": null,
   "metadata": {},
   "outputs": [],
   "source": [
    "us_pts = host_df[host_df['Country']=='United States'].groupby('Year').sum()\n",
    "\n",
    "us_pts = [337,1,784,411,452,628,574,571,674]\n",
    "av = sum(us_pts)/len(us_pts)\n",
    "index_us_pts = []\n",
    "\n",
    "\n",
    "\n",
    "index_us_pts = []\n",
    "for i in us_pts:\n",
    "    pt = i/av\n",
    "    index_us_pts.append(pt)\n",
    "    \n",
    "index_us_pts  "
   ]
  },
  {
   "cell_type": "code",
   "execution_count": null,
   "metadata": {},
   "outputs": [],
   "source": [
    "av = sum(us_pts)/len(us_pts)\n",
    "av"
   ]
  },
  {
   "cell_type": "code",
   "execution_count": null,
   "metadata": {
    "scrolled": true
   },
   "outputs": [],
   "source": [
    "import gmaps\n",
    "\n",
    "gmaps.configure(api_key=g_key)\n",
    "locations = host_country_df[[\"LAT\", \"LNG\"]]\n",
    "points = frame_pt['Points'].values\n",
    "\n",
    "# Plot Heatmap\n",
    "fig = gmaps.figure()\n",
    "fig.figzize=(15,5)\n",
    "\n",
    "# Create heat layer\n",
    "heat_layer = gmaps.heatmap_layer(locations, weights=us_percentage,\n",
    "                                 dissipating=False, max_intensity=1,\n",
    "                                 point_radius=5)\n",
    "# Add layer\n",
    "fig.add_layer(heat_layer)\n",
    "\n",
    "# Display figure\n",
    "fig"
   ]
  },
  {
   "cell_type": "code",
   "execution_count": null,
   "metadata": {},
   "outputs": [],
   "source": [
    "mean_pts = [70.875,728,553.875,115,553.875,74.11111,166.666667,18,199.857143]"
   ]
  },
  {
   "cell_type": "code",
   "execution_count": null,
   "metadata": {},
   "outputs": [],
   "source": [
    "frame.describe().T['max']"
   ]
  },
  {
   "cell_type": "code",
   "execution_count": null,
   "metadata": {},
   "outputs": [],
   "source": [
    "x = ['Canada', 'Soviet Union', 'United States', 'Korea, South', 'Spain',\n",
    "       'Australia', 'Greece', 'China']\n",
    "y = [28,953,784,170,174,372,65,385]\n",
    "\n",
    "frame_pt[frame_pt.columns[:-1]].plot(kind='box',figsize=(15,5));\n",
    "plt.plot([1,2,3,4,5,6,7,8],y,'bo');"
   ]
  },
  {
   "cell_type": "code",
   "execution_count": null,
   "metadata": {},
   "outputs": [],
   "source": [
    "frame.columns"
   ]
  },
  {
   "cell_type": "code",
   "execution_count": null,
   "metadata": {},
   "outputs": [],
   "source": [
    "frame"
   ]
  },
  {
   "cell_type": "code",
   "execution_count": null,
   "metadata": {},
   "outputs": [],
   "source": []
  },
  {
   "cell_type": "code",
   "execution_count": null,
   "metadata": {},
   "outputs": [],
   "source": [
    "frame"
   ]
  },
  {
   "cell_type": "code",
   "execution_count": null,
   "metadata": {},
   "outputs": [],
   "source": [
    "sov_union = olympics_data[olympics_data['Country']=='Soviet Union'].groupby('Year').sum()\n",
    "russia = olympics_data[olympics_data['Country']=='Russia'].groupby('Year').sum()\n",
    "unif_team = olympics_data[olympics_data['Country']=='Unified team'].groupby('Year').sum()\n",
    "\n",
    "sov_union_russia = sov_union.append(russia)\n",
    "sov_union_russia = sov_union_russia.append(unif_team)\n",
    "sov_union_russia = sov_union_russia.sort_index()"
   ]
  },
  {
   "cell_type": "code",
   "execution_count": null,
   "metadata": {},
   "outputs": [],
   "source": []
  },
  {
   "cell_type": "code",
   "execution_count": null,
   "metadata": {},
   "outputs": [],
   "source": [
    "x = 0\n",
    "l = sov_union_russia['Points'].values\n",
    "sov_rus_pts = []\n",
    "\n",
    "for i in range(2):\n",
    "    sov_rus_pts.append(float(l[i]))\n",
    "sov_rus_pts.append(np.nan)\n",
    "for i in range(2,8):\n",
    "    sov_rus_pts.append(float(l[i]))\n",
    "sov_rus_pts\n"
   ]
  },
  {
   "cell_type": "code",
   "execution_count": null,
   "metadata": {},
   "outputs": [],
   "source": [
    "frame['Soviet Union/Russia'] = sov_rus_pts"
   ]
  },
  {
   "cell_type": "code",
   "execution_count": null,
   "metadata": {},
   "outputs": [],
   "source": [
    "frame = frame[['Canada', 'Soviet Union/Russia', 'United States', 'Korea, South', 'Spain',\n",
    "       'Australia', 'Greece', 'China']]"
   ]
  },
  {
   "cell_type": "code",
   "execution_count": null,
   "metadata": {},
   "outputs": [],
   "source": [
    "frame"
   ]
  },
  {
   "cell_type": "code",
   "execution_count": null,
   "metadata": {},
   "outputs": [],
   "source": []
  },
  {
   "cell_type": "code",
   "execution_count": null,
   "metadata": {},
   "outputs": [],
   "source": [
    "x = ['Canada', 'Soviet Union/Russia', 'United States', 'Korea, South', 'Spain',\n",
    "       'Australia', 'Greece', 'China']\n",
    "y = [28,953,784,628,170,174,372,65,385]\n",
    "\n",
    "frame[frame.columns].plot(kind='box',figsize=(15,5))\n",
    "plt.title('Medal Point Performance Box Plot Highlighted by Host Year')\n",
    "plt.ylabel('Medal Points Awarded')\n",
    "# plt.xlabel('Host Countries from 1976 - 2008')\n",
    "plt.plot([1,2,3,3,4,5,6,7,8],y,'bo');\n",
    "\n",
    "plt.legend(labels='O'[0],title='Year Hosted');\n"
   ]
  },
  {
   "cell_type": "code",
   "execution_count": null,
   "metadata": {},
   "outputs": [],
   "source": [
    "frame"
   ]
  },
  {
   "cell_type": "code",
   "execution_count": null,
   "metadata": {},
   "outputs": [],
   "source": [
    "frame.columns"
   ]
  },
  {
   "cell_type": "code",
   "execution_count": null,
   "metadata": {},
   "outputs": [],
   "source": [
    "frame[frame.columns]"
   ]
  },
  {
   "cell_type": "code",
   "execution_count": null,
   "metadata": {},
   "outputs": [],
   "source": [
    "frame['Canada'].mean()"
   ]
  },
  {
   "cell_type": "code",
   "execution_count": null,
   "metadata": {},
   "outputs": [],
   "source": [
    "frame.columns"
   ]
  },
  {
   "cell_type": "code",
   "execution_count": null,
   "metadata": {},
   "outputs": [],
   "source": [
    "new_dict = {'Canada':[], 'Soviet Union/Russia':[], 'United States':[], 'Korea, South':[], 'Spain':[],\n",
    "       'Australia':[], 'Greece':[], 'China':[]}\n",
    "\n",
    "for col in frame.columns:\n",
    "    avg = frame[col].mean()\n",
    "    for line in frame[col]:\n",
    "        new_dict[col].append(line/avg)\n",
    "new_dict"
   ]
  },
  {
   "cell_type": "code",
   "execution_count": null,
   "metadata": {},
   "outputs": [],
   "source": [
    "pd.DataFrame(new_dict).plot(kind='box',figsize=(15,5))"
   ]
  },
  {
   "cell_type": "code",
   "execution_count": null,
   "metadata": {},
   "outputs": [],
   "source": [
    "host_year = {1976:'Canada',1980:'Soviet Union/Russia',1984:'United States',1988:'Korea, South',1992:'Spain',1996:'United States',\n",
    "             2000:'Australia',2004:'Greece', 2008:'China'}\n",
    "\n",
    "for country in ['Canada', 'Soviet Union/Russia', 'United States', 'Korea, South',\n",
    "       'Spain', 'Australia', 'Greece', 'China']:\n",
    "    frame[country]\n",
    "frame\n",
    "    "
   ]
  },
  {
   "cell_type": "code",
   "execution_count": null,
   "metadata": {},
   "outputs": [],
   "source": [
    "frame['Canada'].loc(0)"
   ]
  },
  {
   "cell_type": "code",
   "execution_count": null,
   "metadata": {},
   "outputs": [],
   "source": [
    "frame['Canada'][0:]"
   ]
  },
  {
   "cell_type": "code",
   "execution_count": null,
   "metadata": {},
   "outputs": [],
   "source": [
    "frame.columns"
   ]
  },
  {
   "cell_type": "code",
   "execution_count": null,
   "metadata": {},
   "outputs": [],
   "source": []
  }
 ],
 "metadata": {
  "kernelspec": {
   "display_name": "Python 3",
   "language": "python",
   "name": "python3"
  },
  "language_info": {
   "codemirror_mode": {
    "name": "ipython",
    "version": 3
   },
   "file_extension": ".py",
   "mimetype": "text/x-python",
   "name": "python",
   "nbconvert_exporter": "python",
   "pygments_lexer": "ipython3",
   "version": "3.6.10"
  }
 },
 "nbformat": 4,
 "nbformat_minor": 4
}
