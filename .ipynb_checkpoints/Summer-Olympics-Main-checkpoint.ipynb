{
 "cells": [
  {
   "cell_type": "code",
   "execution_count": 500,
   "metadata": {},
   "outputs": [],
   "source": [
    "#import dependencies\n",
    "import pandas as pd\n",
    "import matplotlib.pyplot as plt\n",
    "import numpy as np\n",
    "import scipy as sp\n",
    "import requests\n",
    "import json"
   ]
  },
  {
   "cell_type": "code",
   "execution_count": 501,
   "metadata": {},
   "outputs": [
    {
     "data": {
      "text/html": [
       "<div>\n",
       "<style scoped>\n",
       "    .dataframe tbody tr th:only-of-type {\n",
       "        vertical-align: middle;\n",
       "    }\n",
       "\n",
       "    .dataframe tbody tr th {\n",
       "        vertical-align: top;\n",
       "    }\n",
       "\n",
       "    .dataframe thead th {\n",
       "        text-align: right;\n",
       "    }\n",
       "</style>\n",
       "<table border=\"1\" class=\"dataframe\">\n",
       "  <thead>\n",
       "    <tr style=\"text-align: right;\">\n",
       "      <th></th>\n",
       "      <th>City</th>\n",
       "      <th>Year</th>\n",
       "      <th>Sport</th>\n",
       "      <th>Discipline</th>\n",
       "      <th>Event</th>\n",
       "      <th>Athlete</th>\n",
       "      <th>Gender</th>\n",
       "      <th>Country_Code</th>\n",
       "      <th>Country</th>\n",
       "      <th>Event_gender</th>\n",
       "      <th>Medal</th>\n",
       "    </tr>\n",
       "  </thead>\n",
       "  <tbody>\n",
       "    <tr>\n",
       "      <th>0</th>\n",
       "      <td>Montreal</td>\n",
       "      <td>1976.0</td>\n",
       "      <td>Aquatics</td>\n",
       "      <td>Diving</td>\n",
       "      <td>3m springboard</td>\n",
       "      <td>KÖHLER, Christa</td>\n",
       "      <td>Women</td>\n",
       "      <td>GDR</td>\n",
       "      <td>East Germany</td>\n",
       "      <td>W</td>\n",
       "      <td>Silver</td>\n",
       "    </tr>\n",
       "    <tr>\n",
       "      <th>1</th>\n",
       "      <td>Montreal</td>\n",
       "      <td>1976.0</td>\n",
       "      <td>Aquatics</td>\n",
       "      <td>Diving</td>\n",
       "      <td>3m springboard</td>\n",
       "      <td>KOSENKOV, Aleksandr</td>\n",
       "      <td>Men</td>\n",
       "      <td>URS</td>\n",
       "      <td>Soviet Union</td>\n",
       "      <td>M</td>\n",
       "      <td>Bronze</td>\n",
       "    </tr>\n",
       "    <tr>\n",
       "      <th>2</th>\n",
       "      <td>Montreal</td>\n",
       "      <td>1976.0</td>\n",
       "      <td>Aquatics</td>\n",
       "      <td>Diving</td>\n",
       "      <td>3m springboard</td>\n",
       "      <td>BOGGS, Philip George</td>\n",
       "      <td>Men</td>\n",
       "      <td>USA</td>\n",
       "      <td>United States</td>\n",
       "      <td>M</td>\n",
       "      <td>Gold</td>\n",
       "    </tr>\n",
       "    <tr>\n",
       "      <th>3</th>\n",
       "      <td>Montreal</td>\n",
       "      <td>1976.0</td>\n",
       "      <td>Aquatics</td>\n",
       "      <td>Diving</td>\n",
       "      <td>3m springboard</td>\n",
       "      <td>CAGNOTTO, Giorgio Franco</td>\n",
       "      <td>Men</td>\n",
       "      <td>ITA</td>\n",
       "      <td>Italy</td>\n",
       "      <td>M</td>\n",
       "      <td>Silver</td>\n",
       "    </tr>\n",
       "    <tr>\n",
       "      <th>4</th>\n",
       "      <td>Montreal</td>\n",
       "      <td>1976.0</td>\n",
       "      <td>Aquatics</td>\n",
       "      <td>Diving</td>\n",
       "      <td>10m platform</td>\n",
       "      <td>WILSON, Deborah Keplar</td>\n",
       "      <td>Women</td>\n",
       "      <td>USA</td>\n",
       "      <td>United States</td>\n",
       "      <td>W</td>\n",
       "      <td>Bronze</td>\n",
       "    </tr>\n",
       "  </tbody>\n",
       "</table>\n",
       "</div>"
      ],
      "text/plain": [
       "       City    Year     Sport Discipline           Event  \\\n",
       "0  Montreal  1976.0  Aquatics     Diving  3m springboard   \n",
       "1  Montreal  1976.0  Aquatics     Diving  3m springboard   \n",
       "2  Montreal  1976.0  Aquatics     Diving  3m springboard   \n",
       "3  Montreal  1976.0  Aquatics     Diving  3m springboard   \n",
       "4  Montreal  1976.0  Aquatics     Diving    10m platform   \n",
       "\n",
       "                    Athlete Gender Country_Code        Country Event_gender  \\\n",
       "0           KÖHLER, Christa  Women          GDR   East Germany            W   \n",
       "1       KOSENKOV, Aleksandr    Men          URS   Soviet Union            M   \n",
       "2      BOGGS, Philip George    Men          USA  United States            M   \n",
       "3  CAGNOTTO, Giorgio Franco    Men          ITA          Italy            M   \n",
       "4    WILSON, Deborah Keplar  Women          USA  United States            W   \n",
       "\n",
       "    Medal  \n",
       "0  Silver  \n",
       "1  Bronze  \n",
       "2    Gold  \n",
       "3  Silver  \n",
       "4  Bronze  "
      ]
     },
     "execution_count": 501,
     "metadata": {},
     "output_type": "execute_result"
    }
   ],
   "source": [
    "#load in csv\n",
    "olympics_data = pd.read_csv(\"Summer-Olympic-medals-1976-to-2008.csv\", encoding=\"latin-1\")\n",
    "olympics_data.head()"
   ]
  },
  {
   "cell_type": "code",
   "execution_count": 502,
   "metadata": {},
   "outputs": [],
   "source": [
    "medal_dict = {'Gold':3,'Silver':2,'Bronze':1}\n",
    "olympics_data['Points'] = olympics_data['Medal'].map(medal_dict)"
   ]
  },
  {
   "cell_type": "code",
   "execution_count": 503,
   "metadata": {},
   "outputs": [
    {
     "data": {
      "text/html": [
       "<div>\n",
       "<style scoped>\n",
       "    .dataframe tbody tr th:only-of-type {\n",
       "        vertical-align: middle;\n",
       "    }\n",
       "\n",
       "    .dataframe tbody tr th {\n",
       "        vertical-align: top;\n",
       "    }\n",
       "\n",
       "    .dataframe thead th {\n",
       "        text-align: right;\n",
       "    }\n",
       "</style>\n",
       "<table border=\"1\" class=\"dataframe\">\n",
       "  <thead>\n",
       "    <tr style=\"text-align: right;\">\n",
       "      <th></th>\n",
       "      <th>City</th>\n",
       "      <th>Year</th>\n",
       "      <th>Sport</th>\n",
       "      <th>Discipline</th>\n",
       "      <th>Event</th>\n",
       "      <th>Athlete</th>\n",
       "      <th>Gender</th>\n",
       "      <th>Country_Code</th>\n",
       "      <th>Country</th>\n",
       "      <th>Event_gender</th>\n",
       "      <th>Medal</th>\n",
       "      <th>Points</th>\n",
       "    </tr>\n",
       "  </thead>\n",
       "  <tbody>\n",
       "    <tr>\n",
       "      <th>0</th>\n",
       "      <td>Montreal</td>\n",
       "      <td>1976.0</td>\n",
       "      <td>Aquatics</td>\n",
       "      <td>Diving</td>\n",
       "      <td>3m springboard</td>\n",
       "      <td>KÖHLER, Christa</td>\n",
       "      <td>Women</td>\n",
       "      <td>GDR</td>\n",
       "      <td>East Germany</td>\n",
       "      <td>W</td>\n",
       "      <td>Silver</td>\n",
       "      <td>2.0</td>\n",
       "    </tr>\n",
       "    <tr>\n",
       "      <th>1</th>\n",
       "      <td>Montreal</td>\n",
       "      <td>1976.0</td>\n",
       "      <td>Aquatics</td>\n",
       "      <td>Diving</td>\n",
       "      <td>3m springboard</td>\n",
       "      <td>KOSENKOV, Aleksandr</td>\n",
       "      <td>Men</td>\n",
       "      <td>URS</td>\n",
       "      <td>Soviet Union</td>\n",
       "      <td>M</td>\n",
       "      <td>Bronze</td>\n",
       "      <td>1.0</td>\n",
       "    </tr>\n",
       "    <tr>\n",
       "      <th>2</th>\n",
       "      <td>Montreal</td>\n",
       "      <td>1976.0</td>\n",
       "      <td>Aquatics</td>\n",
       "      <td>Diving</td>\n",
       "      <td>3m springboard</td>\n",
       "      <td>BOGGS, Philip George</td>\n",
       "      <td>Men</td>\n",
       "      <td>USA</td>\n",
       "      <td>United States</td>\n",
       "      <td>M</td>\n",
       "      <td>Gold</td>\n",
       "      <td>3.0</td>\n",
       "    </tr>\n",
       "    <tr>\n",
       "      <th>3</th>\n",
       "      <td>Montreal</td>\n",
       "      <td>1976.0</td>\n",
       "      <td>Aquatics</td>\n",
       "      <td>Diving</td>\n",
       "      <td>3m springboard</td>\n",
       "      <td>CAGNOTTO, Giorgio Franco</td>\n",
       "      <td>Men</td>\n",
       "      <td>ITA</td>\n",
       "      <td>Italy</td>\n",
       "      <td>M</td>\n",
       "      <td>Silver</td>\n",
       "      <td>2.0</td>\n",
       "    </tr>\n",
       "    <tr>\n",
       "      <th>4</th>\n",
       "      <td>Montreal</td>\n",
       "      <td>1976.0</td>\n",
       "      <td>Aquatics</td>\n",
       "      <td>Diving</td>\n",
       "      <td>10m platform</td>\n",
       "      <td>WILSON, Deborah Keplar</td>\n",
       "      <td>Women</td>\n",
       "      <td>USA</td>\n",
       "      <td>United States</td>\n",
       "      <td>W</td>\n",
       "      <td>Bronze</td>\n",
       "      <td>1.0</td>\n",
       "    </tr>\n",
       "    <tr>\n",
       "      <th>...</th>\n",
       "      <td>...</td>\n",
       "      <td>...</td>\n",
       "      <td>...</td>\n",
       "      <td>...</td>\n",
       "      <td>...</td>\n",
       "      <td>...</td>\n",
       "      <td>...</td>\n",
       "      <td>...</td>\n",
       "      <td>...</td>\n",
       "      <td>...</td>\n",
       "      <td>...</td>\n",
       "      <td>...</td>\n",
       "    </tr>\n",
       "    <tr>\n",
       "      <th>15428</th>\n",
       "      <td>Beijing</td>\n",
       "      <td>2008.0</td>\n",
       "      <td>Wrestling</td>\n",
       "      <td>Wrestling Gre-R</td>\n",
       "      <td>66 - 74kg</td>\n",
       "      <td>GUENOT, Christophe</td>\n",
       "      <td>Men</td>\n",
       "      <td>FRA</td>\n",
       "      <td>France</td>\n",
       "      <td>M</td>\n",
       "      <td>Bronze</td>\n",
       "      <td>1.0</td>\n",
       "    </tr>\n",
       "    <tr>\n",
       "      <th>15429</th>\n",
       "      <td>Beijing</td>\n",
       "      <td>2008.0</td>\n",
       "      <td>Wrestling</td>\n",
       "      <td>Wrestling Gre-R</td>\n",
       "      <td>66 - 74kg</td>\n",
       "      <td>KVIRKELIA, Manuchar</td>\n",
       "      <td>Men</td>\n",
       "      <td>GEO</td>\n",
       "      <td>Georgia</td>\n",
       "      <td>M</td>\n",
       "      <td>Gold</td>\n",
       "      <td>3.0</td>\n",
       "    </tr>\n",
       "    <tr>\n",
       "      <th>15430</th>\n",
       "      <td>Beijing</td>\n",
       "      <td>2008.0</td>\n",
       "      <td>Wrestling</td>\n",
       "      <td>Wrestling Gre-R</td>\n",
       "      <td>55 - 60kg</td>\n",
       "      <td>RAHIMOV, Vitaliy</td>\n",
       "      <td>Men</td>\n",
       "      <td>AZE</td>\n",
       "      <td>Azerbaijan</td>\n",
       "      <td>M</td>\n",
       "      <td>Silver</td>\n",
       "      <td>2.0</td>\n",
       "    </tr>\n",
       "    <tr>\n",
       "      <th>15431</th>\n",
       "      <td>Beijing</td>\n",
       "      <td>2008.0</td>\n",
       "      <td>Wrestling</td>\n",
       "      <td>Wrestling Gre-R</td>\n",
       "      <td>60 - 66kg</td>\n",
       "      <td>GUENOT, Steeve</td>\n",
       "      <td>Men</td>\n",
       "      <td>FRA</td>\n",
       "      <td>France</td>\n",
       "      <td>M</td>\n",
       "      <td>Gold</td>\n",
       "      <td>3.0</td>\n",
       "    </tr>\n",
       "    <tr>\n",
       "      <th>15432</th>\n",
       "      <td>Beijing</td>\n",
       "      <td>2008.0</td>\n",
       "      <td>Wrestling</td>\n",
       "      <td>Wrestling Gre-R</td>\n",
       "      <td>96 - 120kg</td>\n",
       "      <td>LOPEZ, Mijain</td>\n",
       "      <td>Men</td>\n",
       "      <td>CUB</td>\n",
       "      <td>Cuba</td>\n",
       "      <td>M</td>\n",
       "      <td>Gold</td>\n",
       "      <td>3.0</td>\n",
       "    </tr>\n",
       "  </tbody>\n",
       "</table>\n",
       "<p>15433 rows × 12 columns</p>\n",
       "</div>"
      ],
      "text/plain": [
       "           City    Year      Sport       Discipline           Event  \\\n",
       "0      Montreal  1976.0   Aquatics           Diving  3m springboard   \n",
       "1      Montreal  1976.0   Aquatics           Diving  3m springboard   \n",
       "2      Montreal  1976.0   Aquatics           Diving  3m springboard   \n",
       "3      Montreal  1976.0   Aquatics           Diving  3m springboard   \n",
       "4      Montreal  1976.0   Aquatics           Diving    10m platform   \n",
       "...         ...     ...        ...              ...             ...   \n",
       "15428   Beijing  2008.0  Wrestling  Wrestling Gre-R       66 - 74kg   \n",
       "15429   Beijing  2008.0  Wrestling  Wrestling Gre-R       66 - 74kg   \n",
       "15430   Beijing  2008.0  Wrestling  Wrestling Gre-R       55 - 60kg   \n",
       "15431   Beijing  2008.0  Wrestling  Wrestling Gre-R       60 - 66kg   \n",
       "15432   Beijing  2008.0  Wrestling  Wrestling Gre-R      96 - 120kg   \n",
       "\n",
       "                        Athlete Gender Country_Code        Country  \\\n",
       "0               KÖHLER, Christa  Women          GDR   East Germany   \n",
       "1           KOSENKOV, Aleksandr    Men          URS   Soviet Union   \n",
       "2          BOGGS, Philip George    Men          USA  United States   \n",
       "3      CAGNOTTO, Giorgio Franco    Men          ITA          Italy   \n",
       "4        WILSON, Deborah Keplar  Women          USA  United States   \n",
       "...                         ...    ...          ...            ...   \n",
       "15428        GUENOT, Christophe    Men          FRA         France   \n",
       "15429       KVIRKELIA, Manuchar    Men          GEO        Georgia   \n",
       "15430          RAHIMOV, Vitaliy    Men          AZE     Azerbaijan   \n",
       "15431            GUENOT, Steeve    Men          FRA         France   \n",
       "15432             LOPEZ, Mijain    Men          CUB           Cuba   \n",
       "\n",
       "      Event_gender   Medal  Points  \n",
       "0                W  Silver     2.0  \n",
       "1                M  Bronze     1.0  \n",
       "2                M    Gold     3.0  \n",
       "3                M  Silver     2.0  \n",
       "4                W  Bronze     1.0  \n",
       "...            ...     ...     ...  \n",
       "15428            M  Bronze     1.0  \n",
       "15429            M    Gold     3.0  \n",
       "15430            M  Silver     2.0  \n",
       "15431            M    Gold     3.0  \n",
       "15432            M    Gold     3.0  \n",
       "\n",
       "[15433 rows x 12 columns]"
      ]
     },
     "execution_count": 503,
     "metadata": {},
     "output_type": "execute_result"
    }
   ],
   "source": [
    "olympics_data"
   ]
  },
  {
   "cell_type": "markdown",
   "metadata": {},
   "source": [
    "# Country Performance \n",
    " (Weighted by Medal Points)\n"
   ]
  },
  {
   "cell_type": "code",
   "execution_count": 504,
   "metadata": {},
   "outputs": [
    {
     "data": {
      "text/plain": [
       "<pandas.core.groupby.generic.DataFrameGroupBy object at 0x7feefdc575b0>"
      ]
     },
     "execution_count": 504,
     "metadata": {},
     "output_type": "execute_result"
    }
   ],
   "source": [
    "# Groupby Country & Sport\n",
    "\n",
    "medals_x_country_sp = olympics_data.groupby(['Country', 'Sport'])\n",
    "\n",
    "medals_x_country_sp"
   ]
  },
  {
   "cell_type": "code",
   "execution_count": 505,
   "metadata": {},
   "outputs": [
    {
     "data": {
      "text/html": [
       "<div>\n",
       "<style scoped>\n",
       "    .dataframe tbody tr th:only-of-type {\n",
       "        vertical-align: middle;\n",
       "    }\n",
       "\n",
       "    .dataframe tbody tr th {\n",
       "        vertical-align: top;\n",
       "    }\n",
       "\n",
       "    .dataframe thead tr th {\n",
       "        text-align: left;\n",
       "    }\n",
       "\n",
       "    .dataframe thead tr:last-of-type th {\n",
       "        text-align: right;\n",
       "    }\n",
       "</style>\n",
       "<table border=\"1\" class=\"dataframe\">\n",
       "  <thead>\n",
       "    <tr>\n",
       "      <th></th>\n",
       "      <th></th>\n",
       "      <th colspan=\"8\" halign=\"left\">Year</th>\n",
       "      <th colspan=\"8\" halign=\"left\">Points</th>\n",
       "    </tr>\n",
       "    <tr>\n",
       "      <th></th>\n",
       "      <th></th>\n",
       "      <th>count</th>\n",
       "      <th>mean</th>\n",
       "      <th>std</th>\n",
       "      <th>min</th>\n",
       "      <th>25%</th>\n",
       "      <th>50%</th>\n",
       "      <th>75%</th>\n",
       "      <th>max</th>\n",
       "      <th>count</th>\n",
       "      <th>mean</th>\n",
       "      <th>std</th>\n",
       "      <th>min</th>\n",
       "      <th>25%</th>\n",
       "      <th>50%</th>\n",
       "      <th>75%</th>\n",
       "      <th>max</th>\n",
       "    </tr>\n",
       "    <tr>\n",
       "      <th>Country</th>\n",
       "      <th>Sport</th>\n",
       "      <th></th>\n",
       "      <th></th>\n",
       "      <th></th>\n",
       "      <th></th>\n",
       "      <th></th>\n",
       "      <th></th>\n",
       "      <th></th>\n",
       "      <th></th>\n",
       "      <th></th>\n",
       "      <th></th>\n",
       "      <th></th>\n",
       "      <th></th>\n",
       "      <th></th>\n",
       "      <th></th>\n",
       "      <th></th>\n",
       "      <th></th>\n",
       "    </tr>\n",
       "  </thead>\n",
       "  <tbody>\n",
       "    <tr>\n",
       "      <th>Afghanistan</th>\n",
       "      <th>Taekwondo</th>\n",
       "      <td>1.0</td>\n",
       "      <td>2008.000000</td>\n",
       "      <td>NaN</td>\n",
       "      <td>2008.0</td>\n",
       "      <td>2008.0</td>\n",
       "      <td>2008.0</td>\n",
       "      <td>2008.0</td>\n",
       "      <td>2008.0</td>\n",
       "      <td>1.0</td>\n",
       "      <td>1.000000</td>\n",
       "      <td>NaN</td>\n",
       "      <td>1.0</td>\n",
       "      <td>1.00</td>\n",
       "      <td>1.0</td>\n",
       "      <td>1.00</td>\n",
       "      <td>1.0</td>\n",
       "    </tr>\n",
       "    <tr>\n",
       "      <th rowspan=\"3\" valign=\"top\">Algeria</th>\n",
       "      <th>Athletics</th>\n",
       "      <td>6.0</td>\n",
       "      <td>1998.000000</td>\n",
       "      <td>3.346640</td>\n",
       "      <td>1992.0</td>\n",
       "      <td>1997.0</td>\n",
       "      <td>2000.0</td>\n",
       "      <td>2000.0</td>\n",
       "      <td>2000.0</td>\n",
       "      <td>6.0</td>\n",
       "      <td>2.166667</td>\n",
       "      <td>0.983192</td>\n",
       "      <td>1.0</td>\n",
       "      <td>1.25</td>\n",
       "      <td>2.5</td>\n",
       "      <td>3.00</td>\n",
       "      <td>3.0</td>\n",
       "    </tr>\n",
       "    <tr>\n",
       "      <th>Boxing</th>\n",
       "      <td>6.0</td>\n",
       "      <td>1992.000000</td>\n",
       "      <td>6.693280</td>\n",
       "      <td>1984.0</td>\n",
       "      <td>1986.0</td>\n",
       "      <td>1994.0</td>\n",
       "      <td>1996.0</td>\n",
       "      <td>2000.0</td>\n",
       "      <td>6.0</td>\n",
       "      <td>1.333333</td>\n",
       "      <td>0.816497</td>\n",
       "      <td>1.0</td>\n",
       "      <td>1.00</td>\n",
       "      <td>1.0</td>\n",
       "      <td>1.00</td>\n",
       "      <td>3.0</td>\n",
       "    </tr>\n",
       "    <tr>\n",
       "      <th>Judo</th>\n",
       "      <td>2.0</td>\n",
       "      <td>2008.000000</td>\n",
       "      <td>0.000000</td>\n",
       "      <td>2008.0</td>\n",
       "      <td>2008.0</td>\n",
       "      <td>2008.0</td>\n",
       "      <td>2008.0</td>\n",
       "      <td>2008.0</td>\n",
       "      <td>2.0</td>\n",
       "      <td>1.500000</td>\n",
       "      <td>0.707107</td>\n",
       "      <td>1.0</td>\n",
       "      <td>1.25</td>\n",
       "      <td>1.5</td>\n",
       "      <td>1.75</td>\n",
       "      <td>2.0</td>\n",
       "    </tr>\n",
       "    <tr>\n",
       "      <th>Argentina</th>\n",
       "      <th>Aquatics</th>\n",
       "      <td>1.0</td>\n",
       "      <td>2004.000000</td>\n",
       "      <td>NaN</td>\n",
       "      <td>2004.0</td>\n",
       "      <td>2004.0</td>\n",
       "      <td>2004.0</td>\n",
       "      <td>2004.0</td>\n",
       "      <td>2004.0</td>\n",
       "      <td>1.0</td>\n",
       "      <td>1.000000</td>\n",
       "      <td>NaN</td>\n",
       "      <td>1.0</td>\n",
       "      <td>1.00</td>\n",
       "      <td>1.0</td>\n",
       "      <td>1.00</td>\n",
       "      <td>1.0</td>\n",
       "    </tr>\n",
       "    <tr>\n",
       "      <th>...</th>\n",
       "      <th>...</th>\n",
       "      <td>...</td>\n",
       "      <td>...</td>\n",
       "      <td>...</td>\n",
       "      <td>...</td>\n",
       "      <td>...</td>\n",
       "      <td>...</td>\n",
       "      <td>...</td>\n",
       "      <td>...</td>\n",
       "      <td>...</td>\n",
       "      <td>...</td>\n",
       "      <td>...</td>\n",
       "      <td>...</td>\n",
       "      <td>...</td>\n",
       "      <td>...</td>\n",
       "      <td>...</td>\n",
       "      <td>...</td>\n",
       "    </tr>\n",
       "    <tr>\n",
       "      <th>Yugoslavia</th>\n",
       "      <th>Wrestling</th>\n",
       "      <td>9.0</td>\n",
       "      <td>1982.222222</td>\n",
       "      <td>4.055175</td>\n",
       "      <td>1976.0</td>\n",
       "      <td>1980.0</td>\n",
       "      <td>1984.0</td>\n",
       "      <td>1984.0</td>\n",
       "      <td>1988.0</td>\n",
       "      <td>9.0</td>\n",
       "      <td>2.000000</td>\n",
       "      <td>0.866025</td>\n",
       "      <td>1.0</td>\n",
       "      <td>1.00</td>\n",
       "      <td>2.0</td>\n",
       "      <td>3.00</td>\n",
       "      <td>3.0</td>\n",
       "    </tr>\n",
       "    <tr>\n",
       "      <th rowspan=\"2\" valign=\"top\">Zambia</th>\n",
       "      <th>Athletics</th>\n",
       "      <td>1.0</td>\n",
       "      <td>1996.000000</td>\n",
       "      <td>NaN</td>\n",
       "      <td>1996.0</td>\n",
       "      <td>1996.0</td>\n",
       "      <td>1996.0</td>\n",
       "      <td>1996.0</td>\n",
       "      <td>1996.0</td>\n",
       "      <td>1.0</td>\n",
       "      <td>2.000000</td>\n",
       "      <td>NaN</td>\n",
       "      <td>2.0</td>\n",
       "      <td>2.00</td>\n",
       "      <td>2.0</td>\n",
       "      <td>2.00</td>\n",
       "      <td>2.0</td>\n",
       "    </tr>\n",
       "    <tr>\n",
       "      <th>Boxing</th>\n",
       "      <td>1.0</td>\n",
       "      <td>1984.000000</td>\n",
       "      <td>NaN</td>\n",
       "      <td>1984.0</td>\n",
       "      <td>1984.0</td>\n",
       "      <td>1984.0</td>\n",
       "      <td>1984.0</td>\n",
       "      <td>1984.0</td>\n",
       "      <td>1.0</td>\n",
       "      <td>1.000000</td>\n",
       "      <td>NaN</td>\n",
       "      <td>1.0</td>\n",
       "      <td>1.00</td>\n",
       "      <td>1.0</td>\n",
       "      <td>1.00</td>\n",
       "      <td>1.0</td>\n",
       "    </tr>\n",
       "    <tr>\n",
       "      <th rowspan=\"2\" valign=\"top\">Zimbabwe</th>\n",
       "      <th>Aquatics</th>\n",
       "      <td>7.0</td>\n",
       "      <td>2006.285714</td>\n",
       "      <td>2.138090</td>\n",
       "      <td>2004.0</td>\n",
       "      <td>2004.0</td>\n",
       "      <td>2008.0</td>\n",
       "      <td>2008.0</td>\n",
       "      <td>2008.0</td>\n",
       "      <td>7.0</td>\n",
       "      <td>2.142857</td>\n",
       "      <td>0.690066</td>\n",
       "      <td>1.0</td>\n",
       "      <td>2.00</td>\n",
       "      <td>2.0</td>\n",
       "      <td>2.50</td>\n",
       "      <td>3.0</td>\n",
       "    </tr>\n",
       "    <tr>\n",
       "      <th>Hockey</th>\n",
       "      <td>16.0</td>\n",
       "      <td>1980.000000</td>\n",
       "      <td>0.000000</td>\n",
       "      <td>1980.0</td>\n",
       "      <td>1980.0</td>\n",
       "      <td>1980.0</td>\n",
       "      <td>1980.0</td>\n",
       "      <td>1980.0</td>\n",
       "      <td>16.0</td>\n",
       "      <td>3.000000</td>\n",
       "      <td>0.000000</td>\n",
       "      <td>3.0</td>\n",
       "      <td>3.00</td>\n",
       "      <td>3.0</td>\n",
       "      <td>3.00</td>\n",
       "      <td>3.0</td>\n",
       "    </tr>\n",
       "  </tbody>\n",
       "</table>\n",
       "<p>828 rows × 16 columns</p>\n",
       "</div>"
      ],
      "text/plain": [
       "                       Year                                                 \\\n",
       "                      count         mean       std     min     25%     50%   \n",
       "Country     Sport                                                            \n",
       "Afghanistan Taekwondo   1.0  2008.000000       NaN  2008.0  2008.0  2008.0   \n",
       "Algeria     Athletics   6.0  1998.000000  3.346640  1992.0  1997.0  2000.0   \n",
       "            Boxing      6.0  1992.000000  6.693280  1984.0  1986.0  1994.0   \n",
       "            Judo        2.0  2008.000000  0.000000  2008.0  2008.0  2008.0   \n",
       "Argentina   Aquatics    1.0  2004.000000       NaN  2004.0  2004.0  2004.0   \n",
       "...                     ...          ...       ...     ...     ...     ...   \n",
       "Yugoslavia  Wrestling   9.0  1982.222222  4.055175  1976.0  1980.0  1984.0   \n",
       "Zambia      Athletics   1.0  1996.000000       NaN  1996.0  1996.0  1996.0   \n",
       "            Boxing      1.0  1984.000000       NaN  1984.0  1984.0  1984.0   \n",
       "Zimbabwe    Aquatics    7.0  2006.285714  2.138090  2004.0  2004.0  2008.0   \n",
       "            Hockey     16.0  1980.000000  0.000000  1980.0  1980.0  1980.0   \n",
       "\n",
       "                                      Points                                 \\\n",
       "                          75%     max  count      mean       std  min   25%   \n",
       "Country     Sport                                                             \n",
       "Afghanistan Taekwondo  2008.0  2008.0    1.0  1.000000       NaN  1.0  1.00   \n",
       "Algeria     Athletics  2000.0  2000.0    6.0  2.166667  0.983192  1.0  1.25   \n",
       "            Boxing     1996.0  2000.0    6.0  1.333333  0.816497  1.0  1.00   \n",
       "            Judo       2008.0  2008.0    2.0  1.500000  0.707107  1.0  1.25   \n",
       "Argentina   Aquatics   2004.0  2004.0    1.0  1.000000       NaN  1.0  1.00   \n",
       "...                       ...     ...    ...       ...       ...  ...   ...   \n",
       "Yugoslavia  Wrestling  1984.0  1988.0    9.0  2.000000  0.866025  1.0  1.00   \n",
       "Zambia      Athletics  1996.0  1996.0    1.0  2.000000       NaN  2.0  2.00   \n",
       "            Boxing     1984.0  1984.0    1.0  1.000000       NaN  1.0  1.00   \n",
       "Zimbabwe    Aquatics   2008.0  2008.0    7.0  2.142857  0.690066  1.0  2.00   \n",
       "            Hockey     1980.0  1980.0   16.0  3.000000  0.000000  3.0  3.00   \n",
       "\n",
       "                                       \n",
       "                       50%   75%  max  \n",
       "Country     Sport                      \n",
       "Afghanistan Taekwondo  1.0  1.00  1.0  \n",
       "Algeria     Athletics  2.5  3.00  3.0  \n",
       "            Boxing     1.0  1.00  3.0  \n",
       "            Judo       1.5  1.75  2.0  \n",
       "Argentina   Aquatics   1.0  1.00  1.0  \n",
       "...                    ...   ...  ...  \n",
       "Yugoslavia  Wrestling  2.0  3.00  3.0  \n",
       "Zambia      Athletics  2.0  2.00  2.0  \n",
       "            Boxing     1.0  1.00  1.0  \n",
       "Zimbabwe    Aquatics   2.0  2.50  3.0  \n",
       "            Hockey     3.0  3.00  3.0  \n",
       "\n",
       "[828 rows x 16 columns]"
      ]
     },
     "execution_count": 505,
     "metadata": {},
     "output_type": "execute_result"
    }
   ],
   "source": [
    "medals_x_country_sp.describe()"
   ]
  },
  {
   "cell_type": "code",
   "execution_count": 508,
   "metadata": {},
   "outputs": [],
   "source": [
    "# Create dataframe\n",
    "\n",
    "medals_by_sport = medals_x_country_sp['Medal'].count()\n",
    "\n",
    "medals_by_sport\n",
    "\n",
    "point_total= medals_x_country_sp['Points'].sum()"
   ]
  },
  {
   "cell_type": "code",
   "execution_count": 509,
   "metadata": {},
   "outputs": [
    {
     "data": {
      "text/html": [
       "<div>\n",
       "<style scoped>\n",
       "    .dataframe tbody tr th:only-of-type {\n",
       "        vertical-align: middle;\n",
       "    }\n",
       "\n",
       "    .dataframe tbody tr th {\n",
       "        vertical-align: top;\n",
       "    }\n",
       "\n",
       "    .dataframe thead th {\n",
       "        text-align: right;\n",
       "    }\n",
       "</style>\n",
       "<table border=\"1\" class=\"dataframe\">\n",
       "  <thead>\n",
       "    <tr style=\"text-align: right;\">\n",
       "      <th></th>\n",
       "      <th></th>\n",
       "      <th>Medals By Sport</th>\n",
       "      <th>Point Total</th>\n",
       "    </tr>\n",
       "    <tr>\n",
       "      <th>Country</th>\n",
       "      <th>Sport</th>\n",
       "      <th></th>\n",
       "      <th></th>\n",
       "    </tr>\n",
       "  </thead>\n",
       "  <tbody>\n",
       "    <tr>\n",
       "      <th>Afghanistan</th>\n",
       "      <th>Taekwondo</th>\n",
       "      <td>1</td>\n",
       "      <td>1.0</td>\n",
       "    </tr>\n",
       "    <tr>\n",
       "      <th rowspan=\"3\" valign=\"top\">Algeria</th>\n",
       "      <th>Athletics</th>\n",
       "      <td>6</td>\n",
       "      <td>13.0</td>\n",
       "    </tr>\n",
       "    <tr>\n",
       "      <th>Boxing</th>\n",
       "      <td>6</td>\n",
       "      <td>8.0</td>\n",
       "    </tr>\n",
       "    <tr>\n",
       "      <th>Judo</th>\n",
       "      <td>2</td>\n",
       "      <td>3.0</td>\n",
       "    </tr>\n",
       "    <tr>\n",
       "      <th>Argentina</th>\n",
       "      <th>Aquatics</th>\n",
       "      <td>1</td>\n",
       "      <td>1.0</td>\n",
       "    </tr>\n",
       "    <tr>\n",
       "      <th>...</th>\n",
       "      <th>...</th>\n",
       "      <td>...</td>\n",
       "      <td>...</td>\n",
       "    </tr>\n",
       "    <tr>\n",
       "      <th>Yugoslavia</th>\n",
       "      <th>Wrestling</th>\n",
       "      <td>9</td>\n",
       "      <td>18.0</td>\n",
       "    </tr>\n",
       "    <tr>\n",
       "      <th rowspan=\"2\" valign=\"top\">Zambia</th>\n",
       "      <th>Athletics</th>\n",
       "      <td>1</td>\n",
       "      <td>2.0</td>\n",
       "    </tr>\n",
       "    <tr>\n",
       "      <th>Boxing</th>\n",
       "      <td>1</td>\n",
       "      <td>1.0</td>\n",
       "    </tr>\n",
       "    <tr>\n",
       "      <th rowspan=\"2\" valign=\"top\">Zimbabwe</th>\n",
       "      <th>Aquatics</th>\n",
       "      <td>7</td>\n",
       "      <td>15.0</td>\n",
       "    </tr>\n",
       "    <tr>\n",
       "      <th>Hockey</th>\n",
       "      <td>16</td>\n",
       "      <td>48.0</td>\n",
       "    </tr>\n",
       "  </tbody>\n",
       "</table>\n",
       "<p>828 rows × 2 columns</p>\n",
       "</div>"
      ],
      "text/plain": [
       "                       Medals By Sport  Point Total\n",
       "Country     Sport                                  \n",
       "Afghanistan Taekwondo                1          1.0\n",
       "Algeria     Athletics                6         13.0\n",
       "            Boxing                   6          8.0\n",
       "            Judo                     2          3.0\n",
       "Argentina   Aquatics                 1          1.0\n",
       "...                                ...          ...\n",
       "Yugoslavia  Wrestling                9         18.0\n",
       "Zambia      Athletics                1          2.0\n",
       "            Boxing                   1          1.0\n",
       "Zimbabwe    Aquatics                 7         15.0\n",
       "            Hockey                  16         48.0\n",
       "\n",
       "[828 rows x 2 columns]"
      ]
     },
     "execution_count": 509,
     "metadata": {},
     "output_type": "execute_result"
    }
   ],
   "source": [
    "medal_summary = pd.DataFrame({'Medals By Sport': medals_by_sport, 'Point Total': point_total})\n",
    "\n",
    "medal_summary"
   ]
  },
  {
   "cell_type": "code",
   "execution_count": 510,
   "metadata": {},
   "outputs": [
    {
     "data": {
      "text/plain": [
       "<AxesSubplot:xlabel='Country,Sport'>"
      ]
     },
     "execution_count": 510,
     "metadata": {},
     "output_type": "execute_result"
    },
    {
     "data": {
      "image/png": "[encoded data removed]",
      "text/plain": [
       "<Figure size 432x288 with 1 Axes>"
      ]
     },
     "metadata": {
      "needs_background": "light"
     },
     "output_type": "display_data"
    }
   ],
   "source": [
    "# Plot the Sum of Medal Points\n",
    "\n",
    "medal_summary.plot.line(x=None, y=None)"
   ]
  },
  {
   "cell_type": "code",
   "execution_count": 512,
   "metadata": {},
   "outputs": [
    {
     "data": {
      "text/plain": [
       "<AxesSubplot:ylabel='Country,Sport'>"
      ]
     },
     "execution_count": 512,
     "metadata": {},
     "output_type": "execute_result"
    },
    {
     "data": {
      "image/png": "[encoded data removed]",
      "text/plain": [
       "<Figure size 432x288 with 1 Axes>"
      ]
     },
     "metadata": {
      "needs_background": "light"
     },
     "output_type": "display_data"
    }
   ],
   "source": [
    "# Graph Cleanup\n",
    "\n",
    "# change the plot to a horizontal bar graph\n",
    "\n",
    "medals_x_country_sp['Points'].sum().head(5).plot(kind='barh')"
   ]
  },
  {
   "cell_type": "code",
   "execution_count": 513,
   "metadata": {},
   "outputs": [],
   "source": [
    "# reset the index\n",
    "\n",
    "sports_data= medals_x_country_sp['Points'].sum().reset_index()"
   ]
  },
  {
   "cell_type": "code",
   "execution_count": 514,
   "metadata": {},
   "outputs": [
    {
     "data": {
      "text/plain": [
       "<AxesSubplot:ylabel='Sport'>"
      ]
     },
     "execution_count": 514,
     "metadata": {},
     "output_type": "execute_result"
    },
    {
     "data": {
      "image/png": "[encoded data removed]",
      "text/plain": [
       "<Figure size 432x288 with 1 Axes>"
      ]
     },
     "metadata": {
      "needs_background": "light"
     },
     "output_type": "display_data"
    }
   ],
   "source": [
    "# sort values\n",
    "\n",
    "sports_data.sort_values(['Points'], ascending=False).head(10).plot(kind='barh', y='Points', x='Sport')"
   ]
  },
  {
   "cell_type": "code",
   "execution_count": 515,
   "metadata": {},
   "outputs": [
    {
     "data": {
      "text/plain": [
       "array(['Taekwondo', 'Athletics', 'Boxing', 'Judo', 'Aquatics',\n",
       "       'Basketball', 'Cycling', 'Football', 'Hockey', 'Sailing', 'Tennis',\n",
       "       'Volleyball', 'Weightlifting', 'Wrestling', 'Archery', 'Baseball',\n",
       "       'Canoe / Kayak', 'Equestrian', 'Gymnastics', 'Rowing', 'Shooting',\n",
       "       'Softball', 'Triathlon', 'Modern Pentathlon', 'Badminton',\n",
       "       'Fencing', 'Handball', 'Table Tennis'], dtype=object)"
      ]
     },
     "execution_count": 515,
     "metadata": {},
     "output_type": "execute_result"
    }
   ],
   "source": [
    "# display Individual Sports\n",
    "\n",
    "sports_data['Sport'].unique()"
   ]
  },
  {
   "cell_type": "code",
   "execution_count": 516,
   "metadata": {},
   "outputs": [
    {
     "data": {
      "text/plain": [
       "count           828\n",
       "unique           28\n",
       "top       Athletics\n",
       "freq             77\n",
       "Name: Sport, dtype: object"
      ]
     },
     "execution_count": 516,
     "metadata": {},
     "output_type": "execute_result"
    }
   ],
   "source": [
    "# describe Individual Sports\n",
    "\n",
    "sports_data['Sport'].describe()"
   ]
  },
  {
   "cell_type": "code",
   "execution_count": 517,
   "metadata": {},
   "outputs": [
    {
     "data": {
      "text/plain": [
       "<AxesSubplot:xlabel='Country,Sport'>"
      ]
     },
     "execution_count": 517,
     "metadata": {},
     "output_type": "execute_result"
    },
    {
     "data": {
      "image/png": "[encoded data removed]",
      "text/plain": [
       "<Figure size 432x288 with 1 Axes>"
      ]
     },
     "metadata": {
      "needs_background": "light"
     },
     "output_type": "display_data"
    }
   ],
   "source": [
    "# Plot the sum of the medal points for chosen countries by sport\n",
    "\n",
    "sports = ['Gymnastics', 'Basketball', 'Aquatics', 'Sailing', 'Athletics']\n",
    "countries = ['West Germany', 'Soviet Union', 'United States', 'Australia', 'Germany', 'Russia']\n",
    "sport_df = olympics_data.loc[olympics_data['Country'].isin(countries)]\n",
    "sport_df\n",
    "\n",
    "# group by Country Code and Sport\n",
    "sport_df.groupby(['Country', 'Sport'])['Points'].sum().plot() "
   ]
  },
  {
   "cell_type": "code",
   "execution_count": 519,
   "metadata": {},
   "outputs": [
    {
     "data": {
      "text/plain": [
       "<AxesSubplot:title={'center':'Medal Points Total for Country by All Sports'}, xlabel='Sport'>"
      ]
     },
     "execution_count": 519,
     "metadata": {},
     "output_type": "execute_result"
    },
    {
     "data": {
      "image/png": "[encoded data removed]",
      "text/plain": [
       "<Figure size 432x288 with 1 Axes>"
      ]
     },
     "metadata": {
      "needs_background": "light"
     },
     "output_type": "display_data"
    }
   ],
   "source": [
    "# Unstack & plot as bar graph\n",
    "\n",
    "sport_df.groupby(['Sport', 'Country'])['Points'].sum().unstack().plot(kind='bar', title='Medal Points Total for Country by All Sports')"
   ]
  },
  {
   "cell_type": "code",
   "execution_count": 520,
   "metadata": {},
   "outputs": [
    {
     "data": {
      "text/plain": [
       "<Figure size 432x288 with 0 Axes>"
      ]
     },
     "metadata": {},
     "output_type": "display_data"
    }
   ],
   "source": [
    "plt.savefig('Medal Points Total for Country by All Sports.png', dpi=300)"
   ]
  },
  {
   "cell_type": "code",
   "execution_count": 521,
   "metadata": {},
   "outputs": [
    {
     "data": {
      "text/plain": [
       "<AxesSubplot:xlabel='Country,Sport'>"
      ]
     },
     "execution_count": 521,
     "metadata": {},
     "output_type": "execute_result"
    },
    {
     "data": {
      "image/png": "[encoded data removed]",
      "text/plain": [
       "<Figure size 432x288 with 1 Axes>"
      ]
     },
     "metadata": {
      "needs_background": "light"
     },
     "output_type": "display_data"
    }
   ],
   "source": [
    "# Refine data and Plot chosen Sports\n",
    "\n",
    "limited_sports = sport_df.loc[sport_df['Sport'].isin(sports)]\n",
    "limited_sports\n",
    "\n",
    "#  group Medal Points by Country Code and Sport\n",
    "\n",
    "limited_sports.groupby(['Country', 'Sport'])['Points'].sum().plot()"
   ]
  },
  {
   "cell_type": "code",
   "execution_count": 522,
   "metadata": {},
   "outputs": [
    {
     "data": {
      "text/plain": [
       "<AxesSubplot:title={'center':'Medal Points Total for selected Countries by selected Sports'}, xlabel='Sport'>"
      ]
     },
     "execution_count": 522,
     "metadata": {},
     "output_type": "execute_result"
    },
    {
     "data": {
      "image/png": "[encoded data removed]",
      "text/plain": [
       "<Figure size 432x288 with 1 Axes>"
      ]
     },
     "metadata": {
      "needs_background": "light"
     },
     "output_type": "display_data"
    }
   ],
   "source": [
    "# Unstack and Plot as bar graph\n",
    "\n",
    "limited_sports.groupby(['Sport', 'Country'])['Points'].sum().unstack().plot(kind='bar', title='Medal Points Total for selected Countries by selected Sports')"
   ]
  },
  {
   "cell_type": "code",
   "execution_count": 525,
   "metadata": {},
   "outputs": [
    {
     "data": {
      "text/plain": [
       "<Figure size 432x288 with 0 Axes>"
      ]
     },
     "metadata": {},
     "output_type": "display_data"
    }
   ],
   "source": [
    "plt.savefig(\"images/Medal_Points_Total_for_selected_Countries_by_selected_Sports.png\", dpi=300, bbox_inches='tight')"
   ]
  },
  {
   "cell_type": "code",
   "execution_count": 528,
   "metadata": {},
   "outputs": [
    {
     "data": {
      "text/plain": [
       "<pandas.core.groupby.generic.DataFrameGroupBy object at 0x7feefc243f40>"
      ]
     },
     "execution_count": 528,
     "metadata": {},
     "output_type": "execute_result"
    }
   ],
   "source": [
    "# Groupby Year & Country \n",
    "\n",
    "medals_x_country_yr = olympics_data.groupby(['Year', 'Country'])\n",
    "medals_x_country_yr"
   ]
  },
  {
   "cell_type": "code",
   "execution_count": 529,
   "metadata": {},
   "outputs": [],
   "source": [
    "#Create dataframe\n",
    "\n",
    "medals_by_yr = medals_x_country_yr['Points'].sum()"
   ]
  },
  {
   "cell_type": "code",
   "execution_count": 530,
   "metadata": {},
   "outputs": [
    {
     "data": {
      "text/html": [
       "<div>\n",
       "<style scoped>\n",
       "    .dataframe tbody tr th:only-of-type {\n",
       "        vertical-align: middle;\n",
       "    }\n",
       "\n",
       "    .dataframe tbody tr th {\n",
       "        vertical-align: top;\n",
       "    }\n",
       "\n",
       "    .dataframe thead th {\n",
       "        text-align: right;\n",
       "    }\n",
       "</style>\n",
       "<table border=\"1\" class=\"dataframe\">\n",
       "  <thead>\n",
       "    <tr style=\"text-align: right;\">\n",
       "      <th></th>\n",
       "      <th></th>\n",
       "      <th>Point Total</th>\n",
       "    </tr>\n",
       "    <tr>\n",
       "      <th>Year</th>\n",
       "      <th>Country</th>\n",
       "      <th></th>\n",
       "    </tr>\n",
       "  </thead>\n",
       "  <tbody>\n",
       "    <tr>\n",
       "      <th rowspan=\"5\" valign=\"top\">1976.0</th>\n",
       "      <th>Australia</th>\n",
       "      <td>40.0</td>\n",
       "    </tr>\n",
       "    <tr>\n",
       "      <th>Austria</th>\n",
       "      <td>1.0</td>\n",
       "    </tr>\n",
       "    <tr>\n",
       "      <th>Belgium</th>\n",
       "      <td>12.0</td>\n",
       "    </tr>\n",
       "    <tr>\n",
       "      <th>Bermuda*</th>\n",
       "      <td>1.0</td>\n",
       "    </tr>\n",
       "    <tr>\n",
       "      <th>Brazil</th>\n",
       "      <td>3.0</td>\n",
       "    </tr>\n",
       "    <tr>\n",
       "      <th>...</th>\n",
       "      <th>...</th>\n",
       "      <td>...</td>\n",
       "    </tr>\n",
       "    <tr>\n",
       "      <th rowspan=\"5\" valign=\"top\">2008.0</th>\n",
       "      <th>United States</th>\n",
       "      <td>674.0</td>\n",
       "    </tr>\n",
       "    <tr>\n",
       "      <th>Uzbekistan</th>\n",
       "      <td>10.0</td>\n",
       "    </tr>\n",
       "    <tr>\n",
       "      <th>Venezuela</th>\n",
       "      <td>1.0</td>\n",
       "    </tr>\n",
       "    <tr>\n",
       "      <th>Vietnam</th>\n",
       "      <td>2.0</td>\n",
       "    </tr>\n",
       "    <tr>\n",
       "      <th>Zimbabwe</th>\n",
       "      <td>9.0</td>\n",
       "    </tr>\n",
       "  </tbody>\n",
       "</table>\n",
       "<p>559 rows × 1 columns</p>\n",
       "</div>"
      ],
      "text/plain": [
       "                      Point Total\n",
       "Year   Country                   \n",
       "1976.0 Australia             40.0\n",
       "       Austria                1.0\n",
       "       Belgium               12.0\n",
       "       Bermuda*               1.0\n",
       "       Brazil                 3.0\n",
       "...                           ...\n",
       "2008.0 United States        674.0\n",
       "       Uzbekistan            10.0\n",
       "       Venezuela              1.0\n",
       "       Vietnam                2.0\n",
       "       Zimbabwe               9.0\n",
       "\n",
       "[559 rows x 1 columns]"
      ]
     },
     "execution_count": 530,
     "metadata": {},
     "output_type": "execute_result"
    }
   ],
   "source": [
    "year_stats = pd.DataFrame({'Point Total': medals_by_yr})\n",
    "year_stats"
   ]
  },
  {
   "cell_type": "code",
   "execution_count": 531,
   "metadata": {},
   "outputs": [
    {
     "data": {
      "text/plain": [
       "<AxesSubplot:xlabel='Year,Country'>"
      ]
     },
     "execution_count": 531,
     "metadata": {},
     "output_type": "execute_result"
    },
    {
     "data": {
      "image/png": "[encoded data removed]",
      "text/plain": [
       "<Figure size 432x288 with 1 Axes>"
      ]
     },
     "metadata": {
      "needs_background": "light"
     },
     "output_type": "display_data"
    }
   ],
   "source": [
    "# Plot the Sum of Medal Points\n",
    "\n",
    "year_stats.plot.line(x=None, y=None)"
   ]
  },
  {
   "cell_type": "code",
   "execution_count": 532,
   "metadata": {},
   "outputs": [
    {
     "data": {
      "text/plain": [
       "<AxesSubplot:ylabel='Year,Country'>"
      ]
     },
     "execution_count": 532,
     "metadata": {},
     "output_type": "execute_result"
    },
    {
     "data": {
      "image/png": "[encoded data removed]",
      "text/plain": [
       "<Figure size 432x288 with 1 Axes>"
      ]
     },
     "metadata": {
      "needs_background": "light"
     },
     "output_type": "display_data"
    }
   ],
   "source": [
    "# Graph Cleanup\n",
    "\n",
    "# change the plot to a horizontal bar graph\n",
    "\n",
    "medals_x_country_yr['Points'].sum().head(5).plot(kind='barh')"
   ]
  },
  {
   "cell_type": "code",
   "execution_count": 535,
   "metadata": {},
   "outputs": [],
   "source": [
    "# reset the index\n",
    "\n",
    "country_data= medals_x_country_yr['Points'].sum().reset_index()"
   ]
  },
  {
   "cell_type": "code",
   "execution_count": 537,
   "metadata": {},
   "outputs": [
    {
     "data": {
      "text/plain": [
       "<AxesSubplot:ylabel='Country'>"
      ]
     },
     "execution_count": 537,
     "metadata": {},
     "output_type": "execute_result"
    },
    {
     "data": {
      "image/png": "[encoded data removed]",
      "text/plain": [
       "<Figure size 432x288 with 1 Axes>"
      ]
     },
     "metadata": {
      "needs_background": "light"
     },
     "output_type": "display_data"
    }
   ],
   "source": [
    "# sort values\n",
    "\n",
    "country_data.sort_values(['Points'], ascending=False).head(10).plot(kind='barh', y='Points', x='Country')"
   ]
  },
  {
   "cell_type": "code",
   "execution_count": 538,
   "metadata": {},
   "outputs": [
    {
     "data": {
      "text/plain": [
       "array(['Australia', 'Austria', 'Belgium', 'Bermuda*', 'Brazil',\n",
       "       'Bulgaria', 'Canada', 'Cuba', 'Czechoslovakia', 'Denmark',\n",
       "       'East Germany', 'Finland', 'France', 'Hungary', 'Iran', 'Italy',\n",
       "       'Jamaica', 'Japan', 'Korea, North', 'Korea, South', 'Mexico',\n",
       "       'Mongolia', 'Netherlands', 'New Zealand', 'Norway', 'Pakistan',\n",
       "       'Poland', 'Portugal', 'Puerto Rico*', 'Romania', 'Soviet Union',\n",
       "       'Spain', 'Sweden', 'Switzerland', 'Thailand',\n",
       "       'Trinidad and Tobago', 'United Kingdom', 'United States',\n",
       "       'Venezuela', 'West Germany', 'Yugoslavia', 'Ethiopia', 'Greece',\n",
       "       'Guyana', 'India', 'Ireland', 'Lebanon', 'Tanzania', 'Uganda',\n",
       "       'Zimbabwe', 'Algeria', 'Cameroon', 'China', 'Colombia',\n",
       "       \"Cote d'Ivoire\", 'Dominican Republic', 'Egypt', 'Iceland', 'Kenya',\n",
       "       'Morocco', 'Nigeria', 'Peru', 'Syria', 'Taiwan', 'Turkey',\n",
       "       'Zambia', 'Argentina', 'Chile', 'Costa Rica', 'Djibouti',\n",
       "       'Indonesia', 'Netherlands Antilles*', 'Philippines', 'Senegal',\n",
       "       'Suriname', 'Virgin Islands*', 'Bahamas', 'Croatia', 'Estonia',\n",
       "       'Germany', 'Ghana', 'Independent Olympic Participants (1992)',\n",
       "       'Israel', 'Latvia', 'Lithuania', 'Malaysia', 'Namibia', 'Qatar',\n",
       "       'Slovenia', 'South Africa', 'Unified team', 'Armenia',\n",
       "       'Azerbaijan', 'Belarus', 'Burundi', 'Czech Republic', 'Ecuador',\n",
       "       'Georgia', 'Hong Kong*', 'Kazakhstan', 'Moldova', 'Mozambique',\n",
       "       'Russia', 'Slovakia', 'Tonga', 'Tunisia', 'Ukraine', 'Uzbekistan',\n",
       "       'Barbados', 'Kuwait', 'Kyrgyzstan', 'Macedonia', 'Saudi Arabia',\n",
       "       'Sri Lanka', 'Uruguay', 'Vietnam', 'Eritrea', 'Paraguay', 'Serbia',\n",
       "       'United Arab Emirates', 'Afghanistan', 'Mauritius', 'Panama',\n",
       "       'Singapore', 'Sudan', 'Tajikistan', 'Togo'], dtype=object)"
      ]
     },
     "execution_count": 538,
     "metadata": {},
     "output_type": "execute_result"
    }
   ],
   "source": [
    "# display Individual Countries\n",
    "\n",
    "country_data['Country'].unique()"
   ]
  },
  {
   "cell_type": "code",
   "execution_count": 539,
   "metadata": {},
   "outputs": [
    {
     "data": {
      "text/plain": [
       "count             559\n",
       "unique            127\n",
       "top       Netherlands\n",
       "freq                9\n",
       "Name: Country, dtype: object"
      ]
     },
     "execution_count": 539,
     "metadata": {},
     "output_type": "execute_result"
    }
   ],
   "source": [
    "# describe Individual Countries\n",
    "\n",
    "country_data['Country'].describe()"
   ]
  },
  {
   "cell_type": "code",
   "execution_count": 540,
   "metadata": {},
   "outputs": [
    {
     "data": {
      "text/plain": [
       "<AxesSubplot:xlabel='Country,Year'>"
      ]
     },
     "execution_count": 540,
     "metadata": {},
     "output_type": "execute_result"
    },
    {
     "data": {
      "image/png": "[encoded data removed]",
      "text/plain": [
       "<Figure size 432x288 with 1 Axes>"
      ]
     },
     "metadata": {
      "needs_background": "light"
     },
     "output_type": "display_data"
    }
   ],
   "source": [
    "# Refine data and Plot chosen countrys\n",
    "\n",
    "countries_2 = ['West Germany', 'Soviet Union', 'United States', 'Netherlands', 'Germany', 'Russia']\n",
    "\n",
    "year_df = olympics_data.loc[olympics_data['Country'].isin(countries_2)]\n",
    "year_df\n",
    "\n",
    "#  group Medal Points by Country and Year\n",
    "year_df.groupby(['Country', 'Year'])['Points'].sum().plot() "
   ]
  },
  {
   "cell_type": "code",
   "execution_count": 498,
   "metadata": {},
   "outputs": [
    {
     "data": {
      "text/plain": [
       "<AxesSubplot:title={'center':'Medal Point Total for selected Countries by Year'}, xlabel='Year'>"
      ]
     },
     "execution_count": 498,
     "metadata": {},
     "output_type": "execute_result"
    },
    {
     "data": {
      "image/png": "[encoded data removed]",
      "text/plain": [
       "<Figure size 432x288 with 1 Axes>"
      ]
     },
     "metadata": {
      "needs_background": "light"
     },
     "output_type": "display_data"
    }
   ],
   "source": [
    "# Unstack and Plot as line graph\n",
    "\n",
    "year_df.groupby(['Year', 'Country'])['Points'].sum().unstack().plot(title='Medal Point Total for selected Countries by Year', marker='o')"
   ]
  },
  {
   "cell_type": "code",
   "execution_count": 541,
   "metadata": {},
   "outputs": [
    {
     "data": {
      "text/plain": [
       "<Figure size 432x288 with 0 Axes>"
      ]
     },
     "metadata": {},
     "output_type": "display_data"
    }
   ],
   "source": [
    "plt.savefig(\"images/Medal_Point_Total_for_selected_Countries_by_Year.png\", dpi=300, bbox_inches='tight')"
   ]
  },
  {
   "cell_type": "code",
   "execution_count": 543,
   "metadata": {},
   "outputs": [
    {
     "data": {
      "text/plain": [
       "Year    Country      \n",
       "1976.0  Netherlands       17.0\n",
       "        Soviet Union     604.0\n",
       "        United States    337.0\n",
       "        West Germany     141.0\n",
       "1980.0  Netherlands        7.0\n",
       "        Soviet Union     953.0\n",
       "1984.0  Netherlands       86.0\n",
       "        United States    784.0\n",
       "        West Germany     293.0\n",
       "1988.0  Netherlands       55.0\n",
       "        Soviet Union     627.0\n",
       "        United States    411.0\n",
       "        West Germany     214.0\n",
       "1992.0  Germany          417.0\n",
       "        Netherlands       63.0\n",
       "        United States    452.0\n",
       "1996.0  Germany          243.0\n",
       "        Netherlands      158.0\n",
       "        Russia           232.0\n",
       "        United States    628.0\n",
       "2000.0  Germany          204.0\n",
       "        Netherlands      162.0\n",
       "        Russia           388.0\n",
       "        United States    574.0\n",
       "2004.0  Germany          276.0\n",
       "        Netherlands      134.0\n",
       "        Russia           335.0\n",
       "        United States    571.0\n",
       "2008.0  Germany          201.0\n",
       "        Netherlands      160.0\n",
       "        Russia           273.0\n",
       "        United States    674.0\n",
       "Name: Points, dtype: float64"
      ]
     },
     "execution_count": 543,
     "metadata": {},
     "output_type": "execute_result"
    }
   ],
   "source": [
    "year_df.groupby(['Year', 'Country'])['Points'].sum()"
   ]
  },
  {
   "cell_type": "markdown",
   "metadata": {},
   "source": [
    "#  Change in Performance of Top Four by Olympic Year"
   ]
  },
  {
   "cell_type": "code",
   "execution_count": 544,
   "metadata": {},
   "outputs": [
    {
     "data": {
      "text/html": [
       "<div>\n",
       "<style scoped>\n",
       "    .dataframe tbody tr th:only-of-type {\n",
       "        vertical-align: middle;\n",
       "    }\n",
       "\n",
       "    .dataframe tbody tr th {\n",
       "        vertical-align: top;\n",
       "    }\n",
       "\n",
       "    .dataframe thead th {\n",
       "        text-align: right;\n",
       "    }\n",
       "</style>\n",
       "<table border=\"1\" class=\"dataframe\">\n",
       "  <thead>\n",
       "    <tr style=\"text-align: right;\">\n",
       "      <th></th>\n",
       "      <th>Points</th>\n",
       "    </tr>\n",
       "    <tr>\n",
       "      <th>Country</th>\n",
       "      <th></th>\n",
       "    </tr>\n",
       "  </thead>\n",
       "  <tbody>\n",
       "    <tr>\n",
       "      <th>United States</th>\n",
       "      <td>4431.0</td>\n",
       "    </tr>\n",
       "    <tr>\n",
       "      <th>Soviet Union</th>\n",
       "      <td>2184.0</td>\n",
       "    </tr>\n",
       "    <tr>\n",
       "      <th>Australia</th>\n",
       "      <td>1500.0</td>\n",
       "    </tr>\n",
       "    <tr>\n",
       "      <th>China</th>\n",
       "      <td>1399.0</td>\n",
       "    </tr>\n",
       "    <tr>\n",
       "      <th>East Germany</th>\n",
       "      <td>1388.0</td>\n",
       "    </tr>\n",
       "  </tbody>\n",
       "</table>\n",
       "</div>"
      ],
      "text/plain": [
       "               Points\n",
       "Country              \n",
       "United States  4431.0\n",
       "Soviet Union   2184.0\n",
       "Australia      1500.0\n",
       "China          1399.0\n",
       "East Germany   1388.0"
      ]
     },
     "execution_count": 544,
     "metadata": {},
     "output_type": "execute_result"
    }
   ],
   "source": [
    "#show the top scorers without grouping Russia/Soviet Union and Germany/West Germanys\n",
    "\n",
    "top_score = olympics_data.groupby(\"Country\")[\"Points\"].sum()\n",
    "top_score_df = pd.DataFrame(top_score)\n",
    "top_score_sort_df = top_score_df.sort_values(by=['Points'], ascending=False)\n",
    "top_score_sort_df.head()"
   ]
  },
  {
   "cell_type": "code",
   "execution_count": 545,
   "metadata": {},
   "outputs": [
    {
     "data": {
      "text/html": [
       "<div>\n",
       "<style scoped>\n",
       "    .dataframe tbody tr th:only-of-type {\n",
       "        vertical-align: middle;\n",
       "    }\n",
       "\n",
       "    .dataframe tbody tr th {\n",
       "        vertical-align: top;\n",
       "    }\n",
       "\n",
       "    .dataframe thead th {\n",
       "        text-align: right;\n",
       "    }\n",
       "</style>\n",
       "<table border=\"1\" class=\"dataframe\">\n",
       "  <thead>\n",
       "    <tr style=\"text-align: right;\">\n",
       "      <th></th>\n",
       "      <th>Year</th>\n",
       "      <th>Points</th>\n",
       "      <th>Country</th>\n",
       "    </tr>\n",
       "  </thead>\n",
       "  <tbody>\n",
       "    <tr>\n",
       "      <th>0</th>\n",
       "      <td>1976.0</td>\n",
       "      <td>2.0</td>\n",
       "      <td>East Germany</td>\n",
       "    </tr>\n",
       "    <tr>\n",
       "      <th>1</th>\n",
       "      <td>1976.0</td>\n",
       "      <td>1.0</td>\n",
       "      <td>Soviet Union</td>\n",
       "    </tr>\n",
       "    <tr>\n",
       "      <th>2</th>\n",
       "      <td>1976.0</td>\n",
       "      <td>3.0</td>\n",
       "      <td>United States</td>\n",
       "    </tr>\n",
       "    <tr>\n",
       "      <th>3</th>\n",
       "      <td>1976.0</td>\n",
       "      <td>2.0</td>\n",
       "      <td>Italy</td>\n",
       "    </tr>\n",
       "    <tr>\n",
       "      <th>4</th>\n",
       "      <td>1976.0</td>\n",
       "      <td>1.0</td>\n",
       "      <td>United States</td>\n",
       "    </tr>\n",
       "    <tr>\n",
       "      <th>...</th>\n",
       "      <td>...</td>\n",
       "      <td>...</td>\n",
       "      <td>...</td>\n",
       "    </tr>\n",
       "    <tr>\n",
       "      <th>15428</th>\n",
       "      <td>2008.0</td>\n",
       "      <td>1.0</td>\n",
       "      <td>France</td>\n",
       "    </tr>\n",
       "    <tr>\n",
       "      <th>15429</th>\n",
       "      <td>2008.0</td>\n",
       "      <td>3.0</td>\n",
       "      <td>Georgia</td>\n",
       "    </tr>\n",
       "    <tr>\n",
       "      <th>15430</th>\n",
       "      <td>2008.0</td>\n",
       "      <td>2.0</td>\n",
       "      <td>Azerbaijan</td>\n",
       "    </tr>\n",
       "    <tr>\n",
       "      <th>15431</th>\n",
       "      <td>2008.0</td>\n",
       "      <td>3.0</td>\n",
       "      <td>France</td>\n",
       "    </tr>\n",
       "    <tr>\n",
       "      <th>15432</th>\n",
       "      <td>2008.0</td>\n",
       "      <td>3.0</td>\n",
       "      <td>Cuba</td>\n",
       "    </tr>\n",
       "  </tbody>\n",
       "</table>\n",
       "<p>15433 rows × 3 columns</p>\n",
       "</div>"
      ],
      "text/plain": [
       "         Year  Points        Country\n",
       "0      1976.0     2.0   East Germany\n",
       "1      1976.0     1.0   Soviet Union\n",
       "2      1976.0     3.0  United States\n",
       "3      1976.0     2.0          Italy\n",
       "4      1976.0     1.0  United States\n",
       "...       ...     ...            ...\n",
       "15428  2008.0     1.0         France\n",
       "15429  2008.0     3.0        Georgia\n",
       "15430  2008.0     2.0     Azerbaijan\n",
       "15431  2008.0     3.0         France\n",
       "15432  2008.0     3.0           Cuba\n",
       "\n",
       "[15433 rows x 3 columns]"
      ]
     },
     "execution_count": 545,
     "metadata": {},
     "output_type": "execute_result"
    }
   ],
   "source": [
    "#create a DataFrame with only needed info\n",
    "ycp_df = olympics_data[[\"Year\", \"Points\", \"Country\"]]\n",
    "ycp_df"
   ]
  },
  {
   "cell_type": "code",
   "execution_count": 546,
   "metadata": {},
   "outputs": [
    {
     "name": "stdout",
     "output_type": "stream",
     "text": [
      "total of Russia/Soviet Union points: 3412.0\n"
     ]
    }
   ],
   "source": [
    "#find total points of Russia/Soviet Union to see if it is in top 4\n",
    "russia_ussr = [\"Russia\", \"Soviet Union\"]\n",
    "russia_ussr_df = ycp_df[ycp_df[\"Country\"].isin(russia_ussr)]\n",
    "russia_ussr_points = russia_ussr_df[\"Points\"].sum()\n",
    "print(f\"total of Russia/Soviet Union points: {russia_ussr_points}\")"
   ]
  },
  {
   "cell_type": "code",
   "execution_count": 547,
   "metadata": {},
   "outputs": [
    {
     "name": "stdout",
     "output_type": "stream",
     "text": [
      "total of German/West German points 1989.0\n"
     ]
    }
   ],
   "source": [
    "#find total points of Germany/West Germany to see if it is in top 4\n",
    "germany_frd = [\"Germany\", \"West Germany\"]\n",
    "germany_frd_df= ycp_df[ycp_df[\"Country\"].isin(germany_frd)]\n",
    "germany_frd_points = germany_frd_df[\"Points\"].sum()\n",
    "print(f\"total of German/West German points {germany_frd_points}\")"
   ]
  },
  {
   "cell_type": "code",
   "execution_count": 548,
   "metadata": {},
   "outputs": [
    {
     "name": "stderr",
     "output_type": "stream",
     "text": [
      "<ipython-input-548-cf5f61e1f3fd>:2: SettingWithCopyWarning: \n",
      "A value is trying to be set on a copy of a slice from a DataFrame.\n",
      "Try using .loc[row_indexer,col_indexer] = value instead\n",
      "\n",
      "See the caveats in the documentation: https://pandas.pydata.org/pandas-docs/stable/user_guide/indexing.html#returning-a-view-versus-a-copy\n",
      "  ycp_df[\"Country\"] = ycp_df[\"Country\"].replace([\"Soviet Union\"], \"Soviet Union/Russia\")\n",
      "<ipython-input-548-cf5f61e1f3fd>:3: SettingWithCopyWarning: \n",
      "A value is trying to be set on a copy of a slice from a DataFrame.\n",
      "Try using .loc[row_indexer,col_indexer] = value instead\n",
      "\n",
      "See the caveats in the documentation: https://pandas.pydata.org/pandas-docs/stable/user_guide/indexing.html#returning-a-view-versus-a-copy\n",
      "  ycp_df[\"Country\"] = ycp_df[\"Country\"].replace([\"Russia\"], \"Soviet Union/Russia\")\n",
      "<ipython-input-548-cf5f61e1f3fd>:5: SettingWithCopyWarning: \n",
      "A value is trying to be set on a copy of a slice from a DataFrame.\n",
      "Try using .loc[row_indexer,col_indexer] = value instead\n",
      "\n",
      "See the caveats in the documentation: https://pandas.pydata.org/pandas-docs/stable/user_guide/indexing.html#returning-a-view-versus-a-copy\n",
      "  ycp_df[\"Country\"] = ycp_df[\"Country\"].replace([\"West Germany\"], \"West Germany/Germany\")\n",
      "<ipython-input-548-cf5f61e1f3fd>:6: SettingWithCopyWarning: \n",
      "A value is trying to be set on a copy of a slice from a DataFrame.\n",
      "Try using .loc[row_indexer,col_indexer] = value instead\n",
      "\n",
      "See the caveats in the documentation: https://pandas.pydata.org/pandas-docs/stable/user_guide/indexing.html#returning-a-view-versus-a-copy\n",
      "  ycp_df[\"Country\"] = ycp_df[\"Country\"].replace([\"Germany\"], \"West Germany/Germany\")\n"
     ]
    }
   ],
   "source": [
    "#rename Soviet Union and Russia to Soviet Union/Russia\n",
    "ycp_df[\"Country\"] = ycp_df[\"Country\"].replace([\"Soviet Union\"], \"Soviet Union/Russia\")\n",
    "ycp_df[\"Country\"] = ycp_df[\"Country\"].replace([\"Russia\"], \"Soviet Union/Russia\")\n",
    "#rename West Germany and Germany to West Germany/Germany\n",
    "ycp_df[\"Country\"] = ycp_df[\"Country\"].replace([\"West Germany\"], \"West Germany/Germany\")\n",
    "ycp_df[\"Country\"] = ycp_df[\"Country\"].replace([\"Germany\"], \"West Germany/Germany\")"
   ]
  },
  {
   "cell_type": "code",
   "execution_count": 549,
   "metadata": {},
   "outputs": [
    {
     "data": {
      "text/html": [
       "<div>\n",
       "<style scoped>\n",
       "    .dataframe tbody tr th:only-of-type {\n",
       "        vertical-align: middle;\n",
       "    }\n",
       "\n",
       "    .dataframe tbody tr th {\n",
       "        vertical-align: top;\n",
       "    }\n",
       "\n",
       "    .dataframe thead th {\n",
       "        text-align: right;\n",
       "    }\n",
       "</style>\n",
       "<table border=\"1\" class=\"dataframe\">\n",
       "  <thead>\n",
       "    <tr style=\"text-align: right;\">\n",
       "      <th></th>\n",
       "      <th>Year</th>\n",
       "      <th>Points</th>\n",
       "      <th>Country</th>\n",
       "    </tr>\n",
       "  </thead>\n",
       "  <tbody>\n",
       "    <tr>\n",
       "      <th>1</th>\n",
       "      <td>1976.0</td>\n",
       "      <td>1.0</td>\n",
       "      <td>Soviet Union/Russia</td>\n",
       "    </tr>\n",
       "    <tr>\n",
       "      <th>2</th>\n",
       "      <td>1976.0</td>\n",
       "      <td>3.0</td>\n",
       "      <td>United States</td>\n",
       "    </tr>\n",
       "    <tr>\n",
       "      <th>4</th>\n",
       "      <td>1976.0</td>\n",
       "      <td>1.0</td>\n",
       "      <td>United States</td>\n",
       "    </tr>\n",
       "    <tr>\n",
       "      <th>5</th>\n",
       "      <td>1976.0</td>\n",
       "      <td>2.0</td>\n",
       "      <td>United States</td>\n",
       "    </tr>\n",
       "    <tr>\n",
       "      <th>6</th>\n",
       "      <td>1976.0</td>\n",
       "      <td>3.0</td>\n",
       "      <td>Soviet Union/Russia</td>\n",
       "    </tr>\n",
       "    <tr>\n",
       "      <th>...</th>\n",
       "      <td>...</td>\n",
       "      <td>...</td>\n",
       "      <td>...</td>\n",
       "    </tr>\n",
       "    <tr>\n",
       "      <th>15413</th>\n",
       "      <td>2008.0</td>\n",
       "      <td>3.0</td>\n",
       "      <td>Soviet Union/Russia</td>\n",
       "    </tr>\n",
       "    <tr>\n",
       "      <th>15420</th>\n",
       "      <td>2008.0</td>\n",
       "      <td>1.0</td>\n",
       "      <td>United States</td>\n",
       "    </tr>\n",
       "    <tr>\n",
       "      <th>15422</th>\n",
       "      <td>2008.0</td>\n",
       "      <td>3.0</td>\n",
       "      <td>Soviet Union/Russia</td>\n",
       "    </tr>\n",
       "    <tr>\n",
       "      <th>15426</th>\n",
       "      <td>2008.0</td>\n",
       "      <td>2.0</td>\n",
       "      <td>West Germany/Germany</td>\n",
       "    </tr>\n",
       "    <tr>\n",
       "      <th>15427</th>\n",
       "      <td>2008.0</td>\n",
       "      <td>2.0</td>\n",
       "      <td>Soviet Union/Russia</td>\n",
       "    </tr>\n",
       "  </tbody>\n",
       "</table>\n",
       "<p>5485 rows × 3 columns</p>\n",
       "</div>"
      ],
      "text/plain": [
       "         Year  Points               Country\n",
       "1      1976.0     1.0   Soviet Union/Russia\n",
       "2      1976.0     3.0         United States\n",
       "4      1976.0     1.0         United States\n",
       "5      1976.0     2.0         United States\n",
       "6      1976.0     3.0   Soviet Union/Russia\n",
       "...       ...     ...                   ...\n",
       "15413  2008.0     3.0   Soviet Union/Russia\n",
       "15420  2008.0     1.0         United States\n",
       "15422  2008.0     3.0   Soviet Union/Russia\n",
       "15426  2008.0     2.0  West Germany/Germany\n",
       "15427  2008.0     2.0   Soviet Union/Russia\n",
       "\n",
       "[5485 rows x 3 columns]"
      ]
     },
     "execution_count": 549,
     "metadata": {},
     "output_type": "execute_result"
    }
   ],
   "source": [
    "#create a DataFrame with only the top 4 Countries\n",
    "topfour = [\"United States\", \"Soviet Union/Russia\", \"West Germany/Germany\", \"Australia\"]\n",
    "top_four = ycp_df[ycp_df[\"Country\"].isin(topfour)]\n",
    "top_four"
   ]
  },
  {
   "cell_type": "code",
   "execution_count": 550,
   "metadata": {},
   "outputs": [
    {
     "data": {
      "text/html": [
       "<div>\n",
       "<style scoped>\n",
       "    .dataframe tbody tr th:only-of-type {\n",
       "        vertical-align: middle;\n",
       "    }\n",
       "\n",
       "    .dataframe tbody tr th {\n",
       "        vertical-align: top;\n",
       "    }\n",
       "\n",
       "    .dataframe thead th {\n",
       "        text-align: right;\n",
       "    }\n",
       "</style>\n",
       "<table border=\"1\" class=\"dataframe\">\n",
       "  <thead>\n",
       "    <tr style=\"text-align: right;\">\n",
       "      <th></th>\n",
       "      <th></th>\n",
       "      <th>Points</th>\n",
       "    </tr>\n",
       "    <tr>\n",
       "      <th>Year</th>\n",
       "      <th>Country</th>\n",
       "      <th></th>\n",
       "    </tr>\n",
       "  </thead>\n",
       "  <tbody>\n",
       "    <tr>\n",
       "      <th rowspan=\"4\" valign=\"top\">1976.0</th>\n",
       "      <th>Australia</th>\n",
       "      <td>40.0</td>\n",
       "    </tr>\n",
       "    <tr>\n",
       "      <th>Soviet Union/Russia</th>\n",
       "      <td>604.0</td>\n",
       "    </tr>\n",
       "    <tr>\n",
       "      <th>United States</th>\n",
       "      <td>337.0</td>\n",
       "    </tr>\n",
       "    <tr>\n",
       "      <th>West Germany/Germany</th>\n",
       "      <td>141.0</td>\n",
       "    </tr>\n",
       "    <tr>\n",
       "      <th rowspan=\"2\" valign=\"top\">1980.0</th>\n",
       "      <th>Australia</th>\n",
       "      <td>24.0</td>\n",
       "    </tr>\n",
       "    <tr>\n",
       "      <th>Soviet Union/Russia</th>\n",
       "      <td>953.0</td>\n",
       "    </tr>\n",
       "    <tr>\n",
       "      <th rowspan=\"3\" valign=\"top\">1984.0</th>\n",
       "      <th>Australia</th>\n",
       "      <td>78.0</td>\n",
       "    </tr>\n",
       "    <tr>\n",
       "      <th>United States</th>\n",
       "      <td>784.0</td>\n",
       "    </tr>\n",
       "    <tr>\n",
       "      <th>West Germany/Germany</th>\n",
       "      <td>293.0</td>\n",
       "    </tr>\n",
       "    <tr>\n",
       "      <th rowspan=\"4\" valign=\"top\">1988.0</th>\n",
       "      <th>Australia</th>\n",
       "      <td>76.0</td>\n",
       "    </tr>\n",
       "    <tr>\n",
       "      <th>Soviet Union/Russia</th>\n",
       "      <td>627.0</td>\n",
       "    </tr>\n",
       "    <tr>\n",
       "      <th>United States</th>\n",
       "      <td>411.0</td>\n",
       "    </tr>\n",
       "    <tr>\n",
       "      <th>West Germany/Germany</th>\n",
       "      <td>214.0</td>\n",
       "    </tr>\n",
       "    <tr>\n",
       "      <th rowspan=\"3\" valign=\"top\">1992.0</th>\n",
       "      <th>Australia</th>\n",
       "      <td>112.0</td>\n",
       "    </tr>\n",
       "    <tr>\n",
       "      <th>United States</th>\n",
       "      <td>452.0</td>\n",
       "    </tr>\n",
       "    <tr>\n",
       "      <th>West Germany/Germany</th>\n",
       "      <td>417.0</td>\n",
       "    </tr>\n",
       "    <tr>\n",
       "      <th rowspan=\"4\" valign=\"top\">1996.0</th>\n",
       "      <th>Australia</th>\n",
       "      <td>212.0</td>\n",
       "    </tr>\n",
       "    <tr>\n",
       "      <th>Soviet Union/Russia</th>\n",
       "      <td>232.0</td>\n",
       "    </tr>\n",
       "    <tr>\n",
       "      <th>United States</th>\n",
       "      <td>628.0</td>\n",
       "    </tr>\n",
       "    <tr>\n",
       "      <th>West Germany/Germany</th>\n",
       "      <td>243.0</td>\n",
       "    </tr>\n",
       "    <tr>\n",
       "      <th rowspan=\"4\" valign=\"top\">2000.0</th>\n",
       "      <th>Australia</th>\n",
       "      <td>372.0</td>\n",
       "    </tr>\n",
       "    <tr>\n",
       "      <th>Soviet Union/Russia</th>\n",
       "      <td>388.0</td>\n",
       "    </tr>\n",
       "    <tr>\n",
       "      <th>United States</th>\n",
       "      <td>574.0</td>\n",
       "    </tr>\n",
       "    <tr>\n",
       "      <th>West Germany/Germany</th>\n",
       "      <td>204.0</td>\n",
       "    </tr>\n",
       "    <tr>\n",
       "      <th rowspan=\"4\" valign=\"top\">2004.0</th>\n",
       "      <th>Australia</th>\n",
       "      <td>333.0</td>\n",
       "    </tr>\n",
       "    <tr>\n",
       "      <th>Soviet Union/Russia</th>\n",
       "      <td>335.0</td>\n",
       "    </tr>\n",
       "    <tr>\n",
       "      <th>United States</th>\n",
       "      <td>571.0</td>\n",
       "    </tr>\n",
       "    <tr>\n",
       "      <th>West Germany/Germany</th>\n",
       "      <td>276.0</td>\n",
       "    </tr>\n",
       "    <tr>\n",
       "      <th rowspan=\"4\" valign=\"top\">2008.0</th>\n",
       "      <th>Australia</th>\n",
       "      <td>253.0</td>\n",
       "    </tr>\n",
       "    <tr>\n",
       "      <th>Soviet Union/Russia</th>\n",
       "      <td>273.0</td>\n",
       "    </tr>\n",
       "    <tr>\n",
       "      <th>United States</th>\n",
       "      <td>674.0</td>\n",
       "    </tr>\n",
       "    <tr>\n",
       "      <th>West Germany/Germany</th>\n",
       "      <td>201.0</td>\n",
       "    </tr>\n",
       "  </tbody>\n",
       "</table>\n",
       "</div>"
      ],
      "text/plain": [
       "                             Points\n",
       "Year   Country                     \n",
       "1976.0 Australia               40.0\n",
       "       Soviet Union/Russia    604.0\n",
       "       United States          337.0\n",
       "       West Germany/Germany   141.0\n",
       "1980.0 Australia               24.0\n",
       "       Soviet Union/Russia    953.0\n",
       "1984.0 Australia               78.0\n",
       "       United States          784.0\n",
       "       West Germany/Germany   293.0\n",
       "1988.0 Australia               76.0\n",
       "       Soviet Union/Russia    627.0\n",
       "       United States          411.0\n",
       "       West Germany/Germany   214.0\n",
       "1992.0 Australia              112.0\n",
       "       United States          452.0\n",
       "       West Germany/Germany   417.0\n",
       "1996.0 Australia              212.0\n",
       "       Soviet Union/Russia    232.0\n",
       "       United States          628.0\n",
       "       West Germany/Germany   243.0\n",
       "2000.0 Australia              372.0\n",
       "       Soviet Union/Russia    388.0\n",
       "       United States          574.0\n",
       "       West Germany/Germany   204.0\n",
       "2004.0 Australia              333.0\n",
       "       Soviet Union/Russia    335.0\n",
       "       United States          571.0\n",
       "       West Germany/Germany   276.0\n",
       "2008.0 Australia              253.0\n",
       "       Soviet Union/Russia    273.0\n",
       "       United States          674.0\n",
       "       West Germany/Germany   201.0"
      ]
     },
     "execution_count": 550,
     "metadata": {},
     "output_type": "execute_result"
    }
   ],
   "source": [
    "#group the DataFrame by Year and Country to get each countries total points for each Olympic Year \n",
    "top_four_points = top_four.groupby([\"Year\",\"Country\"])[\"Points\"].sum()\n",
    "top_four_points_df = pd.DataFrame(top_four_points)\n",
    "top_four_points_df"
   ]
  },
  {
   "cell_type": "code",
   "execution_count": 551,
   "metadata": {},
   "outputs": [
    {
     "data": {
      "image/png": "[encoded data removed]",
      "text/plain": [
       "<Figure size 720x360 with 1 Axes>"
      ]
     },
     "metadata": {
      "needs_background": "light"
     },
     "output_type": "display_data"
    }
   ],
   "source": [
    "#create a line plot\n",
    "top_four_points_df.unstack().plot(figsize=(10,5), marker = \"o\")\n",
    "#get list of years for x axis\n",
    "year = top_four[\"Year\"].unique()\n",
    "plt.xticks(year)\n",
    "plt.xlabel(\"Olympic Years\")\n",
    "plt.ylabel(\"Points\")\n",
    "plt.title(\"Top 4 preformance 1976-2008\")\n",
    "plt.legend([\"Australia\",\"Soviet Union/Russia\", \"United States\", \"West Germany/Germany\"])\n",
    "plt.savefig(\"images/top_four_preformance.png\")\n",
    "plt.show()\n",
    "\n"
   ]
  },
  {
   "cell_type": "code",
   "execution_count": 552,
   "metadata": {},
   "outputs": [
    {
     "data": {
      "text/html": [
       "<div>\n",
       "<style scoped>\n",
       "    .dataframe tbody tr th:only-of-type {\n",
       "        vertical-align: middle;\n",
       "    }\n",
       "\n",
       "    .dataframe tbody tr th {\n",
       "        vertical-align: top;\n",
       "    }\n",
       "\n",
       "    .dataframe thead th {\n",
       "        text-align: right;\n",
       "    }\n",
       "</style>\n",
       "<table border=\"1\" class=\"dataframe\">\n",
       "  <thead>\n",
       "    <tr style=\"text-align: right;\">\n",
       "      <th>Country</th>\n",
       "      <th>Australia</th>\n",
       "      <th>Soviet Union/Russia</th>\n",
       "      <th>United States</th>\n",
       "      <th>West Germany/Germany</th>\n",
       "    </tr>\n",
       "    <tr>\n",
       "      <th>Year</th>\n",
       "      <th></th>\n",
       "      <th></th>\n",
       "      <th></th>\n",
       "      <th></th>\n",
       "    </tr>\n",
       "  </thead>\n",
       "  <tbody>\n",
       "    <tr>\n",
       "      <th>1976.0</th>\n",
       "      <td>40.0</td>\n",
       "      <td>604.0</td>\n",
       "      <td>337.0</td>\n",
       "      <td>141.0</td>\n",
       "    </tr>\n",
       "    <tr>\n",
       "      <th>1980.0</th>\n",
       "      <td>24.0</td>\n",
       "      <td>953.0</td>\n",
       "      <td>NaN</td>\n",
       "      <td>NaN</td>\n",
       "    </tr>\n",
       "    <tr>\n",
       "      <th>1984.0</th>\n",
       "      <td>78.0</td>\n",
       "      <td>NaN</td>\n",
       "      <td>784.0</td>\n",
       "      <td>293.0</td>\n",
       "    </tr>\n",
       "    <tr>\n",
       "      <th>1988.0</th>\n",
       "      <td>76.0</td>\n",
       "      <td>627.0</td>\n",
       "      <td>411.0</td>\n",
       "      <td>214.0</td>\n",
       "    </tr>\n",
       "    <tr>\n",
       "      <th>1992.0</th>\n",
       "      <td>112.0</td>\n",
       "      <td>NaN</td>\n",
       "      <td>452.0</td>\n",
       "      <td>417.0</td>\n",
       "    </tr>\n",
       "    <tr>\n",
       "      <th>1996.0</th>\n",
       "      <td>212.0</td>\n",
       "      <td>232.0</td>\n",
       "      <td>628.0</td>\n",
       "      <td>243.0</td>\n",
       "    </tr>\n",
       "    <tr>\n",
       "      <th>2000.0</th>\n",
       "      <td>372.0</td>\n",
       "      <td>388.0</td>\n",
       "      <td>574.0</td>\n",
       "      <td>204.0</td>\n",
       "    </tr>\n",
       "    <tr>\n",
       "      <th>2004.0</th>\n",
       "      <td>333.0</td>\n",
       "      <td>335.0</td>\n",
       "      <td>571.0</td>\n",
       "      <td>276.0</td>\n",
       "    </tr>\n",
       "    <tr>\n",
       "      <th>2008.0</th>\n",
       "      <td>253.0</td>\n",
       "      <td>273.0</td>\n",
       "      <td>674.0</td>\n",
       "      <td>201.0</td>\n",
       "    </tr>\n",
       "  </tbody>\n",
       "</table>\n",
       "</div>"
      ],
      "text/plain": [
       "Country  Australia  Soviet Union/Russia  United States  West Germany/Germany\n",
       "Year                                                                        \n",
       "1976.0        40.0                604.0          337.0                 141.0\n",
       "1980.0        24.0                953.0            NaN                   NaN\n",
       "1984.0        78.0                  NaN          784.0                 293.0\n",
       "1988.0        76.0                627.0          411.0                 214.0\n",
       "1992.0       112.0                  NaN          452.0                 417.0\n",
       "1996.0       212.0                232.0          628.0                 243.0\n",
       "2000.0       372.0                388.0          574.0                 204.0\n",
       "2004.0       333.0                335.0          571.0                 276.0\n",
       "2008.0       253.0                273.0          674.0                 201.0"
      ]
     },
     "execution_count": 552,
     "metadata": {},
     "output_type": "execute_result"
    }
   ],
   "source": [
    "utfp = top_four_points.unstack()\n",
    "utfp"
   ]
  },
  {
   "cell_type": "code",
   "execution_count": 553,
   "metadata": {},
   "outputs": [
    {
     "data": {
      "text/html": [
       "<div>\n",
       "<style scoped>\n",
       "    .dataframe tbody tr th:only-of-type {\n",
       "        vertical-align: middle;\n",
       "    }\n",
       "\n",
       "    .dataframe tbody tr th {\n",
       "        vertical-align: top;\n",
       "    }\n",
       "\n",
       "    .dataframe thead th {\n",
       "        text-align: right;\n",
       "    }\n",
       "</style>\n",
       "<table border=\"1\" class=\"dataframe\">\n",
       "  <thead>\n",
       "    <tr style=\"text-align: right;\">\n",
       "      <th></th>\n",
       "      <th>Year</th>\n",
       "      <th>Points</th>\n",
       "      <th>Country</th>\n",
       "      <th>Gender</th>\n",
       "    </tr>\n",
       "  </thead>\n",
       "  <tbody>\n",
       "    <tr>\n",
       "      <th>0</th>\n",
       "      <td>1976.0</td>\n",
       "      <td>2.0</td>\n",
       "      <td>East Germany</td>\n",
       "      <td>Women</td>\n",
       "    </tr>\n",
       "    <tr>\n",
       "      <th>1</th>\n",
       "      <td>1976.0</td>\n",
       "      <td>1.0</td>\n",
       "      <td>Soviet Union</td>\n",
       "      <td>Men</td>\n",
       "    </tr>\n",
       "    <tr>\n",
       "      <th>2</th>\n",
       "      <td>1976.0</td>\n",
       "      <td>3.0</td>\n",
       "      <td>United States</td>\n",
       "      <td>Men</td>\n",
       "    </tr>\n",
       "    <tr>\n",
       "      <th>3</th>\n",
       "      <td>1976.0</td>\n",
       "      <td>2.0</td>\n",
       "      <td>Italy</td>\n",
       "      <td>Men</td>\n",
       "    </tr>\n",
       "    <tr>\n",
       "      <th>4</th>\n",
       "      <td>1976.0</td>\n",
       "      <td>1.0</td>\n",
       "      <td>United States</td>\n",
       "      <td>Women</td>\n",
       "    </tr>\n",
       "    <tr>\n",
       "      <th>...</th>\n",
       "      <td>...</td>\n",
       "      <td>...</td>\n",
       "      <td>...</td>\n",
       "      <td>...</td>\n",
       "    </tr>\n",
       "    <tr>\n",
       "      <th>15428</th>\n",
       "      <td>2008.0</td>\n",
       "      <td>1.0</td>\n",
       "      <td>France</td>\n",
       "      <td>Men</td>\n",
       "    </tr>\n",
       "    <tr>\n",
       "      <th>15429</th>\n",
       "      <td>2008.0</td>\n",
       "      <td>3.0</td>\n",
       "      <td>Georgia</td>\n",
       "      <td>Men</td>\n",
       "    </tr>\n",
       "    <tr>\n",
       "      <th>15430</th>\n",
       "      <td>2008.0</td>\n",
       "      <td>2.0</td>\n",
       "      <td>Azerbaijan</td>\n",
       "      <td>Men</td>\n",
       "    </tr>\n",
       "    <tr>\n",
       "      <th>15431</th>\n",
       "      <td>2008.0</td>\n",
       "      <td>3.0</td>\n",
       "      <td>France</td>\n",
       "      <td>Men</td>\n",
       "    </tr>\n",
       "    <tr>\n",
       "      <th>15432</th>\n",
       "      <td>2008.0</td>\n",
       "      <td>3.0</td>\n",
       "      <td>Cuba</td>\n",
       "      <td>Men</td>\n",
       "    </tr>\n",
       "  </tbody>\n",
       "</table>\n",
       "<p>15433 rows × 4 columns</p>\n",
       "</div>"
      ],
      "text/plain": [
       "         Year  Points        Country Gender\n",
       "0      1976.0     2.0   East Germany  Women\n",
       "1      1976.0     1.0   Soviet Union    Men\n",
       "2      1976.0     3.0  United States    Men\n",
       "3      1976.0     2.0          Italy    Men\n",
       "4      1976.0     1.0  United States  Women\n",
       "...       ...     ...            ...    ...\n",
       "15428  2008.0     1.0         France    Men\n",
       "15429  2008.0     3.0        Georgia    Men\n",
       "15430  2008.0     2.0     Azerbaijan    Men\n",
       "15431  2008.0     3.0         France    Men\n",
       "15432  2008.0     3.0           Cuba    Men\n",
       "\n",
       "[15433 rows x 4 columns]"
      ]
     },
     "execution_count": 553,
     "metadata": {},
     "output_type": "execute_result"
    }
   ],
   "source": [
    "#create a DataFrame that contains Year, Points, Country, and Gender\n",
    "ycpg_df = olympics_data[[\"Year\", \"Points\", \"Country\", \"Gender\"]]\n",
    "ycpg_df"
   ]
  },
  {
   "cell_type": "code",
   "execution_count": 554,
   "metadata": {},
   "outputs": [
    {
     "name": "stderr",
     "output_type": "stream",
     "text": [
      "<ipython-input-554-8b1ddd0b5d7d>:2: SettingWithCopyWarning: \n",
      "A value is trying to be set on a copy of a slice from a DataFrame.\n",
      "Try using .loc[row_indexer,col_indexer] = value instead\n",
      "\n",
      "See the caveats in the documentation: https://pandas.pydata.org/pandas-docs/stable/user_guide/indexing.html#returning-a-view-versus-a-copy\n",
      "  ycpg_df[\"Country\"] = ycpg_df[\"Country\"].replace([\"Soviet Union\"], \"Soviet Union/Russia\")\n",
      "<ipython-input-554-8b1ddd0b5d7d>:3: SettingWithCopyWarning: \n",
      "A value is trying to be set on a copy of a slice from a DataFrame.\n",
      "Try using .loc[row_indexer,col_indexer] = value instead\n",
      "\n",
      "See the caveats in the documentation: https://pandas.pydata.org/pandas-docs/stable/user_guide/indexing.html#returning-a-view-versus-a-copy\n",
      "  ycpg_df[\"Country\"] = ycpg_df[\"Country\"].replace([\"Russia\"], \"Soviet Union/Russia\")\n",
      "<ipython-input-554-8b1ddd0b5d7d>:5: SettingWithCopyWarning: \n",
      "A value is trying to be set on a copy of a slice from a DataFrame.\n",
      "Try using .loc[row_indexer,col_indexer] = value instead\n",
      "\n",
      "See the caveats in the documentation: https://pandas.pydata.org/pandas-docs/stable/user_guide/indexing.html#returning-a-view-versus-a-copy\n",
      "  ycpg_df[\"Country\"] = ycpg_df[\"Country\"].replace([\"West Germany\"], \"West Germany/Germany\")\n",
      "<ipython-input-554-8b1ddd0b5d7d>:6: SettingWithCopyWarning: \n",
      "A value is trying to be set on a copy of a slice from a DataFrame.\n",
      "Try using .loc[row_indexer,col_indexer] = value instead\n",
      "\n",
      "See the caveats in the documentation: https://pandas.pydata.org/pandas-docs/stable/user_guide/indexing.html#returning-a-view-versus-a-copy\n",
      "  ycpg_df[\"Country\"] = ycpg_df[\"Country\"].replace([\"Germany\"], \"West Germany/Germany\")\n"
     ]
    },
    {
     "data": {
      "text/html": [
       "<div>\n",
       "<style scoped>\n",
       "    .dataframe tbody tr th:only-of-type {\n",
       "        vertical-align: middle;\n",
       "    }\n",
       "\n",
       "    .dataframe tbody tr th {\n",
       "        vertical-align: top;\n",
       "    }\n",
       "\n",
       "    .dataframe thead th {\n",
       "        text-align: right;\n",
       "    }\n",
       "</style>\n",
       "<table border=\"1\" class=\"dataframe\">\n",
       "  <thead>\n",
       "    <tr style=\"text-align: right;\">\n",
       "      <th></th>\n",
       "      <th>Year</th>\n",
       "      <th>Points</th>\n",
       "      <th>Country</th>\n",
       "      <th>Gender</th>\n",
       "    </tr>\n",
       "  </thead>\n",
       "  <tbody>\n",
       "    <tr>\n",
       "      <th>1</th>\n",
       "      <td>1976.0</td>\n",
       "      <td>1.0</td>\n",
       "      <td>Soviet Union/Russia</td>\n",
       "      <td>Men</td>\n",
       "    </tr>\n",
       "    <tr>\n",
       "      <th>2</th>\n",
       "      <td>1976.0</td>\n",
       "      <td>3.0</td>\n",
       "      <td>United States</td>\n",
       "      <td>Men</td>\n",
       "    </tr>\n",
       "    <tr>\n",
       "      <th>4</th>\n",
       "      <td>1976.0</td>\n",
       "      <td>1.0</td>\n",
       "      <td>United States</td>\n",
       "      <td>Women</td>\n",
       "    </tr>\n",
       "    <tr>\n",
       "      <th>5</th>\n",
       "      <td>1976.0</td>\n",
       "      <td>2.0</td>\n",
       "      <td>United States</td>\n",
       "      <td>Men</td>\n",
       "    </tr>\n",
       "    <tr>\n",
       "      <th>6</th>\n",
       "      <td>1976.0</td>\n",
       "      <td>3.0</td>\n",
       "      <td>Soviet Union/Russia</td>\n",
       "      <td>Women</td>\n",
       "    </tr>\n",
       "    <tr>\n",
       "      <th>...</th>\n",
       "      <td>...</td>\n",
       "      <td>...</td>\n",
       "      <td>...</td>\n",
       "      <td>...</td>\n",
       "    </tr>\n",
       "    <tr>\n",
       "      <th>15413</th>\n",
       "      <td>2008.0</td>\n",
       "      <td>3.0</td>\n",
       "      <td>Soviet Union/Russia</td>\n",
       "      <td>Men</td>\n",
       "    </tr>\n",
       "    <tr>\n",
       "      <th>15420</th>\n",
       "      <td>2008.0</td>\n",
       "      <td>1.0</td>\n",
       "      <td>United States</td>\n",
       "      <td>Men</td>\n",
       "    </tr>\n",
       "    <tr>\n",
       "      <th>15422</th>\n",
       "      <td>2008.0</td>\n",
       "      <td>3.0</td>\n",
       "      <td>Soviet Union/Russia</td>\n",
       "      <td>Men</td>\n",
       "    </tr>\n",
       "    <tr>\n",
       "      <th>15426</th>\n",
       "      <td>2008.0</td>\n",
       "      <td>2.0</td>\n",
       "      <td>West Germany/Germany</td>\n",
       "      <td>Men</td>\n",
       "    </tr>\n",
       "    <tr>\n",
       "      <th>15427</th>\n",
       "      <td>2008.0</td>\n",
       "      <td>2.0</td>\n",
       "      <td>Soviet Union/Russia</td>\n",
       "      <td>Men</td>\n",
       "    </tr>\n",
       "  </tbody>\n",
       "</table>\n",
       "<p>5485 rows × 4 columns</p>\n",
       "</div>"
      ],
      "text/plain": [
       "         Year  Points               Country Gender\n",
       "1      1976.0     1.0   Soviet Union/Russia    Men\n",
       "2      1976.0     3.0         United States    Men\n",
       "4      1976.0     1.0         United States  Women\n",
       "5      1976.0     2.0         United States    Men\n",
       "6      1976.0     3.0   Soviet Union/Russia  Women\n",
       "...       ...     ...                   ...    ...\n",
       "15413  2008.0     3.0   Soviet Union/Russia    Men\n",
       "15420  2008.0     1.0         United States    Men\n",
       "15422  2008.0     3.0   Soviet Union/Russia    Men\n",
       "15426  2008.0     2.0  West Germany/Germany    Men\n",
       "15427  2008.0     2.0   Soviet Union/Russia    Men\n",
       "\n",
       "[5485 rows x 4 columns]"
      ]
     },
     "execution_count": 554,
     "metadata": {},
     "output_type": "execute_result"
    }
   ],
   "source": [
    "#rename Soviet Union and Russia to Soviet Union/Russia\n",
    "ycpg_df[\"Country\"] = ycpg_df[\"Country\"].replace([\"Soviet Union\"], \"Soviet Union/Russia\")\n",
    "ycpg_df[\"Country\"] = ycpg_df[\"Country\"].replace([\"Russia\"], \"Soviet Union/Russia\")\n",
    "#rename West Germany and Germany to West Germany/Germany\n",
    "ycpg_df[\"Country\"] = ycpg_df[\"Country\"].replace([\"West Germany\"], \"West Germany/Germany\")\n",
    "ycpg_df[\"Country\"] = ycpg_df[\"Country\"].replace([\"Germany\"], \"West Germany/Germany\")\n",
    "\n",
    "#create a DataFrame containing Top 4\n",
    "topfourg = [\"United States\", \"Soviet Union/Russia\", \"West Germany/Germany\", \"Australia\"]\n",
    "top_fourg = ycpg_df[ycpg_df[\"Country\"].isin(topfour)]\n",
    "top_fourg"
   ]
  },
  {
   "cell_type": "code",
   "execution_count": 555,
   "metadata": {},
   "outputs": [],
   "source": [
    "#create DataFrames for each gender\n",
    "top_four_w = top_fourg[top_fourg[\"Gender\"]==(\"Women\")]\n",
    "top_four_m = top_fourg[top_fourg[\"Gender\"]==(\"Men\")]"
   ]
  },
  {
   "cell_type": "code",
   "execution_count": 556,
   "metadata": {},
   "outputs": [
    {
     "name": "stdout",
     "output_type": "stream",
     "text": [
      "                             Points\n",
      "Year   Country                     \n",
      "1976.0 Soviet Union/Russia    230.0\n",
      "       United States           90.0\n",
      "       West Germany/Germany    21.0\n",
      "1980.0 Australia                4.0\n",
      "       Soviet Union/Russia    297.0\n",
      "1984.0 Australia               15.0\n",
      "       United States          300.0\n",
      "       West Germany/Germany    86.0\n",
      "1988.0 Australia               56.0\n",
      "       Soviet Union/Russia    161.0\n",
      "       United States          137.0\n",
      "       West Germany/Germany    46.0\n",
      "1992.0 Australia               19.0\n",
      "       United States          184.0\n",
      "       West Germany/Germany   162.0\n",
      "1996.0 Australia              124.0\n",
      "       Soviet Union/Russia     57.0\n",
      "       United States          347.0\n",
      "       West Germany/Germany    92.0\n",
      "2000.0 Australia              193.0\n",
      "       Soviet Union/Russia    178.0\n",
      "       United States          290.0\n",
      "       West Germany/Germany    99.0\n",
      "2004.0 Australia              130.0\n",
      "       Soviet Union/Russia    188.0\n",
      "       United States          319.0\n",
      "       West Germany/Germany   145.0\n",
      "2008.0 Australia              151.0\n",
      "       Soviet Union/Russia    172.0\n",
      "       United States          358.0\n",
      "       West Germany/Germany    76.0\n",
      "                             Points\n",
      "Year   Country                     \n",
      "1976.0 Australia               40.0\n",
      "       Soviet Union/Russia    374.0\n",
      "       United States          247.0\n",
      "       West Germany/Germany   120.0\n",
      "1980.0 Australia               20.0\n",
      "       Soviet Union/Russia    656.0\n",
      "1984.0 Australia               63.0\n",
      "       United States          484.0\n",
      "       West Germany/Germany   207.0\n",
      "1988.0 Australia               20.0\n",
      "       Soviet Union/Russia    466.0\n",
      "       United States          274.0\n",
      "       West Germany/Germany   168.0\n",
      "1992.0 Australia               93.0\n",
      "       United States          268.0\n",
      "       West Germany/Germany   255.0\n",
      "1996.0 Australia               88.0\n",
      "       Soviet Union/Russia    175.0\n",
      "       United States          281.0\n",
      "       West Germany/Germany   151.0\n",
      "2000.0 Australia              179.0\n",
      "       Soviet Union/Russia    210.0\n",
      "       United States          284.0\n",
      "       West Germany/Germany   105.0\n",
      "2004.0 Australia              203.0\n",
      "       Soviet Union/Russia    147.0\n",
      "       United States          252.0\n",
      "       West Germany/Germany   131.0\n",
      "2008.0 Australia              102.0\n",
      "       Soviet Union/Russia    101.0\n",
      "       United States          316.0\n",
      "       West Germany/Germany   125.0\n"
     ]
    }
   ],
   "source": [
    "#group each DataFrame by Year and Country\n",
    "top_four_points_w = top_four_w.groupby([\"Year\",\"Country\"])[\"Points\"].sum()\n",
    "top_four_points_w_df = pd.DataFrame(top_four_points_w)\n",
    "\n",
    "top_four_points_m = top_four_m.groupby([\"Year\",\"Country\"])[\"Points\"].sum()\n",
    "top_four_points_m_df = pd.DataFrame(top_four_points_m)\n",
    "\n",
    "print(top_four_points_w_df)\n",
    "print(top_four_points_m_df)"
   ]
  },
  {
   "cell_type": "code",
   "execution_count": 557,
   "metadata": {},
   "outputs": [
    {
     "data": {
      "image/png": "[encoded data removed]",
      "text/plain": [
       "<Figure size 720x360 with 1 Axes>"
      ]
     },
     "metadata": {
      "needs_background": "light"
     },
     "output_type": "display_data"
    },
    {
     "data": {
      "image/png": "[encoded data removed]",
      "text/plain": [
       "<Figure size 720x360 with 1 Axes>"
      ]
     },
     "metadata": {
      "needs_background": "light"
     },
     "output_type": "display_data"
    }
   ],
   "source": [
    "#create a line plot for each DataFrame\n",
    "top_four_points_w_df.unstack().plot(figsize=(10,5), marker = \"o\")\n",
    "#get list of years for x axis\n",
    "year = top_four[\"Year\"].unique()\n",
    "ypoint = [0, 100, 200, 300, 400, 500, 600, 700]\n",
    "plt.xticks(year)\n",
    "plt.yticks(ypoint)\n",
    "plt.xlabel(\"Olympic Years\")\n",
    "plt.ylabel(\"Points\")\n",
    "plt.title(\"Top 4 preformance 1976-2008(Women)\")\n",
    "plt.legend([\"Australia\",\"Soviet Union/Russia\", \"United States\", \"West Germany/Germany\"])\n",
    "plt.savefig(\"images/top_four_w_preformance.png\")\n",
    "\n",
    "plt.show()\n",
    "\n",
    "#create a line plot\n",
    "top_four_points_m_df.unstack().plot(figsize=(10,5), marker = \"o\")\n",
    "#get list of years for x axis\n",
    "year = top_four[\"Year\"].unique()\n",
    "plt.xticks(year)\n",
    "plt.yticks(ypoint)\n",
    "plt.xlabel(\"Olympic Years\")\n",
    "plt.ylabel(\"Points\")\n",
    "plt.title(\"Top 4 preformance 1976-2008(Men)\")\n",
    "plt.legend([\"Australia\",\"Soviet Union/Russia\", \"United States\", \"West Germany/Germany\"])\n",
    "plt.savefig(\"images/top_four_m_preformance.png\")\n",
    "\n",
    "plt.show()"
   ]
  },
  {
   "cell_type": "markdown",
   "metadata": {},
   "source": [
    "# Comparing the Results of Countries Pre- and Post- Extreme Regime Changes"
   ]
  },
  {
   "cell_type": "markdown",
   "metadata": {},
   "source": [
    "There were 15 countries in the Soviet Union: Armenia, Azerbaijan, Belarus, Estonia, Georgia, Kazakhstan, Kyrgyzstan, Latvia, Lithuania, Moldova, Russia, Tajikistan, Turkmenistan, Ukraine, and Uzbekistan (https://www.infobloom.com/which-countries-were-part-of-the-soviet-union.htm). East and West Germany became one united Germany. This section looks at the performance of the Soviet Union's perforance during the olympics pre-1996 (since it collapsed in 1991, but the countries competed together in 1992) and compares it to the performance of these 15 countries from 1992 on. Similarly, the performances of East and West Germany during the olympics pre-1992 (since they unified in 1990 (https://www.history.com/this-day-in-history/east-and-west-germany-reunite-after-45-years)) will be compared to the performance of Germany from 1992 on. - Kaylie S."
   ]
  },
  {
   "cell_type": "code",
   "execution_count": 558,
   "metadata": {},
   "outputs": [
    {
     "data": {
      "text/plain": [
       "array(['Afghanistan', 'Algeria', 'Argentina', 'Armenia', 'Australia',\n",
       "       'Austria', 'Azerbaijan', 'Bahamas', 'Barbados', 'Belarus',\n",
       "       'Belgium', 'Bermuda*', 'Brazil', 'Bulgaria', 'Burundi', 'Cameroon',\n",
       "       'Canada', 'Chile', 'China', 'Colombia', 'Costa Rica',\n",
       "       \"Cote d'Ivoire\", 'Croatia', 'Cuba', 'Czech Republic',\n",
       "       'Czechoslovakia', 'Denmark', 'Djibouti', 'Dominican Republic',\n",
       "       'East Germany', 'Ecuador', 'Egypt', 'Eritrea', 'Estonia',\n",
       "       'Ethiopia', 'Finland', 'France', 'Georgia', 'Germany', 'Ghana',\n",
       "       'Greece', 'Guyana', 'Hong Kong*', 'Hungary', 'Iceland',\n",
       "       'Independent Olympic Participants (1992)', 'India', 'Indonesia',\n",
       "       'Iran', 'Ireland', 'Israel', 'Italy', 'Jamaica', 'Japan',\n",
       "       'Kazakhstan', 'Kenya', 'Korea, North', 'Korea, South', 'Kuwait',\n",
       "       'Kyrgyzstan', 'Latvia', 'Lebanon', 'Lithuania', 'Macedonia',\n",
       "       'Malaysia', 'Mauritius', 'Mexico', 'Moldova', 'Mongolia',\n",
       "       'Morocco', 'Mozambique', 'Namibia', 'Netherlands',\n",
       "       'Netherlands Antilles*', 'New Zealand', 'Nigeria', 'Norway',\n",
       "       'Pakistan', 'Panama', 'Paraguay', 'Peru', 'Philippines', 'Poland',\n",
       "       'Portugal', 'Puerto Rico*', 'Qatar', 'Romania', 'Russia',\n",
       "       'Saudi Arabia', 'Senegal', 'Serbia', 'Singapore', 'Slovakia',\n",
       "       'Slovenia', 'South Africa', 'Soviet Union', 'Spain', 'Sri Lanka',\n",
       "       'Sudan', 'Suriname', 'Sweden', 'Switzerland', 'Syria', 'Taiwan',\n",
       "       'Tajikistan', 'Tanzania', 'Thailand', 'Togo', 'Tonga',\n",
       "       'Trinidad and Tobago', 'Tunisia', 'Turkey', 'Uganda', 'Ukraine',\n",
       "       'Unified team', 'United Arab Emirates', 'United Kingdom',\n",
       "       'United States', 'Uruguay', 'Uzbekistan', 'Venezuela', 'Vietnam',\n",
       "       'Virgin Islands*', 'West Germany', 'Yugoslavia', 'Zambia',\n",
       "       'Zimbabwe', nan], dtype=object)"
      ]
     },
     "execution_count": 558,
     "metadata": {},
     "output_type": "execute_result"
    }
   ],
   "source": [
    "#seeing which countries appear on the list\n",
    "olympics_data[\"Country\"].sort_values().unique()"
   ]
  },
  {
   "cell_type": "markdown",
   "metadata": {},
   "source": [
    "We can see from above that from 1992 to 2008, Turkmenistan did not win a medal at all, and will not be included in the analysis until the end."
   ]
  },
  {
   "cell_type": "code",
   "execution_count": 559,
   "metadata": {},
   "outputs": [],
   "source": [
    "#group the olymics data by country\n",
    "country_olympics_data = olympics_data.groupby(\"Country\")\n",
    "\n",
    "#pull the data for the Soviet Union and former Soviet countries into separate dataframes\n",
    "soviet_data = country_olympics_data.get_group(\"Soviet Union\").reset_index()\n",
    "armenia_data = country_olympics_data.get_group(\"Armenia\").reset_index()\n",
    "azerbaijan_data = country_olympics_data.get_group(\"Azerbaijan\").reset_index()\n",
    "belarus_data = country_olympics_data.get_group(\"Belarus\").reset_index()\n",
    "estonia_data = country_olympics_data.get_group(\"Estonia\").reset_index()\n",
    "georgia_data = country_olympics_data.get_group(\"Georgia\").reset_index()\n",
    "kazakhstan_data = country_olympics_data.get_group(\"Kazakhstan\").reset_index()\n",
    "kyrgyzstan_data = country_olympics_data.get_group(\"Kyrgyzstan\").reset_index()\n",
    "latvia_data = country_olympics_data.get_group(\"Latvia\").reset_index()\n",
    "lithuania_data = country_olympics_data.get_group(\"Lithuania\").reset_index()\n",
    "moldova_data = country_olympics_data.get_group(\"Moldova\").reset_index()\n",
    "russia_data = country_olympics_data.get_group(\"Russia\").reset_index()\n",
    "tajikistan_data = country_olympics_data.get_group(\"Tajikistan\").reset_index()\n",
    "ukraine_data = country_olympics_data.get_group(\"Ukraine\").reset_index()\n",
    "uzbekistan_data = country_olympics_data.get_group(\"Uzbekistan\").reset_index()\n",
    "\n",
    "#pull the data for East, West, and united Germany into separate dataframes\n",
    "east_germany_data = country_olympics_data.get_group(\"East Germany\").reset_index()\n",
    "west_germany_data = country_olympics_data.get_group(\"West Germany\").reset_index()\n",
    "germany_data = country_olympics_data.get_group(\"Germany\").reset_index()"
   ]
  },
  {
   "cell_type": "code",
   "execution_count": 560,
   "metadata": {},
   "outputs": [],
   "source": [
    "#saving pre and post collapse countries to lists\n",
    "pre_collapse_dfs = [soviet_data, east_germany_data, west_germany_data]\n",
    "post_collapse_dfs = [armenia_data, azerbaijan_data, belarus_data, estonia_data, georgia_data, kazakhstan_data, kyrgyzstan_data, \n",
    "                latvia_data, lithuania_data, moldova_data, russia_data, tajikistan_data, ukraine_data, uzbekistan_data, germany_data]"
   ]
  },
  {
   "cell_type": "markdown",
   "metadata": {},
   "source": [
    "Here, the total medal counts for the country, regardless of year, are calculated."
   ]
  },
  {
   "cell_type": "code",
   "execution_count": 561,
   "metadata": {},
   "outputs": [],
   "source": [
    "#lists for countries and medal counts\n",
    "countries_pre = []\n",
    "golds_pre = []\n",
    "silvers_pre = []\n",
    "bronzes_pre = []\n",
    "\n",
    "countries_post = []\n",
    "golds_post = []\n",
    "silvers_post = []\n",
    "bronzes_post = []\n",
    "\n",
    "#create functions to give a total medal count\n",
    "def total_medal_count_pre(df):\n",
    "    #convert medal counts to dictionary\n",
    "    counts = df[\"Medal\"].value_counts().to_dict()\n",
    "    countries_pre.append(df[\"Country\"][0])\n",
    "    #get the value of each key to append to the lists, with \"0\" appending if no value exists\n",
    "    golds_pre.append(counts.get((\"Gold\"), 0))\n",
    "    silvers_pre.append(counts.get((\"Silver\"), 0))\n",
    "    bronzes_pre.append(counts.get((\"Bronze\"), 0))\n",
    "    \n",
    "def total_medal_count_post(df):\n",
    "    #convert medal counts to dictionary\n",
    "    counts = df[\"Medal\"].value_counts().to_dict()\n",
    "    countries_post.append(df[\"Country\"][0])\n",
    "    #get the value of each key to append to the lists, with \"0\" appending if no value exists\n",
    "    golds_post.append(counts.get((\"Gold\"), 0))\n",
    "    silvers_post.append(counts.get((\"Silver\"), 0))\n",
    "    bronzes_post.append(counts.get((\"Bronze\"), 0))\n",
    "    \n",
    "#running the function on all countries\n",
    "for country in pre_collapse_dfs:\n",
    "    total_medal_count_pre(country)\n",
    "    \n",
    "for country in post_collapse_dfs:\n",
    "    total_medal_count_post(country)"
   ]
  },
  {
   "cell_type": "markdown",
   "metadata": {},
   "source": [
    "Below we are comparing East and West Germany(1976-1988) to Germany (1992-2008)."
   ]
  },
  {
   "cell_type": "code",
   "execution_count": 562,
   "metadata": {},
   "outputs": [
    {
     "data": {
      "image/png": "[encoded data removed]",
      "text/plain": [
       "<Figure size 432x288 with 1 Axes>"
      ]
     },
     "metadata": {
      "needs_background": "light"
     },
     "output_type": "display_data"
    }
   ],
   "source": [
    "#setting up Germany comparison\n",
    "german_comparison = {\n",
    "    \"Countries\": [countries_pre[1], countries_pre[2], countries_post[-1]],\n",
    "    \"Golds\": [golds_pre[1], golds_pre[2], golds_post[-1]],\n",
    "    \"Silvers\": [silvers_pre[1], silvers_pre[2], silvers_post[-1]],\n",
    "    \"Bronzes\": [bronzes_pre[1], bronzes_pre[2], bronzes_post[-1]],\n",
    "}\n",
    "\n",
    "#plotting germany comparison\n",
    "width = 0.275\n",
    "x_germ = np.array(range(len(pre_collapse_dfs)))\n",
    "\n",
    "plt.bar(x_germ + width, german_comparison[\"Golds\"], width=width, color=\"#d2b103\", label=\"Gold Medals\")\n",
    "plt.bar(x_germ, german_comparison[\"Silvers\"], width=width, color=\"#c9c8c4\", label=\"Silver Medals\")\n",
    "plt.bar(x_germ - width, german_comparison[\"Bronzes\"], width=width, color=\"#8b8251\", label=\"Bronze Medals\")\n",
    "plt.xticks(x_germ, german_comparison[\"Countries\"])\n",
    "plt.title(\"East and West Germany (1976-1988) vs Germany (1992-2008)\")\n",
    "plt.ylabel(\"Number of Medals\")\n",
    "plt.xlabel(\"Country\")\n",
    "plt.legend()\n",
    "\n",
    "plt.savefig(\"images/german_separate_comparison.png\", bbox_inches=\"tight\")\n",
    "plt.show()"
   ]
  },
  {
   "cell_type": "code",
   "execution_count": 563,
   "metadata": {},
   "outputs": [
    {
     "data": {
      "image/png": "[encoded data removed]",
      "text/plain": [
       "<Figure size 432x288 with 1 Axes>"
      ]
     },
     "metadata": {
      "needs_background": "light"
     },
     "output_type": "display_data"
    }
   ],
   "source": [
    "#combining east and west germany stats\n",
    "ew_germany = \"East and West Germany (Combined)\"\n",
    "ew_golds = sum(golds_pre[1:])\n",
    "ew_silvers= sum(silvers_pre[1:])\n",
    "ew_bronzes = sum(bronzes_pre[1:])\n",
    "\n",
    "combined_german_comparison = {\n",
    "    \"Countries\": [ew_germany, countries_post[-1]],\n",
    "    \"Golds\": [ew_golds, golds_post[-1]],\n",
    "    \"Silvers\": [ew_silvers, silvers_post[-1]],\n",
    "    \"Bronzes\": [ew_bronzes, bronzes_post[-1]],\n",
    "}\n",
    "\n",
    "#plotting germany comparison\n",
    "width = 0.275\n",
    "x_germ_com = np.array(range(2))\n",
    "\n",
    "plt.bar(x_germ_com + width, combined_german_comparison[\"Golds\"], width=width, color=\"#d2b103\", label=\"Gold Medals\")\n",
    "plt.bar(x_germ_com, combined_german_comparison[\"Silvers\"], width=width, color=\"#c9c8c4\", label=\"Silver Medals\")\n",
    "plt.bar(x_germ_com - width, combined_german_comparison[\"Bronzes\"], width=width, color=\"#8b8251\", label=\"Bronze Medals\")\n",
    "plt.xticks(x_germ_com, combined_german_comparison[\"Countries\"])\n",
    "plt.title(\"East and West Germany Combined (1976-1988) vs Germany (1992-2008)\")\n",
    "plt.ylabel(\"Number of Medals\")\n",
    "plt.xlabel(\"Country\")\n",
    "plt.legend()\n",
    "\n",
    "plt.savefig(\"images/german_combined_comparison.png\", bbox_inches=\"tight\")\n",
    "plt.show()"
   ]
  },
  {
   "cell_type": "markdown",
   "metadata": {},
   "source": [
    "Below we are comparing the Soviet Union (1976-1988) to all the former Soviet countries (1992-2008)."
   ]
  },
  {
   "cell_type": "code",
   "execution_count": 564,
   "metadata": {},
   "outputs": [
    {
     "data": {
      "image/png": "[encoded data removed]",
      "text/plain": [
       "<Figure size 432x288 with 1 Axes>"
      ]
     },
     "metadata": {
      "needs_background": "light"
     },
     "output_type": "display_data"
    }
   ],
   "source": [
    "#setting up Soviet comparison\n",
    "soviet_countries = countries_post[:-1]\n",
    "soviet_countries.append(countries_pre[0])\n",
    "soviet_golds = golds_post[:-1]\n",
    "soviet_golds.append(golds_pre[0])\n",
    "soviet_silvers = silvers_post[:-1]\n",
    "soviet_silvers.append(silvers_pre[0])\n",
    "soviet_bronzes = bronzes_post[:-1]\n",
    "soviet_bronzes.append(bronzes_pre[0])\n",
    "\n",
    "#plotting soviet comparison\n",
    "width = 0.275\n",
    "x_sov = np.array(range(len(post_collapse_dfs)))\n",
    "\n",
    "plt.bar(x_sov + width, soviet_golds, width=width, color=\"#d2b103\", label=\"Gold Medals\")\n",
    "plt.bar(x_sov, soviet_silvers, width=width, color=\"#c9c8c4\", label=\"Silver Medals\")\n",
    "plt.bar(x_sov - width, soviet_bronzes, width=width, color=\"#8b8251\", label=\"Bronze Medals\")\n",
    "plt.xticks(x_sov, soviet_countries, rotation=90)\n",
    "plt.title(\"Soviet Union (1976-1992) vs Former Soviet Countries (1996-2008)\")\n",
    "plt.ylabel(\"Number of Medals\")\n",
    "plt.xlabel(\"Country\")\n",
    "plt.legend()\n",
    "\n",
    "plt.savefig(\"images/soviet_separate_comparison.png\", bbox_inches=\"tight\")\n",
    "plt.show()"
   ]
  },
  {
   "cell_type": "code",
   "execution_count": 565,
   "metadata": {},
   "outputs": [
    {
     "data": {
      "image/png": "[encoded data removed]",
      "text/plain": [
       "<Figure size 432x288 with 1 Axes>"
      ]
     },
     "metadata": {
      "needs_background": "light"
     },
     "output_type": "display_data"
    }
   ],
   "source": [
    "#combining post soviet country data\n",
    "post_soviet_countries = [\"Former Soviet Union Countries\", \"Soviet Union\"]\n",
    "post_soviet_golds = [sum(golds_post[:-1]), golds_pre[0]]\n",
    "post_soviet_silvers = [sum(silvers_post[:-1]), silvers_pre[0]]\n",
    "post_soviet_bronzes = [sum(bronzes_post[:-1]), bronzes_pre[0]]\n",
    "\n",
    "#plotting soviet comparison\n",
    "width = 0.275\n",
    "x_sov_combined = np.array(range(2))\n",
    "\n",
    "plt.bar(x_sov_combined + width, post_soviet_golds, width=width, color=\"#d2b103\", label=\"Gold Medals\")\n",
    "plt.bar(x_sov_combined, post_soviet_silvers, width=width, color=\"#c9c8c4\", label=\"Silver Medals\")\n",
    "plt.bar(x_sov_combined - width, post_soviet_bronzes, width=width, color=\"#8b8251\", label=\"Bronze Medals\")\n",
    "plt.xticks(x_sov_combined, post_soviet_countries)\n",
    "plt.title(\"Soviet Union (1976-1992) vs Former Soviet Countries Combined (1996-2008)\")\n",
    "plt.ylabel(\"Number of Medals\")\n",
    "plt.xlabel(\"Country\")\n",
    "plt.legend()\n",
    "\n",
    "plt.savefig(\"images/soviet_combined_comparison.png\", bbox_inches=\"tight\")\n",
    "plt.show()"
   ]
  },
  {
   "cell_type": "markdown",
   "metadata": {},
   "source": [
    "Below we have the data grouped by pre-Soviet collapse (1976-1988) and post-Soviet collapse (1992-2008)."
   ]
  },
  {
   "cell_type": "code",
   "execution_count": 566,
   "metadata": {},
   "outputs": [
    {
     "data": {
      "image/png": "[encoded data removed]",
      "text/plain": [
       "<Figure size 432x288 with 1 Axes>"
      ]
     },
     "metadata": {
      "needs_background": "light"
     },
     "output_type": "display_data"
    }
   ],
   "source": [
    "#plotting pre-collapse comparisons\n",
    "width = 0.275\n",
    "x_pre = np.array(range(len(pre_collapse_dfs)))\n",
    "\n",
    "plt.bar(x_pre + width, golds_pre, width=width, color=\"#d2b103\", label=\"Gold Medals\")\n",
    "plt.bar(x_pre, silvers_pre, width=width, color=\"#c9c8c4\", label=\"Silver Medals\")\n",
    "plt.bar(x_pre - width, bronzes_pre, width=width, color=\"#8b8251\", label=\"Bronze Medals\")\n",
    "plt.xticks(x_pre, countries_pre)\n",
    "plt.title(\"Pre Soviet Collapse Results\")\n",
    "plt.ylabel(\"Number of Medals\")\n",
    "plt.xlabel(\"Country\")\n",
    "plt.legend()\n",
    "\n",
    "plt.savefig(\"images/pre_collapse_comparison.png\", bbox_inches=\"tight\")\n",
    "plt.show()"
   ]
  },
  {
   "cell_type": "code",
   "execution_count": 567,
   "metadata": {},
   "outputs": [
    {
     "data": {
      "image/png": "[encoded data removed]",
      "text/plain": [
       "<Figure size 432x288 with 1 Axes>"
      ]
     },
     "metadata": {
      "needs_background": "light"
     },
     "output_type": "display_data"
    }
   ],
   "source": [
    "#plotting post-collapse comparisons\n",
    "width = 0.275\n",
    "x_post = np.array(range(len(post_collapse_dfs)))\n",
    "\n",
    "plt.bar(x_post + width, golds_post, width=width, color=\"#d2b103\", label=\"Gold Medals\")\n",
    "plt.bar(x_post, silvers_post, width=width, color=\"#c9c8c4\", label=\"Silver Medals\")\n",
    "plt.bar(x_post - width, bronzes_post, width=width, color=\"#8b8251\", label=\"Bronze Medals\")\n",
    "plt.xticks(x_post, countries_post, rotation=90)\n",
    "plt.title(\"Post Soviet Collapse Results\")\n",
    "plt.ylabel(\"Number of Medals\")\n",
    "plt.xlabel(\"Country\")\n",
    "plt.legend()\n",
    "\n",
    "plt.savefig(\"images/post_collapse_comparison.png\", bbox_inches=\"tight\")\n",
    "plt.show()"
   ]
  },
  {
   "cell_type": "markdown",
   "metadata": {},
   "source": [
    "Below, we're comparing the overall points values of the medals for the Soviet Union and former Soviet countries, then comparing the total medal values for East and West Germany to unified Germany."
   ]
  },
  {
   "cell_type": "code",
   "execution_count": 568,
   "metadata": {},
   "outputs": [],
   "source": [
    "#finding the total value of the points for each country\n",
    "#setting lists to hold medal points totals\n",
    "pre_collapse_points = []\n",
    "post_collapse_points = []\n",
    "\n",
    "#running through pre collapse countries to pull points\n",
    "for df in pre_collapse_dfs:\n",
    "    points = df[\"Points\"].sum()\n",
    "    pre_collapse_points.append(points)\n",
    "    \n",
    "#running through post collapse countries to pull points\n",
    "for df in post_collapse_dfs:\n",
    "    points = df[\"Points\"].sum()\n",
    "    post_collapse_points.append(points)"
   ]
  },
  {
   "cell_type": "code",
   "execution_count": 569,
   "metadata": {},
   "outputs": [
    {
     "data": {
      "image/png": "[encoded data removed]",
      "text/plain": [
       "<Figure size 432x288 with 1 Axes>"
      ]
     },
     "metadata": {
      "needs_background": "light"
     },
     "output_type": "display_data"
    }
   ],
   "source": [
    "#comparing Soviet countries to the USSR\n",
    "soviet_countries_points = post_collapse_points[:-1]\n",
    "soviet_countries_points.append(pre_collapse_points[0])\n",
    "\n",
    "#some plot data pulled from previous plots\n",
    "plt.bar(x_sov, soviet_countries_points, color=\"r\")\n",
    "plt.xticks(x_sov, soviet_countries, rotation=90)\n",
    "plt.title(\"Soviet Union (1976-1992) vs Former Soviet Countries (1996-2008)\")\n",
    "plt.ylabel(\"Medal Score (Points)\")\n",
    "plt.xlabel(\"Country\")\n",
    "\n",
    "plt.savefig(\"images/soviet_separate_comparison_by_points.png\", bbox_inches=\"tight\")\n",
    "plt.show()"
   ]
  },
  {
   "cell_type": "code",
   "execution_count": 570,
   "metadata": {},
   "outputs": [
    {
     "data": {
      "image/png": "[encoded data removed]",
      "text/plain": [
       "<Figure size 432x288 with 1 Axes>"
      ]
     },
     "metadata": {
      "needs_background": "light"
     },
     "output_type": "display_data"
    }
   ],
   "source": [
    "#comparing Germany to East and West Germany\n",
    "germ_countries_points = pre_collapse_points[1:]\n",
    "germ_countries_points.append(post_collapse_points[-1])\n",
    "\n",
    "#plotting\n",
    "plt.bar(x_germ, germ_countries_points, color=\"g\")\n",
    "plt.xticks(x_germ, german_comparison[\"Countries\"])\n",
    "plt.title(\"East and West Germany (1976-1988) vs Germany (1992-2008)\")\n",
    "plt.ylabel(\"Medal Score (Points)\")\n",
    "plt.xlabel(\"Country\")\n",
    "\n",
    "plt.savefig(\"images/german_separate_comparison_by_points.png\", bbox_inches=\"tight\")\n",
    "plt.show()"
   ]
  },
  {
   "cell_type": "markdown",
   "metadata": {},
   "source": [
    "# Top Performers the Year the Event is Introduced"
   ]
  },
  {
   "cell_type": "markdown",
   "metadata": {},
   "source": [
    "This section looks at every sport the year it was introduced and returns the country that won the gold for that event."
   ]
  },
  {
   "cell_type": "code",
   "execution_count": 571,
   "metadata": {},
   "outputs": [],
   "source": [
    "#group the data by event\n",
    "events_data = olympics_data.groupby(\"Event\")\n",
    "#get the first year for each event and save it to a list\n",
    "first_years = events_data[\"Year\"].first()\n",
    "#dictionary of first year, sport, gender, and country\n",
    "first_golds = {}\n",
    "\n",
    "#running through the dataframe and the first years to get the remaining data\n",
    "for index, row in olympics_data.iterrows():\n",
    "    for name, value in first_years.items():\n",
    "        if row[\"Event\"] == name and row[\"Year\"] == value and row[\"Medal\"] == \"Gold\":\n",
    "            first_golds[name] = [row[\"Year\"], row[\"Gender\"], row[\"Country\"]]"
   ]
  },
  {
   "cell_type": "code",
   "execution_count": 572,
   "metadata": {},
   "outputs": [
    {
     "data": {
      "text/html": [
       "<div>\n",
       "<style scoped>\n",
       "    .dataframe tbody tr th:only-of-type {\n",
       "        vertical-align: middle;\n",
       "    }\n",
       "\n",
       "    .dataframe tbody tr th {\n",
       "        vertical-align: top;\n",
       "    }\n",
       "\n",
       "    .dataframe thead th {\n",
       "        text-align: right;\n",
       "    }\n",
       "</style>\n",
       "<table border=\"1\" class=\"dataframe\">\n",
       "  <thead>\n",
       "    <tr style=\"text-align: right;\">\n",
       "      <th></th>\n",
       "      <th>Year</th>\n",
       "      <th>Gender</th>\n",
       "      <th>Country</th>\n",
       "    </tr>\n",
       "  </thead>\n",
       "  <tbody>\n",
       "    <tr>\n",
       "      <th>3m springboard</th>\n",
       "      <td>1976.0</td>\n",
       "      <td>Women</td>\n",
       "      <td>United States</td>\n",
       "    </tr>\n",
       "    <tr>\n",
       "      <th>10m platform</th>\n",
       "      <td>1976.0</td>\n",
       "      <td>Men</td>\n",
       "      <td>Italy</td>\n",
       "    </tr>\n",
       "    <tr>\n",
       "      <th>4x100m freestyle relay</th>\n",
       "      <td>1976.0</td>\n",
       "      <td>Women</td>\n",
       "      <td>United States</td>\n",
       "    </tr>\n",
       "    <tr>\n",
       "      <th>4x100m medley relay</th>\n",
       "      <td>1976.0</td>\n",
       "      <td>Women</td>\n",
       "      <td>East Germany</td>\n",
       "    </tr>\n",
       "    <tr>\n",
       "      <th>800m freestyle</th>\n",
       "      <td>1976.0</td>\n",
       "      <td>Women</td>\n",
       "      <td>East Germany</td>\n",
       "    </tr>\n",
       "    <tr>\n",
       "      <th>...</th>\n",
       "      <td>...</td>\n",
       "      <td>...</td>\n",
       "      <td>...</td>\n",
       "    </tr>\n",
       "    <tr>\n",
       "      <th>marathon 10km</th>\n",
       "      <td>2008.0</td>\n",
       "      <td>Men</td>\n",
       "      <td>Netherlands</td>\n",
       "    </tr>\n",
       "    <tr>\n",
       "      <th>Laser Radial - One Person Dinghy</th>\n",
       "      <td>2008.0</td>\n",
       "      <td>Women</td>\n",
       "      <td>United States</td>\n",
       "    </tr>\n",
       "    <tr>\n",
       "      <th>RS:X - Windsurfer</th>\n",
       "      <td>2008.0</td>\n",
       "      <td>Men</td>\n",
       "      <td>New Zealand</td>\n",
       "    </tr>\n",
       "    <tr>\n",
       "      <th>Finn - Heavyweight Dinghy</th>\n",
       "      <td>2008.0</td>\n",
       "      <td>Men</td>\n",
       "      <td>United Kingdom</td>\n",
       "    </tr>\n",
       "    <tr>\n",
       "      <th>Laser - One Person Dinghy</th>\n",
       "      <td>2008.0</td>\n",
       "      <td>Men</td>\n",
       "      <td>United Kingdom</td>\n",
       "    </tr>\n",
       "  </tbody>\n",
       "</table>\n",
       "<p>293 rows × 3 columns</p>\n",
       "</div>"
      ],
      "text/plain": [
       "                                    Year Gender         Country\n",
       "3m springboard                    1976.0  Women   United States\n",
       "10m platform                      1976.0    Men           Italy\n",
       "4x100m freestyle relay            1976.0  Women   United States\n",
       "4x100m medley relay               1976.0  Women    East Germany\n",
       "800m freestyle                    1976.0  Women    East Germany\n",
       "...                                  ...    ...             ...\n",
       "marathon 10km                     2008.0    Men     Netherlands\n",
       "Laser Radial - One Person Dinghy  2008.0  Women   United States\n",
       "RS:X - Windsurfer                 2008.0    Men     New Zealand\n",
       "Finn - Heavyweight Dinghy         2008.0    Men  United Kingdom\n",
       "Laser - One Person Dinghy         2008.0    Men  United Kingdom\n",
       "\n",
       "[293 rows x 3 columns]"
      ]
     },
     "execution_count": 572,
     "metadata": {},
     "output_type": "execute_result"
    }
   ],
   "source": [
    "#creating a summary dataframe\n",
    "first_gold_countries = pd.DataFrame.from_dict(first_golds, orient=\"index\", columns=[\"Year\", \"Gender\", \"Country\"])\n",
    "first_gold_countries"
   ]
  },
  {
   "cell_type": "code",
   "execution_count": 573,
   "metadata": {},
   "outputs": [
    {
     "data": {
      "image/png": "[encoded data removed]",
      "text/plain": [
       "<Figure size 1440x720 with 1 Axes>"
      ]
     },
     "metadata": {
      "needs_background": "light"
     },
     "output_type": "display_data"
    }
   ],
   "source": [
    "#group the first gold winners by country\n",
    "country_wins = first_gold_countries.groupby(\"Country\").count()[\"Year\"]\n",
    "#plot the results in a pie chart\n",
    "country_wins.plot(kind=\"bar\", x=\"country\", title=\"New Event Gold Medal Wins By Country\", figsize=(20, 10), \n",
    "                  rot=90, ylabel=\"Number of Gold Medals\", color=\"#d2b103\", grid=True)\n",
    "\n",
    "plt.savefig(\"images/new_event_golds_by_country.png\", bbox_inches=\"tight\")\n",
    "plt.show()"
   ]
  },
  {
   "cell_type": "code",
   "execution_count": null,
   "metadata": {},
   "outputs": [],
   "source": []
  },
  {
   "cell_type": "code",
   "execution_count": null,
   "metadata": {},
   "outputs": [],
   "source": []
  }
 ],
 "metadata": {
  "kernelspec": {
   "display_name": "Python 3",
   "language": "python",
   "name": "python3"
  },
  "language_info": {
   "codemirror_mode": {
    "name": "ipython",
    "version": 3
   },
   "file_extension": ".py",
   "mimetype": "text/x-python",
   "name": "python",
   "nbconvert_exporter": "python",
   "pygments_lexer": "ipython3",
   "version": "3.8.5"
  }
 },
 "nbformat": 4,
 "nbformat_minor": 4
}
