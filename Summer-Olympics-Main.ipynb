{
 "cells": [
  {
   "cell_type": "code",
   "execution_count": 1,
   "metadata": {},
   "outputs": [],
   "source": [
    "#import dependencies\n",
    "import pandas as pd\n",
    "import matplotlib.pyplot as plt\n",
    "import numpy as np\n",
    "import scipy as sp\n",
    "import requests\n",
    "import json"
   ]
  },
  {
   "cell_type": "code",
   "execution_count": 3,
   "metadata": {
    "scrolled": false
   },
   "outputs": [
    {
     "data": {
      "text/html": [
       "<div>\n",
       "<style scoped>\n",
       "    .dataframe tbody tr th:only-of-type {\n",
       "        vertical-align: middle;\n",
       "    }\n",
       "\n",
       "    .dataframe tbody tr th {\n",
       "        vertical-align: top;\n",
       "    }\n",
       "\n",
       "    .dataframe thead th {\n",
       "        text-align: right;\n",
       "    }\n",
       "</style>\n",
       "<table border=\"1\" class=\"dataframe\">\n",
       "  <thead>\n",
       "    <tr style=\"text-align: right;\">\n",
       "      <th></th>\n",
       "      <th>City</th>\n",
       "      <th>Year</th>\n",
       "      <th>Sport</th>\n",
       "      <th>Discipline</th>\n",
       "      <th>Event</th>\n",
       "      <th>Athlete</th>\n",
       "      <th>Gender</th>\n",
       "      <th>Country_Code</th>\n",
       "      <th>Country</th>\n",
       "      <th>Event_gender</th>\n",
       "      <th>Medal</th>\n",
       "    </tr>\n",
       "  </thead>\n",
       "  <tbody>\n",
       "    <tr>\n",
       "      <th>0</th>\n",
       "      <td>Montreal</td>\n",
       "      <td>1976.0</td>\n",
       "      <td>Aquatics</td>\n",
       "      <td>Diving</td>\n",
       "      <td>3m springboard</td>\n",
       "      <td>KÖHLER, Christa</td>\n",
       "      <td>Women</td>\n",
       "      <td>GDR</td>\n",
       "      <td>East Germany</td>\n",
       "      <td>W</td>\n",
       "      <td>Silver</td>\n",
       "    </tr>\n",
       "    <tr>\n",
       "      <th>1</th>\n",
       "      <td>Montreal</td>\n",
       "      <td>1976.0</td>\n",
       "      <td>Aquatics</td>\n",
       "      <td>Diving</td>\n",
       "      <td>3m springboard</td>\n",
       "      <td>KOSENKOV, Aleksandr</td>\n",
       "      <td>Men</td>\n",
       "      <td>URS</td>\n",
       "      <td>Soviet Union</td>\n",
       "      <td>M</td>\n",
       "      <td>Bronze</td>\n",
       "    </tr>\n",
       "    <tr>\n",
       "      <th>2</th>\n",
       "      <td>Montreal</td>\n",
       "      <td>1976.0</td>\n",
       "      <td>Aquatics</td>\n",
       "      <td>Diving</td>\n",
       "      <td>3m springboard</td>\n",
       "      <td>BOGGS, Philip George</td>\n",
       "      <td>Men</td>\n",
       "      <td>USA</td>\n",
       "      <td>United States</td>\n",
       "      <td>M</td>\n",
       "      <td>Gold</td>\n",
       "    </tr>\n",
       "    <tr>\n",
       "      <th>3</th>\n",
       "      <td>Montreal</td>\n",
       "      <td>1976.0</td>\n",
       "      <td>Aquatics</td>\n",
       "      <td>Diving</td>\n",
       "      <td>3m springboard</td>\n",
       "      <td>CAGNOTTO, Giorgio Franco</td>\n",
       "      <td>Men</td>\n",
       "      <td>ITA</td>\n",
       "      <td>Italy</td>\n",
       "      <td>M</td>\n",
       "      <td>Silver</td>\n",
       "    </tr>\n",
       "    <tr>\n",
       "      <th>4</th>\n",
       "      <td>Montreal</td>\n",
       "      <td>1976.0</td>\n",
       "      <td>Aquatics</td>\n",
       "      <td>Diving</td>\n",
       "      <td>10m platform</td>\n",
       "      <td>WILSON, Deborah Keplar</td>\n",
       "      <td>Women</td>\n",
       "      <td>USA</td>\n",
       "      <td>United States</td>\n",
       "      <td>W</td>\n",
       "      <td>Bronze</td>\n",
       "    </tr>\n",
       "  </tbody>\n",
       "</table>\n",
       "</div>"
      ],
      "text/plain": [
       "       City    Year     Sport Discipline           Event  \\\n",
       "0  Montreal  1976.0  Aquatics     Diving  3m springboard   \n",
       "1  Montreal  1976.0  Aquatics     Diving  3m springboard   \n",
       "2  Montreal  1976.0  Aquatics     Diving  3m springboard   \n",
       "3  Montreal  1976.0  Aquatics     Diving  3m springboard   \n",
       "4  Montreal  1976.0  Aquatics     Diving    10m platform   \n",
       "\n",
       "                    Athlete Gender Country_Code        Country Event_gender  \\\n",
       "0           KÖHLER, Christa  Women          GDR   East Germany            W   \n",
       "1       KOSENKOV, Aleksandr    Men          URS   Soviet Union            M   \n",
       "2      BOGGS, Philip George    Men          USA  United States            M   \n",
       "3  CAGNOTTO, Giorgio Franco    Men          ITA          Italy            M   \n",
       "4    WILSON, Deborah Keplar  Women          USA  United States            W   \n",
       "\n",
       "    Medal  \n",
       "0  Silver  \n",
       "1  Bronze  \n",
       "2    Gold  \n",
       "3  Silver  \n",
       "4  Bronze  "
      ]
     },
     "execution_count": 3,
     "metadata": {},
     "output_type": "execute_result"
    }
   ],
   "source": [
    "#load in csv\n",
    "olympics_data = pd.read_csv(\"Summer-Olympic-medals-1976-to-2008.csv\", encoding=\"latin-1\")\n",
    "olympics_data.head()"
   ]
  },
  {
   "cell_type": "markdown",
   "metadata": {},
   "source": [
    "# Comparing the Results of Countries Pre- and Post- Extreme Regime Changes"
   ]
  },
  {
   "cell_type": "markdown",
   "metadata": {},
   "source": [
    "There were 15 countries in the Soviet Union: Armenia, Azerbaijan, Belarus, Estonia, Georgia, Kazakhstan, Kyrgyzstan, Latvia, Lithuania, Moldova, Russia, Tajikistan, Turkmenistan, Ukraine, and Uzbekistan (https://www.infobloom.com/which-countries-were-part-of-the-soviet-union.htm). East and West Germany became one united Germany. This section looks at The performance of the Soviet Union's perforance during the olympics pre-1992 (since it collapsed in 1991) and compares it to the performance of these 15 countries from 1992 on. Similarly, the performances of East and West Germany during the olympics pre-1992 (since they unified in 1990 (https://www.history.com/this-day-in-history/east-and-west-germany-reunite-after-45-years)) willbe compared to the performance of Germany from 1992 on. - Kaylie S."
   ]
  },
  {
   "cell_type": "code",
   "execution_count": 21,
   "metadata": {},
   "outputs": [
    {
     "data": {
      "text/plain": [
       "array(['Afghanistan', 'Algeria', 'Argentina', 'Armenia', 'Australia',\n",
       "       'Austria', 'Azerbaijan', 'Bahamas', 'Barbados', 'Belarus',\n",
       "       'Belgium', 'Bermuda*', 'Brazil', 'Bulgaria', 'Burundi', 'Cameroon',\n",
       "       'Canada', 'Chile', 'China', 'Colombia', 'Costa Rica',\n",
       "       \"Cote d'Ivoire\", 'Croatia', 'Cuba', 'Czech Republic',\n",
       "       'Czechoslovakia', 'Denmark', 'Djibouti', 'Dominican Republic',\n",
       "       'East Germany', 'Ecuador', 'Egypt', 'Eritrea', 'Estonia',\n",
       "       'Ethiopia', 'Finland', 'France', 'Georgia', 'Germany', 'Ghana',\n",
       "       'Greece', 'Guyana', 'Hong Kong*', 'Hungary', 'Iceland',\n",
       "       'Independent Olympic Participants (1992)', 'India', 'Indonesia',\n",
       "       'Iran', 'Ireland', 'Israel', 'Italy', 'Jamaica', 'Japan',\n",
       "       'Kazakhstan', 'Kenya', 'Korea, North', 'Korea, South', 'Kuwait',\n",
       "       'Kyrgyzstan', 'Latvia', 'Lebanon', 'Lithuania', 'Macedonia',\n",
       "       'Malaysia', 'Mauritius', 'Mexico', 'Moldova', 'Mongolia',\n",
       "       'Morocco', 'Mozambique', 'Namibia', 'Netherlands',\n",
       "       'Netherlands Antilles*', 'New Zealand', 'Nigeria', 'Norway',\n",
       "       'Pakistan', 'Panama', 'Paraguay', 'Peru', 'Philippines', 'Poland',\n",
       "       'Portugal', 'Puerto Rico*', 'Qatar', 'Romania', 'Russia',\n",
       "       'Saudi Arabia', 'Senegal', 'Serbia', 'Singapore', 'Slovakia',\n",
       "       'Slovenia', 'South Africa', 'Soviet Union', 'Spain', 'Sri Lanka',\n",
       "       'Sudan', 'Suriname', 'Sweden', 'Switzerland', 'Syria', 'Taiwan',\n",
       "       'Tajikistan', 'Tanzania', 'Thailand', 'Togo', 'Tonga',\n",
       "       'Trinidad and Tobago', 'Tunisia', 'Turkey', 'Uganda', 'Ukraine',\n",
       "       'Unified team', 'United Arab Emirates', 'United Kingdom',\n",
       "       'United States', 'Uruguay', 'Uzbekistan', 'Venezuela', 'Vietnam',\n",
       "       'Virgin Islands*', 'West Germany', 'Yugoslavia', 'Zambia',\n",
       "       'Zimbabwe', nan], dtype=object)"
      ]
     },
     "execution_count": 21,
     "metadata": {},
     "output_type": "execute_result"
    }
   ],
   "source": [
    "#seeing which countries appear on the list\n",
    "olympics_data[\"Country\"].sort_values().unique()"
   ]
  },
  {
   "cell_type": "markdown",
   "metadata": {},
   "source": [
    "We can see from above that from 1992 to 2008, Turkmenistan did not win a medal at all, and will not be included in the analysis until the end."
   ]
  },
  {
   "cell_type": "code",
   "execution_count": 72,
   "metadata": {},
   "outputs": [],
   "source": [
    "#group the olymics data by country\n",
    "country_olympics_data = olympics_data.groupby(\"Country\")\n",
    "\n",
    "#pull the data for the Soviet Union and former Soviet countries into separate dataframes\n",
    "soviet_data = country_olympics_data.get_group(\"Soviet Union\").reset_index()\n",
    "armenia_data = country_olympics_data.get_group(\"Armenia\").reset_index()\n",
    "azerbaijan_data = country_olympics_data.get_group(\"Azerbaijan\").reset_index()\n",
    "belarus_data = country_olympics_data.get_group(\"Belarus\").reset_index()\n",
    "estonia_data = country_olympics_data.get_group(\"Estonia\").reset_index()\n",
    "georgia_data = country_olympics_data.get_group(\"Georgia\").reset_index()\n",
    "kazakhstan_data = country_olympics_data.get_group(\"Kazakhstan\").reset_index()\n",
    "kyrgyzstan_data = country_olympics_data.get_group(\"Kyrgyzstan\").reset_index()\n",
    "latvia_data = country_olympics_data.get_group(\"Latvia\").reset_index()\n",
    "lithuania_data = country_olympics_data.get_group(\"Lithuania\").reset_index()\n",
    "moldova_data = country_olympics_data.get_group(\"Moldova\").reset_index()\n",
    "russia_data = country_olympics_data.get_group(\"Russia\").reset_index()\n",
    "tajikistan_data = country_olympics_data.get_group(\"Tajikistan\").reset_index()\n",
    "ukraine_data = country_olympics_data.get_group(\"Ukraine\").reset_index()\n",
    "uzbekistan_data = country_olympics_data.get_group(\"Uzbekistan\").reset_index()\n",
    "\n",
    "#pull the data for East, West, and united Germany into separate dataframes\n",
    "east_germany_data = country_olympics_data.get_group(\"East Germany\").reset_index()\n",
    "west_germany_data = country_olympics_data.get_group(\"West Germany\").reset_index()\n",
    "germany_data = country_olympics_data.get_group(\"Germany\").reset_index()"
   ]
  },
  {
   "cell_type": "code",
   "execution_count": 74,
   "metadata": {},
   "outputs": [],
   "source": [
    "#saving pre and post collapse countries to lists\n",
    "pre_collapse_dfs = [soviet_data, east_germany_data, west_germany_data]\n",
    "post_collapse_dfs = [armenia_data, azerbaijan_data, belarus_data, estonia_data, georgia_data, kazakhstan_data, kyrgyzstan_data, \n",
    "                latvia_data, lithuania_data, moldova_data, russia_data, tajikistan_data, ukraine_data, uzbekistan_data, germany_data]"
   ]
  },
  {
   "cell_type": "markdown",
   "metadata": {},
   "source": [
    "Here, the total medal counts for the country, regardless of year, are calculated."
   ]
  },
  {
   "cell_type": "code",
   "execution_count": 87,
   "metadata": {},
   "outputs": [],
   "source": [
    "#lists for countries and medal counts\n",
    "countries_pre = []\n",
    "golds_pre = []\n",
    "silvers_pre = []\n",
    "bronzes_pre = []\n",
    "\n",
    "countries_post = []\n",
    "golds_post = []\n",
    "silvers_post = []\n",
    "bronzes_post = []\n",
    "\n",
    "#create functions to give a total medal count\n",
    "def total_medal_count_pre(df):\n",
    "    #convert medal counts to dictionary\n",
    "    counts = df[\"Medal\"].value_counts().to_dict()\n",
    "    countries_pre.append(df[\"Country\"][0])\n",
    "    #get the value of each key to append to the lists, with \"0\" appending if no value exists\n",
    "    golds_pre.append(counts.get((\"Gold\"), 0))\n",
    "    silvers_pre.append(counts.get((\"Silver\"), 0))\n",
    "    bronzes_pre.append(counts.get((\"Bronze\"), 0))\n",
    "    \n",
    "def total_medal_count_post(df):\n",
    "    #convert medal counts to dictionary\n",
    "    counts = df[\"Medal\"].value_counts().to_dict()\n",
    "    countries_post.append(df[\"Country\"][0])\n",
    "    #get the value of each key to append to the lists, with \"0\" appending if no value exists\n",
    "    golds_post.append(counts.get((\"Gold\"), 0))\n",
    "    silvers_post.append(counts.get((\"Silver\"), 0))\n",
    "    bronzes_post.append(counts.get((\"Bronze\"), 0))\n",
    "    \n",
    "#running the function on all countries\n",
    "for country in pre_collapse_dfs:\n",
    "    total_medal_count_pre(country)\n",
    "    \n",
    "for country in post_collapse_dfs:\n",
    "    total_medal_count_post(country)"
   ]
  },
  {
   "cell_type": "code",
   "execution_count": 91,
   "metadata": {},
   "outputs": [
    {
     "data": {
      "text/plain": [
       "[439, 286, 84]"
      ]
     },
     "execution_count": 91,
     "metadata": {},
     "output_type": "execute_result"
    }
   ],
   "source": [
    "#setting up Germany comparison\n",
    "germany_index = countries_post.index\n",
    "german_comparison = {\n",
    "    \"Countries\": [countries_pre[1], countreis_pre[2], countries_post[germany_index]],\n",
    "    \"Golds\": [golds_pre[1], golds_pre[2], golds_post[germany_index]],\n",
    "    \"Silvers\": [silvers_pre[1], silvers_pre[2], silvers_post[germany_index]],\n",
    "    \"Bronzes\": [bronzes_pre[1], bronzes_pre[2], bronzes_post[germany_index]],\n",
    "}\n",
    "\n",
    "#"
   ]
  },
  {
   "cell_type": "code",
   "execution_count": 111,
   "metadata": {},
   "outputs": [
    {
     "data": {
      "image/png": "[encoded data removed]",
      "text/plain": [
       "<Figure size 432x288 with 1 Axes>"
      ]
     },
     "metadata": {
      "needs_background": "light"
     },
     "output_type": "display_data"
    }
   ],
   "source": [
    "#plotting pre-collapse comparisons\n",
    "width = 0.275\n",
    "x_pre = np.array(range(len(pre_collapse_dfs)))\n",
    "\n",
    "plt.bar(x_pre + width, golds_pre, width=width, color=\"#d2b103\", label=\"Gold Medals\")\n",
    "plt.bar(x_pre, silvers_pre, width=width, color=\"#c9c8c4\", label=\"Silver Medals\")\n",
    "plt.bar(x_pre - width, bronzes_pre, width=width, color=\"#8b8251\", label=\"Bronze Medals\")\n",
    "plt.xticks(x_pre, countries_pre)\n",
    "plt.title(\"Pre Soviet Collapse Results\")\n",
    "plt.ylabel(\"Number of Medals\")\n",
    "plt.xlabel(\"Country\")\n",
    "plt.legend()\n",
    "\n",
    "plt.show()"
   ]
  },
  {
   "cell_type": "code",
   "execution_count": 114,
   "metadata": {},
   "outputs": [
    {
     "data": {
      "image/png": "[encoded data removed]",
      "text/plain": [
       "<Figure size 432x288 with 1 Axes>"
      ]
     },
     "metadata": {
      "needs_background": "light"
     },
     "output_type": "display_data"
    }
   ],
   "source": [
    "#plotting post-collapse comparisons\n",
    "width = 0.275\n",
    "x_post = np.array(range(len(post_collapse_dfs)))\n",
    "\n",
    "plt.bar(x_post + width, golds_post, width=width, color=\"#d2b103\", label=\"Gold Medals\")\n",
    "plt.bar(x_post, silvers_post, width=width, color=\"#c9c8c4\", label=\"Silver Medals\")\n",
    "plt.bar(x_post - width, bronzes_post, width=width, color=\"#8b8251\", label=\"Bronze Medals\")\n",
    "plt.xticks(x_post, countries_post, rotation=90)\n",
    "plt.title(\"Post Soviet Collapse Results\")\n",
    "plt.ylabel(\"Number of Medals\")\n",
    "plt.xlabel(\"Country\")\n",
    "plt.legend()\n",
    "\n",
    "plt.show()"
   ]
  },
  {
   "cell_type": "markdown",
   "metadata": {},
   "source": [
    "Here, the results are split by year, and data is retrieved for each year."
   ]
  },
  {
   "cell_type": "code",
   "execution_count": 76,
   "metadata": {},
   "outputs": [],
   "source": [
    "#creating lists to hold medal counts and other important data by pre vs post collapse\n",
    "countries_pre_collapse = []\n",
    "years_pre_collapse = [1976, 1980, 1984, 1988]\n",
    "golds_pre_collapse = []\n",
    "silvers_pre_collapse = []\n",
    "bronzes_pre_collapse = []\n",
    "golds_1976 = []\n",
    "silvers_1976 = []\n",
    "bronzes_1976 = []\n",
    "golds_1980 = []\n",
    "silvers_1980 = []\n",
    "bronzes_1980 = []\n",
    "golds_1984 = []\n",
    "silvers_1984 = []\n",
    "bronzes_1984 = []\n",
    "golds_1988 = []\n",
    "silvers_1988 = []\n",
    "bronzes_1988 = []\n",
    "\n",
    "countries_post_collapse = []\n",
    "years_post_collapse = [1992, 1996, 2000, 2004, 2008]\n",
    "golds_1992 = []\n",
    "silvers_1992 = []\n",
    "bronzes_1992 = []\n",
    "golds_1996 = []\n",
    "silvers_1996 = []\n",
    "bronzes_1996 = []\n",
    "golds_2000 = []\n",
    "silvers_2000 = []\n",
    "bronzes_2000 = []\n",
    "golds_2004 = []\n",
    "silvers_2004 = []\n",
    "bronzes_2004 = []\n",
    "golds_2008 = []\n",
    "silvers_2008 = []\n",
    "bronzes_2008 = []"
   ]
  },
  {
   "cell_type": "code",
   "execution_count": 77,
   "metadata": {},
   "outputs": [],
   "source": [
    "#function to see how many medals of each type were won by each country pre collapse\n",
    "def medal_counts_pre_collapse(df):\n",
    "    #sort the df by year\n",
    "    yearly_data = df.groupby(\"Year\")\n",
    "    #add the country name to the list\n",
    "    countries_pre_collapse.append(df[\"Country\"][0])\n",
    "    #convert medal counts by year to dictionary\n",
    "    counts = yearly_data[\"Medal\"].value_counts().to_dict()\n",
    "    #get the value of each key to append to the lists, with \"0\" appending if no value exists\n",
    "    golds_1976.append(counts.get((1976.0, \"Gold\"), 0))\n",
    "    silvers_1976.append(counts.get((1976.0, \"Silver\"), 0))\n",
    "    bronzes_1976.append(counts.get((1976.0, \"Bronze\"), 0))\n",
    "    golds_1980.append(counts.get((1980.0, \"Gold\"), 0))\n",
    "    silvers_1980.append(counts.get((1980.0, \"Silver\"), 0))\n",
    "    bronzes_1980.append(counts.get((1980.0, \"Bronze\"), 0))\n",
    "    golds_1984.append(counts.get((1984.0, \"Gold\"), 0))\n",
    "    silvers_1984.append(counts.get((1984.0, \"Silver\"), 0))\n",
    "    bronzes_1984.append(counts.get((1984.0, \"Bronze\"), 0))\n",
    "    golds_1988.append(counts.get((1988.0, \"Gold\"), 0))\n",
    "    silvers_1988.append(counts.get((1988.0, \"Silver\"), 0))\n",
    "    bronzes_1988.append(counts.get((1988.0, \"Bronze\"), 0))"
   ]
  },
  {
   "cell_type": "code",
   "execution_count": 78,
   "metadata": {},
   "outputs": [],
   "source": [
    "#function to see how many medals of each type were won by each country post collapse\n",
    "def medal_counts_post_collapse(df):\n",
    "    #sort the df by year\n",
    "    yearly_data = df.groupby(\"Year\")\n",
    "    #add the country name to the list\n",
    "    countries_post_collapse.append(df[\"Country\"][0])\n",
    "    #convert medal counts by year to dictionary\n",
    "    counts = yearly_data[\"Medal\"].value_counts().to_dict()\n",
    "    #get the value of each key to append to the lists, with \"0\" appending if no value exists\n",
    "    golds_1992.append(counts.get((1992.0, \"Gold\"), 0))\n",
    "    silvers_1992.append(counts.get((1992.0, \"Silver\"), 0))\n",
    "    bronzes_1992.append(counts.get((1992.0, \"Bronze\"), 0))\n",
    "    golds_1996.append(counts.get((1996.0, \"Gold\"), 0))\n",
    "    silvers_1996.append(counts.get((1996.0, \"Silver\"), 0))\n",
    "    bronzes_1996.append(counts.get((1996.0, \"Bronze\"), 0))\n",
    "    golds_2000.append(counts.get((2000.0, \"Gold\"), 0))\n",
    "    silvers_2000.append(counts.get((2000.0, \"Silver\"), 0))\n",
    "    bronzes_2000.append(counts.get((2000.0, \"Bronze\"), 0))\n",
    "    golds_2004.append(counts.get((2004.0, \"Gold\"), 0))\n",
    "    silvers_2004.append(counts.get((2004.0, \"Silver\"), 0))\n",
    "    bronzes_2004.append(counts.get((2004.0, \"Bronze\"), 0))\n",
    "    golds_2008.append(counts.get((2008.0, \"Gold\"), 0))\n",
    "    silvers_2008.append(counts.get((2008.0, \"Silver\"), 0))\n",
    "    bronzes_2008.append(counts.get((2008.0, \"Bronze\"), 0))       "
   ]
  },
  {
   "cell_type": "code",
   "execution_count": 79,
   "metadata": {},
   "outputs": [],
   "source": [
    "#running the year counts fuctions on the appropriate countries\n",
    "for country in pre_collapse_dfs:\n",
    "    medal_counts_pre_collapse(country)\n",
    "    \n",
    "for country in post_collapse_dfs:\n",
    "    medal_counts_post_collapse(country)"
   ]
  },
  {
   "cell_type": "code",
   "execution_count": null,
   "metadata": {},
   "outputs": [],
   "source": []
  }
 ],
 "metadata": {
  "kernelspec": {
   "display_name": "Python 3",
   "language": "python",
   "name": "python3"
  },
  "language_info": {
   "codemirror_mode": {
    "name": "ipython",
    "version": 3
   },
   "file_extension": ".py",
   "mimetype": "text/x-python",
   "name": "python",
   "nbconvert_exporter": "python",
   "pygments_lexer": "ipython3",
   "version": "3.8.5"
  }
 },
 "nbformat": 4,
 "nbformat_minor": 4
}
