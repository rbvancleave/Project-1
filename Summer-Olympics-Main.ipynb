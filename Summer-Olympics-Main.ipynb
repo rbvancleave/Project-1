{
 "cells": [
  {
   "cell_type": "code",
   "execution_count": 120,
   "metadata": {},
   "outputs": [],
   "source": [
    "#import dependencies\n",
    "import pandas as pd\n",
    "import matplotlib.pyplot as plt\n",
    "import numpy as np\n",
    "import scipy as sp\n",
    "import requests\n",
    "import json"
   ]
  },
  {
   "cell_type": "code",
   "execution_count": 203,
   "metadata": {
    "scrolled": false
   },
   "outputs": [
    {
     "data": {
      "text/html": [
       "<div>\n",
       "<style scoped>\n",
       "    .dataframe tbody tr th:only-of-type {\n",
       "        vertical-align: middle;\n",
       "    }\n",
       "\n",
       "    .dataframe tbody tr th {\n",
       "        vertical-align: top;\n",
       "    }\n",
       "\n",
       "    .dataframe thead th {\n",
       "        text-align: right;\n",
       "    }\n",
       "</style>\n",
       "<table border=\"1\" class=\"dataframe\">\n",
       "  <thead>\n",
       "    <tr style=\"text-align: right;\">\n",
       "      <th></th>\n",
       "      <th>City</th>\n",
       "      <th>Year</th>\n",
       "      <th>Sport</th>\n",
       "      <th>Discipline</th>\n",
       "      <th>Event</th>\n",
       "      <th>Athlete</th>\n",
       "      <th>Gender</th>\n",
       "      <th>Country_Code</th>\n",
       "      <th>Country</th>\n",
       "      <th>Event_gender</th>\n",
       "      <th>Medal</th>\n",
       "    </tr>\n",
       "  </thead>\n",
       "  <tbody>\n",
       "    <tr>\n",
       "      <th>0</th>\n",
       "      <td>Montreal</td>\n",
       "      <td>1976.0</td>\n",
       "      <td>Aquatics</td>\n",
       "      <td>Diving</td>\n",
       "      <td>3m springboard</td>\n",
       "      <td>KÖHLER, Christa</td>\n",
       "      <td>Women</td>\n",
       "      <td>GDR</td>\n",
       "      <td>East Germany</td>\n",
       "      <td>W</td>\n",
       "      <td>Silver</td>\n",
       "    </tr>\n",
       "    <tr>\n",
       "      <th>1</th>\n",
       "      <td>Montreal</td>\n",
       "      <td>1976.0</td>\n",
       "      <td>Aquatics</td>\n",
       "      <td>Diving</td>\n",
       "      <td>3m springboard</td>\n",
       "      <td>KOSENKOV, Aleksandr</td>\n",
       "      <td>Men</td>\n",
       "      <td>URS</td>\n",
       "      <td>Soviet Union</td>\n",
       "      <td>M</td>\n",
       "      <td>Bronze</td>\n",
       "    </tr>\n",
       "    <tr>\n",
       "      <th>2</th>\n",
       "      <td>Montreal</td>\n",
       "      <td>1976.0</td>\n",
       "      <td>Aquatics</td>\n",
       "      <td>Diving</td>\n",
       "      <td>3m springboard</td>\n",
       "      <td>BOGGS, Philip George</td>\n",
       "      <td>Men</td>\n",
       "      <td>USA</td>\n",
       "      <td>United States</td>\n",
       "      <td>M</td>\n",
       "      <td>Gold</td>\n",
       "    </tr>\n",
       "    <tr>\n",
       "      <th>3</th>\n",
       "      <td>Montreal</td>\n",
       "      <td>1976.0</td>\n",
       "      <td>Aquatics</td>\n",
       "      <td>Diving</td>\n",
       "      <td>3m springboard</td>\n",
       "      <td>CAGNOTTO, Giorgio Franco</td>\n",
       "      <td>Men</td>\n",
       "      <td>ITA</td>\n",
       "      <td>Italy</td>\n",
       "      <td>M</td>\n",
       "      <td>Silver</td>\n",
       "    </tr>\n",
       "    <tr>\n",
       "      <th>4</th>\n",
       "      <td>Montreal</td>\n",
       "      <td>1976.0</td>\n",
       "      <td>Aquatics</td>\n",
       "      <td>Diving</td>\n",
       "      <td>10m platform</td>\n",
       "      <td>WILSON, Deborah Keplar</td>\n",
       "      <td>Women</td>\n",
       "      <td>USA</td>\n",
       "      <td>United States</td>\n",
       "      <td>W</td>\n",
       "      <td>Bronze</td>\n",
       "    </tr>\n",
       "  </tbody>\n",
       "</table>\n",
       "</div>"
      ],
      "text/plain": [
       "       City    Year     Sport Discipline           Event  \\\n",
       "0  Montreal  1976.0  Aquatics     Diving  3m springboard   \n",
       "1  Montreal  1976.0  Aquatics     Diving  3m springboard   \n",
       "2  Montreal  1976.0  Aquatics     Diving  3m springboard   \n",
       "3  Montreal  1976.0  Aquatics     Diving  3m springboard   \n",
       "4  Montreal  1976.0  Aquatics     Diving    10m platform   \n",
       "\n",
       "                    Athlete Gender Country_Code        Country Event_gender  \\\n",
       "0           KÖHLER, Christa  Women          GDR   East Germany            W   \n",
       "1       KOSENKOV, Aleksandr    Men          URS   Soviet Union            M   \n",
       "2      BOGGS, Philip George    Men          USA  United States            M   \n",
       "3  CAGNOTTO, Giorgio Franco    Men          ITA          Italy            M   \n",
       "4    WILSON, Deborah Keplar  Women          USA  United States            W   \n",
       "\n",
       "    Medal  \n",
       "0  Silver  \n",
       "1  Bronze  \n",
       "2    Gold  \n",
       "3  Silver  \n",
       "4  Bronze  "
      ]
     },
     "execution_count": 203,
     "metadata": {},
     "output_type": "execute_result"
    }
   ],
   "source": [
    "#load in csv\n",
    "olympics_data = pd.read_csv(\"Summer-Olympic-medals-1976-to-2008.csv\", encoding=\"latin-1\")\n",
    "olympics_data.dropna(inplace=True)\n",
    "olympics_data.head()"
   ]
  },
  {
   "cell_type": "markdown",
   "metadata": {},
   "source": [
    "# Comparing the Results of Countries Pre- and Post- Extreme Regime Changes"
   ]
  },
  {
   "cell_type": "markdown",
   "metadata": {},
   "source": [
    "There were 15 countries in the Soviet Union: Armenia, Azerbaijan, Belarus, Estonia, Georgia, Kazakhstan, Kyrgyzstan, Latvia, Lithuania, Moldova, Russia, Tajikistan, Turkmenistan, Ukraine, and Uzbekistan (https://www.infobloom.com/which-countries-were-part-of-the-soviet-union.htm). East and West Germany became one united Germany. This section looks at The performance of the Soviet Union's perforance during the olympics pre-1992 (since it collapsed in 1991) and compares it to the performance of these 15 countries from 1992 on. Similarly, the performances of East and West Germany during the olympics pre-1992 (since they unified in 1990 (https://www.history.com/this-day-in-history/east-and-west-germany-reunite-after-45-years)) willbe compared to the performance of Germany from 1992 on. - Kaylie S."
   ]
  },
  {
   "cell_type": "code",
   "execution_count": 204,
   "metadata": {},
   "outputs": [
    {
     "data": {
      "text/plain": [
       "array(['Afghanistan', 'Algeria', 'Argentina', 'Armenia', 'Australia',\n",
       "       'Austria', 'Azerbaijan', 'Bahamas', 'Barbados', 'Belarus',\n",
       "       'Belgium', 'Bermuda*', 'Brazil', 'Bulgaria', 'Burundi', 'Cameroon',\n",
       "       'Canada', 'Chile', 'China', 'Colombia', 'Costa Rica',\n",
       "       \"Cote d'Ivoire\", 'Croatia', 'Cuba', 'Czech Republic',\n",
       "       'Czechoslovakia', 'Denmark', 'Djibouti', 'Dominican Republic',\n",
       "       'East Germany', 'Ecuador', 'Egypt', 'Eritrea', 'Estonia',\n",
       "       'Ethiopia', 'Finland', 'France', 'Georgia', 'Germany', 'Ghana',\n",
       "       'Greece', 'Guyana', 'Hong Kong*', 'Hungary', 'Iceland',\n",
       "       'Independent Olympic Participants (1992)', 'India', 'Indonesia',\n",
       "       'Iran', 'Ireland', 'Israel', 'Italy', 'Jamaica', 'Japan',\n",
       "       'Kazakhstan', 'Kenya', 'Korea, North', 'Korea, South', 'Kuwait',\n",
       "       'Kyrgyzstan', 'Latvia', 'Lebanon', 'Lithuania', 'Macedonia',\n",
       "       'Malaysia', 'Mauritius', 'Mexico', 'Moldova', 'Mongolia',\n",
       "       'Morocco', 'Mozambique', 'Namibia', 'Netherlands',\n",
       "       'Netherlands Antilles*', 'New Zealand', 'Nigeria', 'Norway',\n",
       "       'Pakistan', 'Panama', 'Paraguay', 'Peru', 'Philippines', 'Poland',\n",
       "       'Portugal', 'Puerto Rico*', 'Qatar', 'Romania', 'Russia',\n",
       "       'Saudi Arabia', 'Senegal', 'Serbia', 'Singapore', 'Slovakia',\n",
       "       'Slovenia', 'South Africa', 'Soviet Union', 'Spain', 'Sri Lanka',\n",
       "       'Sudan', 'Suriname', 'Sweden', 'Switzerland', 'Syria', 'Taiwan',\n",
       "       'Tajikistan', 'Tanzania', 'Thailand', 'Togo', 'Tonga',\n",
       "       'Trinidad and Tobago', 'Tunisia', 'Turkey', 'Uganda', 'Ukraine',\n",
       "       'Unified team', 'United Arab Emirates', 'United Kingdom',\n",
       "       'United States', 'Uruguay', 'Uzbekistan', 'Venezuela', 'Vietnam',\n",
       "       'Virgin Islands*', 'West Germany', 'Yugoslavia', 'Zambia',\n",
       "       'Zimbabwe'], dtype=object)"
      ]
     },
     "execution_count": 204,
     "metadata": {},
     "output_type": "execute_result"
    }
   ],
   "source": [
    "#seeing which countries appear on the list\n",
    "olympics_data[\"Country\"].sort_values().unique()"
   ]
  },
  {
   "cell_type": "markdown",
   "metadata": {},
   "source": [
    "We can see from above that from 1992 to 2008, Turkmenistan did not win a medal at all, and will not be included in the analysis until the end."
   ]
  },
  {
   "cell_type": "code",
   "execution_count": 205,
   "metadata": {},
   "outputs": [],
   "source": [
    "#group the olymics data by country\n",
    "country_olympics_data = olympics_data.groupby(\"Country\")\n",
    "\n",
    "#pull the data for the Soviet Union and former Soviet countries into separate dataframes\n",
    "soviet_data = country_olympics_data.get_group(\"Soviet Union\").reset_index()\n",
    "armenia_data = country_olympics_data.get_group(\"Armenia\").reset_index()\n",
    "azerbaijan_data = country_olympics_data.get_group(\"Azerbaijan\").reset_index()\n",
    "belarus_data = country_olympics_data.get_group(\"Belarus\").reset_index()\n",
    "estonia_data = country_olympics_data.get_group(\"Estonia\").reset_index()\n",
    "georgia_data = country_olympics_data.get_group(\"Georgia\").reset_index()\n",
    "kazakhstan_data = country_olympics_data.get_group(\"Kazakhstan\").reset_index()\n",
    "kyrgyzstan_data = country_olympics_data.get_group(\"Kyrgyzstan\").reset_index()\n",
    "latvia_data = country_olympics_data.get_group(\"Latvia\").reset_index()\n",
    "lithuania_data = country_olympics_data.get_group(\"Lithuania\").reset_index()\n",
    "moldova_data = country_olympics_data.get_group(\"Moldova\").reset_index()\n",
    "russia_data = country_olympics_data.get_group(\"Russia\").reset_index()\n",
    "tajikistan_data = country_olympics_data.get_group(\"Tajikistan\").reset_index()\n",
    "ukraine_data = country_olympics_data.get_group(\"Ukraine\").reset_index()\n",
    "uzbekistan_data = country_olympics_data.get_group(\"Uzbekistan\").reset_index()\n",
    "\n",
    "#pull the data for East, West, and united Germany into separate dataframes\n",
    "east_germany_data = country_olympics_data.get_group(\"East Germany\").reset_index()\n",
    "west_germany_data = country_olympics_data.get_group(\"West Germany\").reset_index()\n",
    "germany_data = country_olympics_data.get_group(\"Germany\").reset_index()"
   ]
  },
  {
   "cell_type": "code",
   "execution_count": 206,
   "metadata": {},
   "outputs": [],
   "source": [
    "#saving pre and post collapse countries to lists\n",
    "pre_collapse_dfs = [soviet_data, east_germany_data, west_germany_data]\n",
    "post_collapse_dfs = [armenia_data, azerbaijan_data, belarus_data, estonia_data, georgia_data, kazakhstan_data, kyrgyzstan_data, \n",
    "                latvia_data, lithuania_data, moldova_data, russia_data, tajikistan_data, ukraine_data, uzbekistan_data, germany_data]"
   ]
  },
  {
   "cell_type": "markdown",
   "metadata": {},
   "source": [
    "Here, the total medal counts for the country, regardless of year, are calculated."
   ]
  },
  {
   "cell_type": "code",
   "execution_count": 207,
   "metadata": {},
   "outputs": [],
   "source": [
    "#lists for countries and medal counts\n",
    "countries_pre = []\n",
    "golds_pre = []\n",
    "silvers_pre = []\n",
    "bronzes_pre = []\n",
    "\n",
    "countries_post = []\n",
    "golds_post = []\n",
    "silvers_post = []\n",
    "bronzes_post = []\n",
    "\n",
    "#create functions to give a total medal count\n",
    "def total_medal_count_pre(df):\n",
    "    #convert medal counts to dictionary\n",
    "    counts = df[\"Medal\"].value_counts().to_dict()\n",
    "    countries_pre.append(df[\"Country\"][0])\n",
    "    #get the value of each key to append to the lists, with \"0\" appending if no value exists\n",
    "    golds_pre.append(counts.get((\"Gold\"), 0))\n",
    "    silvers_pre.append(counts.get((\"Silver\"), 0))\n",
    "    bronzes_pre.append(counts.get((\"Bronze\"), 0))\n",
    "    \n",
    "def total_medal_count_post(df):\n",
    "    #convert medal counts to dictionary\n",
    "    counts = df[\"Medal\"].value_counts().to_dict()\n",
    "    countries_post.append(df[\"Country\"][0])\n",
    "    #get the value of each key to append to the lists, with \"0\" appending if no value exists\n",
    "    golds_post.append(counts.get((\"Gold\"), 0))\n",
    "    silvers_post.append(counts.get((\"Silver\"), 0))\n",
    "    bronzes_post.append(counts.get((\"Bronze\"), 0))\n",
    "    \n",
    "#running the function on all countries\n",
    "for country in pre_collapse_dfs:\n",
    "    total_medal_count_pre(country)\n",
    "    \n",
    "for country in post_collapse_dfs:\n",
    "    total_medal_count_post(country)"
   ]
  },
  {
   "cell_type": "markdown",
   "metadata": {},
   "source": [
    "Below we are comparing East and West Germany(1976-1988) to Germany (1992-2008)."
   ]
  },
  {
   "cell_type": "code",
   "execution_count": 208,
   "metadata": {},
   "outputs": [
    {
     "data": {
      "image/png": "[encoded data removed]",
      "text/plain": [
       "<Figure size 432x288 with 1 Axes>"
      ]
     },
     "metadata": {
      "needs_background": "light"
     },
     "output_type": "display_data"
    }
   ],
   "source": [
    "#setting up Germany comparison\n",
    "german_comparison = {\n",
    "    \"Countries\": [countries_pre[1], countries_pre[2], countries_post[-1]],\n",
    "    \"Golds\": [golds_pre[1], golds_pre[2], golds_post[-1]],\n",
    "    \"Silvers\": [silvers_pre[1], silvers_pre[2], silvers_post[-1]],\n",
    "    \"Bronzes\": [bronzes_pre[1], bronzes_pre[2], bronzes_post[-1]],\n",
    "}\n",
    "\n",
    "#plotting germany comparison\n",
    "width = 0.275\n",
    "x_germ = np.array(range(len(pre_collapse_dfs)))\n",
    "\n",
    "plt.bar(x_germ + width, german_comparison[\"Golds\"], width=width, color=\"#d2b103\", label=\"Gold Medals\")\n",
    "plt.bar(x_germ, german_comparison[\"Silvers\"], width=width, color=\"#c9c8c4\", label=\"Silver Medals\")\n",
    "plt.bar(x_germ - width, german_comparison[\"Bronzes\"], width=width, color=\"#8b8251\", label=\"Bronze Medals\")\n",
    "plt.xticks(x_germ, german_comparison[\"Countries\"])\n",
    "plt.title(\"East and West Germany (1976-1988) vs Germany (1992-2008)\")\n",
    "plt.ylabel(\"Number of Medals\")\n",
    "plt.xlabel(\"Country\")\n",
    "plt.legend()\n",
    "\n",
    "plt.show()"
   ]
  },
  {
   "cell_type": "code",
   "execution_count": 209,
   "metadata": {
    "scrolled": false
   },
   "outputs": [
    {
     "data": {
      "image/png": "[encoded data removed]",
      "text/plain": [
       "<Figure size 432x288 with 1 Axes>"
      ]
     },
     "metadata": {
      "needs_background": "light"
     },
     "output_type": "display_data"
    }
   ],
   "source": [
    "#combining east and west germany stats\n",
    "ew_germany = \"East and West Germany (Combined)\"\n",
    "ew_golds = sum(golds_pre[1:])\n",
    "ew_silvers= sum(silvers_pre[1:])\n",
    "ew_bronzes = sum(bronzes_pre[1:])\n",
    "\n",
    "combined_german_comparison = {\n",
    "    \"Countries\": [ew_germany, countries_post[-1]],\n",
    "    \"Golds\": [ew_golds, golds_post[-1]],\n",
    "    \"Silvers\": [ew_silvers, silvers_post[-1]],\n",
    "    \"Bronzes\": [ew_bronzes, bronzes_post[-1]],\n",
    "}\n",
    "\n",
    "#plotting germany comparison\n",
    "width = 0.275\n",
    "x_germ_com = np.array(range(2))\n",
    "\n",
    "plt.bar(x_germ_com + width, combined_german_comparison[\"Golds\"], width=width, color=\"#d2b103\", label=\"Gold Medals\")\n",
    "plt.bar(x_germ_com, combined_german_comparison[\"Silvers\"], width=width, color=\"#c9c8c4\", label=\"Silver Medals\")\n",
    "plt.bar(x_germ_com - width, combined_german_comparison[\"Bronzes\"], width=width, color=\"#8b8251\", label=\"Bronze Medals\")\n",
    "plt.xticks(x_germ_com, combined_german_comparison[\"Countries\"])\n",
    "plt.title(\"East and West Germany Combined (1976-1988) vs Germany (1992-2008)\")\n",
    "plt.ylabel(\"Number of Medals\")\n",
    "plt.xlabel(\"Country\")\n",
    "plt.legend()\n",
    "\n",
    "plt.show()"
   ]
  },
  {
   "cell_type": "markdown",
   "metadata": {},
   "source": [
    "Below we are comparing the Soviet Union (1976-1988) to all the former Soviet countries (1992-2008)."
   ]
  },
  {
   "cell_type": "code",
   "execution_count": 210,
   "metadata": {},
   "outputs": [
    {
     "data": {
      "image/png": "[encoded data removed]",
      "text/plain": [
       "<Figure size 432x288 with 1 Axes>"
      ]
     },
     "metadata": {
      "needs_background": "light"
     },
     "output_type": "display_data"
    }
   ],
   "source": [
    "#setting up Soviet comparison\n",
    "soviet_countries = countries_post[:-1]\n",
    "soviet_countries.append(countries_pre[0])\n",
    "soviet_golds = golds_post[:-1]\n",
    "soviet_golds.append(golds_pre[0])\n",
    "soviet_silvers = silvers_post[:-1]\n",
    "soviet_silvers.append(silvers_pre[0])\n",
    "soviet_bronzes = bronzes_post[:-1]\n",
    "soviet_bronzes.append(bronzes_pre[0])\n",
    "\n",
    "#plotting soviet comparison\n",
    "width = 0.275\n",
    "x_sov = np.array(range(len(post_collapse_dfs)))\n",
    "\n",
    "plt.bar(x_sov + width, soviet_golds, width=width, color=\"#d2b103\", label=\"Gold Medals\")\n",
    "plt.bar(x_sov, soviet_silvers, width=width, color=\"#c9c8c4\", label=\"Silver Medals\")\n",
    "plt.bar(x_sov - width, soviet_bronzes, width=width, color=\"#8b8251\", label=\"Bronze Medals\")\n",
    "plt.xticks(x_sov, soviet_countries, rotation=90)\n",
    "plt.title(\"Soviet Union (1976-1988) vs Former Soviet Countries (1992-2008)\")\n",
    "plt.ylabel(\"Number of Medals\")\n",
    "plt.xlabel(\"Country\")\n",
    "plt.legend()\n",
    "\n",
    "plt.show()"
   ]
  },
  {
   "cell_type": "code",
   "execution_count": 211,
   "metadata": {
    "scrolled": true
   },
   "outputs": [
    {
     "data": {
      "image/png": "[encoded data removed]",
      "text/plain": [
       "<Figure size 432x288 with 1 Axes>"
      ]
     },
     "metadata": {
      "needs_background": "light"
     },
     "output_type": "display_data"
    }
   ],
   "source": [
    "#combining post soviet country data\n",
    "post_soviet_countries = [\"Former Soviet Union Countries\", \"Soviet Union\"]\n",
    "post_soviet_golds = sum(golds_post[:-1])\n",
    "post_soviet_silvers = sum(silvers_post[:-1])\n",
    "post_soviet_bronzes = sum(bronzes_post[:-1])\n",
    "\n",
    "#plotting soviet comparison\n",
    "width = 0.275\n",
    "x_sov = np.array(range(2))\n",
    "\n",
    "plt.bar(x_sov + width, post_soviet_golds, width=width, color=\"#d2b103\", label=\"Gold Medals\")\n",
    "plt.bar(x_sov, post_soviet_silvers, width=width, color=\"#c9c8c4\", label=\"Silver Medals\")\n",
    "plt.bar(x_sov - width, post_soviet_bronzes, width=width, color=\"#8b8251\", label=\"Bronze Medals\")\n",
    "plt.xticks(x_sov, post_soviet_countries)\n",
    "plt.title(\"Soviet Union (1976-1988) vs Former Soviet Countries Combined (1992-2008)\")\n",
    "plt.ylabel(\"Number of Medals\")\n",
    "plt.xlabel(\"Country\")\n",
    "plt.legend()\n",
    "\n",
    "plt.show()"
   ]
  },
  {
   "cell_type": "markdown",
   "metadata": {},
   "source": [
    "Below we have the data grouped by pre-Soviet collapse (1976-1988) and post-Soviet collapse (1992-2008)."
   ]
  },
  {
   "cell_type": "code",
   "execution_count": 212,
   "metadata": {},
   "outputs": [
    {
     "data": {
      "image/png": "[encoded data removed]",
      "text/plain": [
       "<Figure size 432x288 with 1 Axes>"
      ]
     },
     "metadata": {
      "needs_background": "light"
     },
     "output_type": "display_data"
    }
   ],
   "source": [
    "#plotting pre-collapse comparisons\n",
    "width = 0.275\n",
    "x_pre = np.array(range(len(pre_collapse_dfs)))\n",
    "\n",
    "plt.bar(x_pre + width, golds_pre, width=width, color=\"#d2b103\", label=\"Gold Medals\")\n",
    "plt.bar(x_pre, silvers_pre, width=width, color=\"#c9c8c4\", label=\"Silver Medals\")\n",
    "plt.bar(x_pre - width, bronzes_pre, width=width, color=\"#8b8251\", label=\"Bronze Medals\")\n",
    "plt.xticks(x_pre, countries_pre)\n",
    "plt.title(\"Pre Soviet Collapse Results\")\n",
    "plt.ylabel(\"Number of Medals\")\n",
    "plt.xlabel(\"Country\")\n",
    "plt.legend()\n",
    "\n",
    "plt.show()"
   ]
  },
  {
   "cell_type": "code",
   "execution_count": 213,
   "metadata": {
    "scrolled": true
   },
   "outputs": [
    {
     "data": {
      "image/png": "[encoded data removed]",
      "text/plain": [
       "<Figure size 432x288 with 1 Axes>"
      ]
     },
     "metadata": {
      "needs_background": "light"
     },
     "output_type": "display_data"
    }
   ],
   "source": [
    "#plotting post-collapse comparisons\n",
    "width = 0.275\n",
    "x_post = np.array(range(len(post_collapse_dfs)))\n",
    "\n",
    "plt.bar(x_post + width, golds_post, width=width, color=\"#d2b103\", label=\"Gold Medals\")\n",
    "plt.bar(x_post, silvers_post, width=width, color=\"#c9c8c4\", label=\"Silver Medals\")\n",
    "plt.bar(x_post - width, bronzes_post, width=width, color=\"#8b8251\", label=\"Bronze Medals\")\n",
    "plt.xticks(x_post, countries_post, rotation=90)\n",
    "plt.title(\"Post Soviet Collapse Results\")\n",
    "plt.ylabel(\"Number of Medals\")\n",
    "plt.xlabel(\"Country\")\n",
    "plt.legend()\n",
    "\n",
    "plt.show()"
   ]
  },
  {
   "cell_type": "markdown",
   "metadata": {},
   "source": [
    "From the combined data plots, we see that in total, all of the countries from the fromer Soviet union have collectively done about the same as the Soviet Union on its own. Individually, Russia's performance is the closest to the Soviet Union's, but it still falls short of the Soviet Union's performance.\n",
    "\n",
    "For Germany, East and West Germany's combined performance was better than Germany on its own, but individually only East Germany's performance was comperable to GErmany's."
   ]
  },
  {
   "cell_type": "markdown",
   "metadata": {},
   "source": [
    "# Top Performers the Year the Sport is Introduced"
   ]
  },
  {
   "cell_type": "markdown",
   "metadata": {},
   "source": [
    "This section looks at every sport the year it was introduced and returns the country that won the gold for that event."
   ]
  },
  {
   "cell_type": "code",
   "execution_count": 287,
   "metadata": {},
   "outputs": [],
   "source": [
    "#group the data by event\n",
    "events_data = olympics_data.groupby(\"Event\")\n",
    "#get the first year for each event and save it to a list\n",
    "first_years = events_data[\"Year\"].first()\n",
    "#dictionary of first year, sport, gender, and country\n",
    "first_golds = {}\n",
    "\n",
    "#running through the dataframe and the first years to get the remaining data\n",
    "for index, row in olympics_data.iterrows():\n",
    "    for name, value in first_years.items():\n",
    "        if row[\"Event\"] == name and row[\"Year\"] == value and row[\"Medal\"] == \"Gold\":\n",
    "            first_golds[name] = [row[\"Year\"], row[\"Gender\"], row[\"Country\"]]\n"
   ]
  },
  {
   "cell_type": "code",
   "execution_count": 288,
   "metadata": {},
   "outputs": [
    {
     "data": {
      "text/html": [
       "<div>\n",
       "<style scoped>\n",
       "    .dataframe tbody tr th:only-of-type {\n",
       "        vertical-align: middle;\n",
       "    }\n",
       "\n",
       "    .dataframe tbody tr th {\n",
       "        vertical-align: top;\n",
       "    }\n",
       "\n",
       "    .dataframe thead th {\n",
       "        text-align: right;\n",
       "    }\n",
       "</style>\n",
       "<table border=\"1\" class=\"dataframe\">\n",
       "  <thead>\n",
       "    <tr style=\"text-align: right;\">\n",
       "      <th></th>\n",
       "      <th>Year</th>\n",
       "      <th>Gender</th>\n",
       "      <th>Country</th>\n",
       "    </tr>\n",
       "  </thead>\n",
       "  <tbody>\n",
       "    <tr>\n",
       "      <th>3m springboard</th>\n",
       "      <td>1976.0</td>\n",
       "      <td>Women</td>\n",
       "      <td>United States</td>\n",
       "    </tr>\n",
       "    <tr>\n",
       "      <th>10m platform</th>\n",
       "      <td>1976.0</td>\n",
       "      <td>Men</td>\n",
       "      <td>Italy</td>\n",
       "    </tr>\n",
       "    <tr>\n",
       "      <th>4x100m freestyle relay</th>\n",
       "      <td>1976.0</td>\n",
       "      <td>Women</td>\n",
       "      <td>United States</td>\n",
       "    </tr>\n",
       "    <tr>\n",
       "      <th>4x100m medley relay</th>\n",
       "      <td>1976.0</td>\n",
       "      <td>Women</td>\n",
       "      <td>East Germany</td>\n",
       "    </tr>\n",
       "    <tr>\n",
       "      <th>800m freestyle</th>\n",
       "      <td>1976.0</td>\n",
       "      <td>Women</td>\n",
       "      <td>East Germany</td>\n",
       "    </tr>\n",
       "    <tr>\n",
       "      <th>...</th>\n",
       "      <td>...</td>\n",
       "      <td>...</td>\n",
       "      <td>...</td>\n",
       "    </tr>\n",
       "    <tr>\n",
       "      <th>marathon 10km</th>\n",
       "      <td>2008.0</td>\n",
       "      <td>Men</td>\n",
       "      <td>Netherlands</td>\n",
       "    </tr>\n",
       "    <tr>\n",
       "      <th>Laser Radial - One Person Dinghy</th>\n",
       "      <td>2008.0</td>\n",
       "      <td>Women</td>\n",
       "      <td>United States</td>\n",
       "    </tr>\n",
       "    <tr>\n",
       "      <th>RS:X - Windsurfer</th>\n",
       "      <td>2008.0</td>\n",
       "      <td>Men</td>\n",
       "      <td>New Zealand</td>\n",
       "    </tr>\n",
       "    <tr>\n",
       "      <th>Finn - Heavyweight Dinghy</th>\n",
       "      <td>2008.0</td>\n",
       "      <td>Men</td>\n",
       "      <td>United Kingdom</td>\n",
       "    </tr>\n",
       "    <tr>\n",
       "      <th>Laser - One Person Dinghy</th>\n",
       "      <td>2008.0</td>\n",
       "      <td>Men</td>\n",
       "      <td>United Kingdom</td>\n",
       "    </tr>\n",
       "  </tbody>\n",
       "</table>\n",
       "<p>293 rows × 3 columns</p>\n",
       "</div>"
      ],
      "text/plain": [
       "                                    Year Gender         Country\n",
       "3m springboard                    1976.0  Women   United States\n",
       "10m platform                      1976.0    Men           Italy\n",
       "4x100m freestyle relay            1976.0  Women   United States\n",
       "4x100m medley relay               1976.0  Women    East Germany\n",
       "800m freestyle                    1976.0  Women    East Germany\n",
       "...                                  ...    ...             ...\n",
       "marathon 10km                     2008.0    Men     Netherlands\n",
       "Laser Radial - One Person Dinghy  2008.0  Women   United States\n",
       "RS:X - Windsurfer                 2008.0    Men     New Zealand\n",
       "Finn - Heavyweight Dinghy         2008.0    Men  United Kingdom\n",
       "Laser - One Person Dinghy         2008.0    Men  United Kingdom\n",
       "\n",
       "[293 rows x 3 columns]"
      ]
     },
     "execution_count": 288,
     "metadata": {},
     "output_type": "execute_result"
    }
   ],
   "source": [
    "#creating a summary dataframe\n",
    "first_gold_countries = pd.DataFrame.from_dict(first_golds, orient=\"index\", columns=[\"Year\", \"Gender\", \"Country\"])\n",
    "first_gold_countries"
   ]
  },
  {
   "cell_type": "code",
   "execution_count": null,
   "metadata": {},
   "outputs": [],
   "source": []
  }
 ],
 "metadata": {
  "kernelspec": {
   "display_name": "Python 3",
   "language": "python",
   "name": "python3"
  },
  "language_info": {
   "codemirror_mode": {
    "name": "ipython",
    "version": 3
   },
   "file_extension": ".py",
   "mimetype": "text/x-python",
   "name": "python",
   "nbconvert_exporter": "python",
   "pygments_lexer": "ipython3",
   "version": "3.8.5"
  }
 },
 "nbformat": 4,
 "nbformat_minor": 4
}
